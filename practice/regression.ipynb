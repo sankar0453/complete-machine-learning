{
 "cells": [
  {
   "cell_type": "code",
   "execution_count": 4,
   "metadata": {},
   "outputs": [],
   "source": [
    "import pandas as pd\n",
    "\n",
    "data=pd.read_csv(\"../Data/placement.csv\")"
   ]
  },
  {
   "cell_type": "code",
   "execution_count": 5,
   "metadata": {},
   "outputs": [
    {
     "data": {
      "text/html": [
       "<div>\n",
       "<style scoped>\n",
       "    .dataframe tbody tr th:only-of-type {\n",
       "        vertical-align: middle;\n",
       "    }\n",
       "\n",
       "    .dataframe tbody tr th {\n",
       "        vertical-align: top;\n",
       "    }\n",
       "\n",
       "    .dataframe thead th {\n",
       "        text-align: right;\n",
       "    }\n",
       "</style>\n",
       "<table border=\"1\" class=\"dataframe\">\n",
       "  <thead>\n",
       "    <tr style=\"text-align: right;\">\n",
       "      <th></th>\n",
       "      <th>cgpa</th>\n",
       "      <th>package</th>\n",
       "    </tr>\n",
       "  </thead>\n",
       "  <tbody>\n",
       "    <tr>\n",
       "      <th>0</th>\n",
       "      <td>6.89</td>\n",
       "      <td>3.26</td>\n",
       "    </tr>\n",
       "    <tr>\n",
       "      <th>1</th>\n",
       "      <td>5.12</td>\n",
       "      <td>1.98</td>\n",
       "    </tr>\n",
       "    <tr>\n",
       "      <th>2</th>\n",
       "      <td>7.82</td>\n",
       "      <td>3.25</td>\n",
       "    </tr>\n",
       "    <tr>\n",
       "      <th>3</th>\n",
       "      <td>7.42</td>\n",
       "      <td>3.67</td>\n",
       "    </tr>\n",
       "    <tr>\n",
       "      <th>4</th>\n",
       "      <td>6.94</td>\n",
       "      <td>3.57</td>\n",
       "    </tr>\n",
       "  </tbody>\n",
       "</table>\n",
       "</div>"
      ],
      "text/plain": [
       "   cgpa  package\n",
       "0  6.89     3.26\n",
       "1  5.12     1.98\n",
       "2  7.82     3.25\n",
       "3  7.42     3.67\n",
       "4  6.94     3.57"
      ]
     },
     "execution_count": 5,
     "metadata": {},
     "output_type": "execute_result"
    }
   ],
   "source": [
    "data.head()"
   ]
  },
  {
   "cell_type": "code",
   "execution_count": 6,
   "metadata": {},
   "outputs": [
    {
     "name": "stdout",
     "output_type": "stream",
     "text": [
      "<class 'pandas.core.frame.DataFrame'>\n",
      "RangeIndex: 200 entries, 0 to 199\n",
      "Data columns (total 2 columns):\n",
      " #   Column   Non-Null Count  Dtype  \n",
      "---  ------   --------------  -----  \n",
      " 0   cgpa     200 non-null    float64\n",
      " 1   package  200 non-null    float64\n",
      "dtypes: float64(2)\n",
      "memory usage: 3.2 KB\n"
     ]
    }
   ],
   "source": [
    "data.info()"
   ]
  },
  {
   "cell_type": "code",
   "execution_count": 7,
   "metadata": {},
   "outputs": [
    {
     "data": {
      "text/html": [
       "<div>\n",
       "<style scoped>\n",
       "    .dataframe tbody tr th:only-of-type {\n",
       "        vertical-align: middle;\n",
       "    }\n",
       "\n",
       "    .dataframe tbody tr th {\n",
       "        vertical-align: top;\n",
       "    }\n",
       "\n",
       "    .dataframe thead th {\n",
       "        text-align: right;\n",
       "    }\n",
       "</style>\n",
       "<table border=\"1\" class=\"dataframe\">\n",
       "  <thead>\n",
       "    <tr style=\"text-align: right;\">\n",
       "      <th></th>\n",
       "      <th>cgpa</th>\n",
       "      <th>package</th>\n",
       "    </tr>\n",
       "  </thead>\n",
       "  <tbody>\n",
       "    <tr>\n",
       "      <th>count</th>\n",
       "      <td>200.000000</td>\n",
       "      <td>200.000000</td>\n",
       "    </tr>\n",
       "    <tr>\n",
       "      <th>mean</th>\n",
       "      <td>6.990500</td>\n",
       "      <td>2.996050</td>\n",
       "    </tr>\n",
       "    <tr>\n",
       "      <th>std</th>\n",
       "      <td>1.069409</td>\n",
       "      <td>0.691644</td>\n",
       "    </tr>\n",
       "    <tr>\n",
       "      <th>min</th>\n",
       "      <td>4.260000</td>\n",
       "      <td>1.370000</td>\n",
       "    </tr>\n",
       "    <tr>\n",
       "      <th>25%</th>\n",
       "      <td>6.190000</td>\n",
       "      <td>2.487500</td>\n",
       "    </tr>\n",
       "    <tr>\n",
       "      <th>50%</th>\n",
       "      <td>6.965000</td>\n",
       "      <td>2.995000</td>\n",
       "    </tr>\n",
       "    <tr>\n",
       "      <th>75%</th>\n",
       "      <td>7.737500</td>\n",
       "      <td>3.492500</td>\n",
       "    </tr>\n",
       "    <tr>\n",
       "      <th>max</th>\n",
       "      <td>9.580000</td>\n",
       "      <td>4.620000</td>\n",
       "    </tr>\n",
       "  </tbody>\n",
       "</table>\n",
       "</div>"
      ],
      "text/plain": [
       "             cgpa     package\n",
       "count  200.000000  200.000000\n",
       "mean     6.990500    2.996050\n",
       "std      1.069409    0.691644\n",
       "min      4.260000    1.370000\n",
       "25%      6.190000    2.487500\n",
       "50%      6.965000    2.995000\n",
       "75%      7.737500    3.492500\n",
       "max      9.580000    4.620000"
      ]
     },
     "execution_count": 7,
     "metadata": {},
     "output_type": "execute_result"
    }
   ],
   "source": [
    "data.describe()"
   ]
  },
  {
   "cell_type": "code",
   "execution_count": 8,
   "metadata": {},
   "outputs": [
    {
     "data": {
      "text/plain": [
       "(200, 2)"
      ]
     },
     "execution_count": 8,
     "metadata": {},
     "output_type": "execute_result"
    }
   ],
   "source": [
    "data.shape"
   ]
  },
  {
   "cell_type": "code",
   "execution_count": 10,
   "metadata": {},
   "outputs": [
    {
     "data": {
      "text/plain": [
       "Text(0, 0.5, 'package')"
      ]
     },
     "execution_count": 10,
     "metadata": {},
     "output_type": "execute_result"
    },
    {
     "data": {
      "image/png": "[encoded data removed]",
      "text/plain": [
       "<Figure size 640x480 with 1 Axes>"
      ]
     },
     "metadata": {},
     "output_type": "display_data"
    }
   ],
   "source": [
    "import matplotlib.pyplot as plt\n",
    "plt.scatter(data[\"cgpa\"],data[\"package\"])\n",
    "plt.xlabel(\"CGPA\")\n",
    "plt.ylabel(\"package\")"
   ]
  },
  {
   "cell_type": "code",
   "execution_count": 19,
   "metadata": {},
   "outputs": [],
   "source": [
    "X=data.iloc[:,0:1]\n",
    "y=data.iloc[:,-1]"
   ]
  },
  {
   "cell_type": "code",
   "execution_count": 32,
   "metadata": {},
   "outputs": [
    {
     "data": {
      "text/html": [
       "<div>\n",
       "<style scoped>\n",
       "    .dataframe tbody tr th:only-of-type {\n",
       "        vertical-align: middle;\n",
       "    }\n",
       "\n",
       "    .dataframe tbody tr th {\n",
       "        vertical-align: top;\n",
       "    }\n",
       "\n",
       "    .dataframe thead th {\n",
       "        text-align: right;\n",
       "    }\n",
       "</style>\n",
       "<table border=\"1\" class=\"dataframe\">\n",
       "  <thead>\n",
       "    <tr style=\"text-align: right;\">\n",
       "      <th></th>\n",
       "      <th>cgpa</th>\n",
       "    </tr>\n",
       "  </thead>\n",
       "  <tbody>\n",
       "    <tr>\n",
       "      <th>0</th>\n",
       "      <td>6.89</td>\n",
       "    </tr>\n",
       "    <tr>\n",
       "      <th>1</th>\n",
       "      <td>5.12</td>\n",
       "    </tr>\n",
       "    <tr>\n",
       "      <th>2</th>\n",
       "      <td>7.82</td>\n",
       "    </tr>\n",
       "    <tr>\n",
       "      <th>3</th>\n",
       "      <td>7.42</td>\n",
       "    </tr>\n",
       "    <tr>\n",
       "      <th>4</th>\n",
       "      <td>6.94</td>\n",
       "    </tr>\n",
       "    <tr>\n",
       "      <th>...</th>\n",
       "      <td>...</td>\n",
       "    </tr>\n",
       "    <tr>\n",
       "      <th>195</th>\n",
       "      <td>6.93</td>\n",
       "    </tr>\n",
       "    <tr>\n",
       "      <th>196</th>\n",
       "      <td>5.89</td>\n",
       "    </tr>\n",
       "    <tr>\n",
       "      <th>197</th>\n",
       "      <td>7.21</td>\n",
       "    </tr>\n",
       "    <tr>\n",
       "      <th>198</th>\n",
       "      <td>7.63</td>\n",
       "    </tr>\n",
       "    <tr>\n",
       "      <th>199</th>\n",
       "      <td>6.22</td>\n",
       "    </tr>\n",
       "  </tbody>\n",
       "</table>\n",
       "<p>200 rows × 1 columns</p>\n",
       "</div>"
      ],
      "text/plain": [
       "     cgpa\n",
       "0    6.89\n",
       "1    5.12\n",
       "2    7.82\n",
       "3    7.42\n",
       "4    6.94\n",
       "..    ...\n",
       "195  6.93\n",
       "196  5.89\n",
       "197  7.21\n",
       "198  7.63\n",
       "199  6.22\n",
       "\n",
       "[200 rows x 1 columns]"
      ]
     },
     "execution_count": 32,
     "metadata": {},
     "output_type": "execute_result"
    }
   ],
   "source": [
    "data.iloc[:,0:1]"
   ]
  },
  {
   "cell_type": "code",
   "execution_count": 33,
   "metadata": {},
   "outputs": [
    {
     "data": {
      "text/html": [
       "<div>\n",
       "<style scoped>\n",
       "    .dataframe tbody tr th:only-of-type {\n",
       "        vertical-align: middle;\n",
       "    }\n",
       "\n",
       "    .dataframe tbody tr th {\n",
       "        vertical-align: top;\n",
       "    }\n",
       "\n",
       "    .dataframe thead th {\n",
       "        text-align: right;\n",
       "    }\n",
       "</style>\n",
       "<table border=\"1\" class=\"dataframe\">\n",
       "  <thead>\n",
       "    <tr style=\"text-align: right;\">\n",
       "      <th></th>\n",
       "      <th>cgpa</th>\n",
       "    </tr>\n",
       "  </thead>\n",
       "  <tbody>\n",
       "    <tr>\n",
       "      <th>0</th>\n",
       "      <td>6.89</td>\n",
       "    </tr>\n",
       "    <tr>\n",
       "      <th>1</th>\n",
       "      <td>5.12</td>\n",
       "    </tr>\n",
       "    <tr>\n",
       "      <th>2</th>\n",
       "      <td>7.82</td>\n",
       "    </tr>\n",
       "    <tr>\n",
       "      <th>3</th>\n",
       "      <td>7.42</td>\n",
       "    </tr>\n",
       "    <tr>\n",
       "      <th>4</th>\n",
       "      <td>6.94</td>\n",
       "    </tr>\n",
       "    <tr>\n",
       "      <th>...</th>\n",
       "      <td>...</td>\n",
       "    </tr>\n",
       "    <tr>\n",
       "      <th>195</th>\n",
       "      <td>6.93</td>\n",
       "    </tr>\n",
       "    <tr>\n",
       "      <th>196</th>\n",
       "      <td>5.89</td>\n",
       "    </tr>\n",
       "    <tr>\n",
       "      <th>197</th>\n",
       "      <td>7.21</td>\n",
       "    </tr>\n",
       "    <tr>\n",
       "      <th>198</th>\n",
       "      <td>7.63</td>\n",
       "    </tr>\n",
       "    <tr>\n",
       "      <th>199</th>\n",
       "      <td>6.22</td>\n",
       "    </tr>\n",
       "  </tbody>\n",
       "</table>\n",
       "<p>200 rows × 1 columns</p>\n",
       "</div>"
      ],
      "text/plain": [
       "     cgpa\n",
       "0    6.89\n",
       "1    5.12\n",
       "2    7.82\n",
       "3    7.42\n",
       "4    6.94\n",
       "..    ...\n",
       "195  6.93\n",
       "196  5.89\n",
       "197  7.21\n",
       "198  7.63\n",
       "199  6.22\n",
       "\n",
       "[200 rows x 1 columns]"
      ]
     },
     "execution_count": 33,
     "metadata": {},
     "output_type": "execute_result"
    }
   ],
   "source": [
    "X"
   ]
  },
  {
   "cell_type": "code",
   "execution_count": 34,
   "metadata": {},
   "outputs": [],
   "source": [
    "from sklearn.model_selection  import train_test_split\n",
    "\n",
    "X_train, X_test, y_train, y_test = train_test_split(X, y, test_size=0.33, random_state=42)"
   ]
  },
  {
   "cell_type": "code",
   "execution_count": 35,
   "metadata": {},
   "outputs": [
    {
     "data": {
      "text/html": [
       "<div>\n",
       "<style scoped>\n",
       "    .dataframe tbody tr th:only-of-type {\n",
       "        vertical-align: middle;\n",
       "    }\n",
       "\n",
       "    .dataframe tbody tr th {\n",
       "        vertical-align: top;\n",
       "    }\n",
       "\n",
       "    .dataframe thead th {\n",
       "        text-align: right;\n",
       "    }\n",
       "</style>\n",
       "<table border=\"1\" class=\"dataframe\">\n",
       "  <thead>\n",
       "    <tr style=\"text-align: right;\">\n",
       "      <th></th>\n",
       "      <th>cgpa</th>\n",
       "    </tr>\n",
       "  </thead>\n",
       "  <tbody>\n",
       "    <tr>\n",
       "      <th>42</th>\n",
       "      <td>5.95</td>\n",
       "    </tr>\n",
       "    <tr>\n",
       "      <th>189</th>\n",
       "      <td>8.11</td>\n",
       "    </tr>\n",
       "    <tr>\n",
       "      <th>90</th>\n",
       "      <td>7.11</td>\n",
       "    </tr>\n",
       "    <tr>\n",
       "      <th>136</th>\n",
       "      <td>5.64</td>\n",
       "    </tr>\n",
       "    <tr>\n",
       "      <th>51</th>\n",
       "      <td>9.26</td>\n",
       "    </tr>\n",
       "    <tr>\n",
       "      <th>...</th>\n",
       "      <td>...</td>\n",
       "    </tr>\n",
       "    <tr>\n",
       "      <th>106</th>\n",
       "      <td>6.13</td>\n",
       "    </tr>\n",
       "    <tr>\n",
       "      <th>14</th>\n",
       "      <td>7.73</td>\n",
       "    </tr>\n",
       "    <tr>\n",
       "      <th>92</th>\n",
       "      <td>7.90</td>\n",
       "    </tr>\n",
       "    <tr>\n",
       "      <th>179</th>\n",
       "      <td>7.14</td>\n",
       "    </tr>\n",
       "    <tr>\n",
       "      <th>102</th>\n",
       "      <td>5.13</td>\n",
       "    </tr>\n",
       "  </tbody>\n",
       "</table>\n",
       "<p>134 rows × 1 columns</p>\n",
       "</div>"
      ],
      "text/plain": [
       "     cgpa\n",
       "42   5.95\n",
       "189  8.11\n",
       "90   7.11\n",
       "136  5.64\n",
       "51   9.26\n",
       "..    ...\n",
       "106  6.13\n",
       "14   7.73\n",
       "92   7.90\n",
       "179  7.14\n",
       "102  5.13\n",
       "\n",
       "[134 rows x 1 columns]"
      ]
     },
     "execution_count": 35,
     "metadata": {},
     "output_type": "execute_result"
    }
   ],
   "source": [
    "X_train"
   ]
  },
  {
   "cell_type": "code",
   "execution_count": 36,
   "metadata": {},
   "outputs": [],
   "source": [
    "from sklearn import linear_model\n",
    "reg = linear_model.LinearRegression()"
   ]
  },
  {
   "cell_type": "code",
   "execution_count": 37,
   "metadata": {},
   "outputs": [
    {
     "data": {
      "text/html": [
       "<style>#sk-container-id-1 {color: black;}#sk-container-id-1 pre{padding: 0;}#sk-container-id-1 div.sk-toggleable {background-color: white;}#sk-container-id-1 label.sk-toggleable__label {cursor: pointer;display: block;width: 100%;margin-bottom: 0;padding: 0.3em;box-sizing: border-box;text-align: center;}#sk-container-id-1 label.sk-toggleable__label-arrow:before {content: \"▸\";float: left;margin-right: 0.25em;color: #696969;}#sk-container-id-1 label.sk-toggleable__label-arrow:hover:before {color: black;}#sk-container-id-1 div.sk-estimator:hover label.sk-toggleable__label-arrow:before {color: black;}#sk-container-id-1 div.sk-toggleable__content {max-height: 0;max-width: 0;overflow: hidden;text-align: left;background-color: #f0f8ff;}#sk-container-id-1 div.sk-toggleable__content pre {margin: 0.2em;color: black;border-radius: 0.25em;background-color: #f0f8ff;}#sk-container-id-1 input.sk-toggleable__control:checked~div.sk-toggleable__content {max-height: 200px;max-width: 100%;overflow: auto;}#sk-container-id-1 input.sk-toggleable__control:checked~label.sk-toggleable__label-arrow:before {content: \"▾\";}#sk-container-id-1 div.sk-estimator input.sk-toggleable__control:checked~label.sk-toggleable__label {background-color: #d4ebff;}#sk-container-id-1 div.sk-label input.sk-toggleable__control:checked~label.sk-toggleable__label {background-color: #d4ebff;}#sk-container-id-1 input.sk-hidden--visually {border: 0;clip: rect(1px 1px 1px 1px);clip: rect(1px, 1px, 1px, 1px);height: 1px;margin: -1px;overflow: hidden;padding: 0;position: absolute;width: 1px;}#sk-container-id-1 div.sk-estimator {font-family: monospace;background-color: #f0f8ff;border: 1px dotted black;border-radius: 0.25em;box-sizing: border-box;margin-bottom: 0.5em;}#sk-container-id-1 div.sk-estimator:hover {background-color: #d4ebff;}#sk-container-id-1 div.sk-parallel-item::after {content: \"\";width: 100%;border-bottom: 1px solid gray;flex-grow: 1;}#sk-container-id-1 div.sk-label:hover label.sk-toggleable__label {background-color: #d4ebff;}#sk-container-id-1 div.sk-serial::before {content: \"\";position: absolute;border-left: 1px solid gray;box-sizing: border-box;top: 0;bottom: 0;left: 50%;z-index: 0;}#sk-container-id-1 div.sk-serial {display: flex;flex-direction: column;align-items: center;background-color: white;padding-right: 0.2em;padding-left: 0.2em;position: relative;}#sk-container-id-1 div.sk-item {position: relative;z-index: 1;}#sk-container-id-1 div.sk-parallel {display: flex;align-items: stretch;justify-content: center;background-color: white;position: relative;}#sk-container-id-1 div.sk-item::before, #sk-container-id-1 div.sk-parallel-item::before {content: \"\";position: absolute;border-left: 1px solid gray;box-sizing: border-box;top: 0;bottom: 0;left: 50%;z-index: -1;}#sk-container-id-1 div.sk-parallel-item {display: flex;flex-direction: column;z-index: 1;position: relative;background-color: white;}#sk-container-id-1 div.sk-parallel-item:first-child::after {align-self: flex-end;width: 50%;}#sk-container-id-1 div.sk-parallel-item:last-child::after {align-self: flex-start;width: 50%;}#sk-container-id-1 div.sk-parallel-item:only-child::after {width: 0;}#sk-container-id-1 div.sk-dashed-wrapped {border: 1px dashed gray;margin: 0 0.4em 0.5em 0.4em;box-sizing: border-box;padding-bottom: 0.4em;background-color: white;}#sk-container-id-1 div.sk-label label {font-family: monospace;font-weight: bold;display: inline-block;line-height: 1.2em;}#sk-container-id-1 div.sk-label-container {text-align: center;}#sk-container-id-1 div.sk-container {/* jupyter's `normalize.less` sets `[hidden] { display: none; }` but bootstrap.min.css set `[hidden] { display: none !important; }` so we also need the `!important` here to be able to override the default hidden behavior on the sphinx rendered scikit-learn.org. See: https://github.com/scikit-learn/scikit-learn/issues/21755 */display: inline-block !important;position: relative;}#sk-container-id-1 div.sk-text-repr-fallback {display: none;}</style><div id=\"sk-container-id-1\" class=\"sk-top-container\"><div class=\"sk-text-repr-fallback\"><pre>LinearRegression()</pre><b>In a Jupyter environment, please rerun this cell to show the HTML representation or trust the notebook. <br />On GitHub, the HTML representation is unable to render, please try loading this page with nbviewer.org.</b></div><div class=\"sk-container\" hidden><div class=\"sk-item\"><div class=\"sk-estimator sk-toggleable\"><input class=\"sk-toggleable__control sk-hidden--visually\" id=\"sk-estimator-id-1\" type=\"checkbox\" checked><label for=\"sk-estimator-id-1\" class=\"sk-toggleable__label sk-toggleable__label-arrow\">LinearRegression</label><div class=\"sk-toggleable__content\"><pre>LinearRegression()</pre></div></div></div></div></div>"
      ],
      "text/plain": [
       "LinearRegression()"
      ]
     },
     "execution_count": 37,
     "metadata": {},
     "output_type": "execute_result"
    }
   ],
   "source": [
    "reg.fit(X_train,y_train)"
   ]
  },
  {
   "cell_type": "code",
   "execution_count": 40,
   "metadata": {},
   "outputs": [
    {
     "data": {
      "text/plain": [
       "0.7843947872796577"
      ]
     },
     "execution_count": 40,
     "metadata": {},
     "output_type": "execute_result"
    }
   ],
   "source": [
    "reg.score(X_train,y_train)"
   ]
  },
  {
   "cell_type": "code",
   "execution_count": 43,
   "metadata": {},
   "outputs": [],
   "source": [
    "y_predict = reg.predict(X_test)"
   ]
  },
  {
   "cell_type": "code",
   "execution_count": 57,
   "metadata": {},
   "outputs": [
    {
     "data": {
      "text/plain": [
       "0.7525394797735154"
      ]
     },
     "execution_count": 57,
     "metadata": {},
     "output_type": "execute_result"
    }
   ],
   "source": [
    "from sklearn.metrics import r2_score\n",
    "r2_score(y_test,y_predict)"
   ]
  },
  {
   "cell_type": "code",
   "execution_count": 61,
   "metadata": {},
   "outputs": [
    {
     "data": {
      "text/plain": [
       "0.10350765119463191"
      ]
     },
     "execution_count": 61,
     "metadata": {},
     "output_type": "execute_result"
    }
   ],
   "source": [
    "from sklearn.metrics import mean_squared_error\n",
    "mse=mean_squared_error(y_test,y_predict)\n",
    "mse"
   ]
  },
  {
   "cell_type": "code",
   "execution_count": 59,
   "metadata": {},
   "outputs": [
    {
     "data": {
      "text/plain": [
       "0.2648709917907379"
      ]
     },
     "execution_count": 59,
     "metadata": {},
     "output_type": "execute_result"
    }
   ],
   "source": [
    "from sklearn.metrics import mean_absolute_error\n",
    "mean_absolute_error(y_test,y_predict)"
   ]
  },
  {
   "cell_type": "code",
   "execution_count": 62,
   "metadata": {},
   "outputs": [
    {
     "data": {
      "text/plain": [
       "0.32172604991612336"
      ]
     },
     "execution_count": 62,
     "metadata": {},
     "output_type": "execute_result"
    }
   ],
   "source": [
    "import numpy as np\n",
    "np.sqrt(mse)"
   ]
  },
  {
   "cell_type": "code",
   "execution_count": 63,
   "metadata": {},
   "outputs": [
    {
     "name": "stdout",
     "output_type": "stream",
     "text": [
      "0.7843870704635428\n",
      "r2score 0.7527771138753406\n",
      "intercept_ -1.016938043413699\n",
      "coef_ [0.57579197]\n"
     ]
    }
   ],
   "source": [
    "from sklearn import linear_model\n",
    "ridge = linear_model.Ridge(alpha=.5)\n",
    "ridge.fit(X_train,y_train)\n",
    "print(\"score \",ridge.score(X_train,y_train))\n",
    "y_pred_ridge=ridge.predict(X_test)\n",
    "print(\"r2score \",r2_score(y_test,y_pred_ridge))\n",
    "print(\"intercept_ \",ridge.intercept_)\n",
    "print(\"coef_ \",ridge.coef_)"
   ]
  },
  {
   "cell_type": "code",
   "execution_count": 65,
   "metadata": {},
   "outputs": [
    {
     "name": "stdout",
     "output_type": "stream",
     "text": [
      "score  0.7676770869829195\n",
      "r2score  0.7462714300291078\n",
      "intercept_  -0.441815341147314\n",
      "coef_  [0.49327972]\n"
     ]
    }
   ],
   "source": [
    "from sklearn import linear_model\n",
    "ridge = linear_model.Lasso(alpha=.1)\n",
    "ridge.fit(X_train,y_train)\n",
    "print(\"score \",ridge.score(X_train,y_train))\n",
    "y_pred_ridge=ridge.predict(X_test)\n",
    "print(\"r2score \",r2_score(y_test,y_pred_ridge))\n",
    "print(\"intercept_ \",ridge.intercept_)\n",
    "print(\"coef_ \",ridge.coef_)"
   ]
  },
  {
   "cell_type": "code",
   "execution_count": 66,
   "metadata": {},
   "outputs": [
    {
     "name": "stdout",
     "output_type": "stream",
     "text": [
      "score  0.2697050505564902\n",
      "r2score  0.2708091905265091\n",
      "intercept_  2.2316340961856005\n",
      "coef_  [0.10972273]\n"
     ]
    }
   ],
   "source": [
    "from sklearn import linear_model\n",
    "ridge = linear_model.ElasticNet()\n",
    "ridge.fit(X_train,y_train)\n",
    "print(\"score \",ridge.score(X_train,y_train))\n",
    "y_pred_ridge=ridge.predict(X_test)\n",
    "print(\"r2score \",r2_score(y_test,y_pred_ridge))\n",
    "print(\"intercept_ \",ridge.intercept_)\n",
    "print(\"coef_ \",ridge.coef_)"
   ]
  },
  {
   "cell_type": "code",
   "execution_count": 53,
   "metadata": {},
   "outputs": [
    {
     "data": {
      "text/plain": [
       "[<matplotlib.lines.Line2D at 0x24ed1dcdbb0>]"
      ]
     },
     "execution_count": 53,
     "metadata": {},
     "output_type": "execute_result"
    },
    {
     "data": {
      "image/png": "[encoded data removed]",
      "text/plain": [
       "<Figure size 640x480 with 1 Axes>"
      ]
     },
     "metadata": {},
     "output_type": "display_data"
    }
   ],
   "source": [
    "plt.scatter(data['cgpa'],data['package'])\n",
    "plt.plot(X_train,ridge.predict(X_train),color=\"red\")"
   ]
  },
  {
   "cell_type": "code",
   "execution_count": 54,
   "metadata": {},
   "outputs": [
    {
     "data": {
      "text/plain": [
       "-1.016938043413699"
      ]
     },
     "execution_count": 54,
     "metadata": {},
     "output_type": "execute_result"
    }
   ],
   "source": [
    "ridge.intercept_"
   ]
  },
  {
   "cell_type": "code",
   "execution_count": 55,
   "metadata": {},
   "outputs": [
    {
     "data": {
      "text/plain": [
       "array([0.57579197])"
      ]
     },
     "execution_count": 55,
     "metadata": {},
     "output_type": "execute_result"
    }
   ],
   "source": [
    "ridge.coef_"
   ]
  },
  {
   "cell_type": "code",
   "execution_count": null,
   "metadata": {},
   "outputs": [],
   "source": []
  },
  {
   "cell_type": "code",
   "execution_count": null,
   "metadata": {},
   "outputs": [],
   "source": [
    "# multiple linear regression "
   ]
  },
  {
   "cell_type": "code",
   "execution_count": 67,
   "metadata": {},
   "outputs": [],
   "source": [
    "from sklearn.datasets import make_regression\n",
    "X,y=make_regression(n_samples=150,n_features=2,n_targets=1,noise=40)"
   ]
  },
  {
   "cell_type": "code",
   "execution_count": 68,
   "metadata": {},
   "outputs": [],
   "source": [
    "df=pd.DataFrame({'feature1':X[:,0],'feature2':X[:,1],'target':y})"
   ]
  },
  {
   "cell_type": "code",
   "execution_count": 71,
   "metadata": {},
   "outputs": [
    {
     "ename": "ValueError",
     "evalue": "Mime type rendering requires nbformat>=4.2.0 but it is not installed",
     "output_type": "error",
     "traceback": [
      "\u001b[1;31m---------------------------------------------------------------------------\u001b[0m",
      "\u001b[1;31mValueError\u001b[0m                                Traceback (most recent call last)",
      "File \u001b[1;32md:\\Datascience_workspace_2023\\complete-machine-learning\\venv\\lib\\site-packages\\IPython\\core\\formatters.py:922\u001b[0m, in \u001b[0;36mIPythonDisplayFormatter.__call__\u001b[1;34m(self, obj)\u001b[0m\n\u001b[0;32m    920\u001b[0m method \u001b[38;5;241m=\u001b[39m get_real_method(obj, \u001b[38;5;28mself\u001b[39m\u001b[38;5;241m.\u001b[39mprint_method)\n\u001b[0;32m    921\u001b[0m \u001b[38;5;28;01mif\u001b[39;00m method \u001b[38;5;129;01mis\u001b[39;00m \u001b[38;5;129;01mnot\u001b[39;00m \u001b[38;5;28;01mNone\u001b[39;00m:\n\u001b[1;32m--> 922\u001b[0m     \u001b[43mmethod\u001b[49m\u001b[43m(\u001b[49m\u001b[43m)\u001b[49m\n\u001b[0;32m    923\u001b[0m     \u001b[38;5;28;01mreturn\u001b[39;00m \u001b[38;5;28;01mTrue\u001b[39;00m\n",
      "File \u001b[1;32md:\\Datascience_workspace_2023\\complete-machine-learning\\venv\\lib\\site-packages\\plotly\\basedatatypes.py:832\u001b[0m, in \u001b[0;36mBaseFigure._ipython_display_\u001b[1;34m(self)\u001b[0m\n\u001b[0;32m    829\u001b[0m \u001b[38;5;28;01mimport\u001b[39;00m \u001b[38;5;21;01mplotly\u001b[39;00m\u001b[38;5;21;01m.\u001b[39;00m\u001b[38;5;21;01mio\u001b[39;00m \u001b[38;5;28;01mas\u001b[39;00m \u001b[38;5;21;01mpio\u001b[39;00m\n\u001b[0;32m    831\u001b[0m \u001b[38;5;28;01mif\u001b[39;00m pio\u001b[38;5;241m.\u001b[39mrenderers\u001b[38;5;241m.\u001b[39mrender_on_display \u001b[38;5;129;01mand\u001b[39;00m pio\u001b[38;5;241m.\u001b[39mrenderers\u001b[38;5;241m.\u001b[39mdefault:\n\u001b[1;32m--> 832\u001b[0m     \u001b[43mpio\u001b[49m\u001b[38;5;241;43m.\u001b[39;49m\u001b[43mshow\u001b[49m\u001b[43m(\u001b[49m\u001b[38;5;28;43mself\u001b[39;49m\u001b[43m)\u001b[49m\n\u001b[0;32m    833\u001b[0m \u001b[38;5;28;01melse\u001b[39;00m:\n\u001b[0;32m    834\u001b[0m     \u001b[38;5;28mprint\u001b[39m(\u001b[38;5;28mrepr\u001b[39m(\u001b[38;5;28mself\u001b[39m))\n",
      "File \u001b[1;32md:\\Datascience_workspace_2023\\complete-machine-learning\\venv\\lib\\site-packages\\plotly\\io\\_renderers.py:394\u001b[0m, in \u001b[0;36mshow\u001b[1;34m(fig, renderer, validate, **kwargs)\u001b[0m\n\u001b[0;32m    389\u001b[0m         \u001b[38;5;28;01mraise\u001b[39;00m \u001b[38;5;167;01mValueError\u001b[39;00m(\n\u001b[0;32m    390\u001b[0m             \u001b[38;5;124m\"\u001b[39m\u001b[38;5;124mMime type rendering requires ipython but it is not installed\u001b[39m\u001b[38;5;124m\"\u001b[39m\n\u001b[0;32m    391\u001b[0m         )\n\u001b[0;32m    393\u001b[0m     \u001b[38;5;28;01mif\u001b[39;00m \u001b[38;5;129;01mnot\u001b[39;00m nbformat \u001b[38;5;129;01mor\u001b[39;00m Version(nbformat\u001b[38;5;241m.\u001b[39m__version__) \u001b[38;5;241m<\u001b[39m Version(\u001b[38;5;124m\"\u001b[39m\u001b[38;5;124m4.2.0\u001b[39m\u001b[38;5;124m\"\u001b[39m):\n\u001b[1;32m--> 394\u001b[0m         \u001b[38;5;28;01mraise\u001b[39;00m \u001b[38;5;167;01mValueError\u001b[39;00m(\n\u001b[0;32m    395\u001b[0m             \u001b[38;5;124m\"\u001b[39m\u001b[38;5;124mMime type rendering requires nbformat>=4.2.0 but it is not installed\u001b[39m\u001b[38;5;124m\"\u001b[39m\n\u001b[0;32m    396\u001b[0m         )\n\u001b[0;32m    398\u001b[0m     ipython_display\u001b[38;5;241m.\u001b[39mdisplay(bundle, raw\u001b[38;5;241m=\u001b[39m\u001b[38;5;28;01mTrue\u001b[39;00m)\n\u001b[0;32m    400\u001b[0m \u001b[38;5;66;03m# external renderers\u001b[39;00m\n",
      "\u001b[1;31mValueError\u001b[0m: Mime type rendering requires nbformat>=4.2.0 but it is not installed"
     ]
    },
    {
     "data": {
      "application/vnd.plotly.v1+json": {
       "config": {
        "plotlyServerURL": "https://plot.ly"
       },
       "data": [
        {
         "hovertemplate": "feature1=%{x}<br>feature2=%{y}<br>target=%{z}<extra></extra>",
         "legendgroup": "",
         "marker": {
          "color": "#636efa",
          "symbol": "circle"
         },
         "mode": "markers",
         "name": "",
         "scene": "scene",
         "showlegend": false,
         "type": "scatter3d",
         "x": [
          -0.38678913335773374,
          0.3311497218139207,
          -0.11986092297672782,
          -0.36001610400620887,
          1.4133898293328253,
          -0.09303161026761599,
          -0.34459242538418206,
          1.115519715750474,
          -1.2830345906759053,
          1.0265115477979128,
          -0.05468614644331915,
          -1.8517611752319847,
          1.3506676645576912,
          -0.048119157984162116,
          -1.5502658218918939,
          -1.4554552686613855,
          -0.38454233212099115,
          -0.12787973621306561,
          0.30171663429888756,
          -1.6861020472159265,
          -1.032108653477773,
          0.4819964639041458,
          0.24919090524844836,
          0.8308507159591515,
          -1.0273307292926175,
          -0.438062455448657,
          -1.1524280572369077,
          -0.7374438901554772,
          -0.12269395931845353,
          -1.0400239437918808,
          0.20236370366383413,
          -0.742771680527367,
          1.0821888421006622,
          -2.6722784435073312,
          0.3714779373535723,
          1.3222678752478332,
          -2.3179136225913224,
          -0.7996025563385646,
          1.5617336724072184,
          0.019398669598570163,
          0.36881791876564995,
          -1.7159707305452654,
          -0.3186634357557173,
          -1.1687846561973492,
          -0.4061801596055291,
          0.509135446142082,
          0.41045464328274334,
          0.5599392499946287,
          -0.39309244882831484,
          -0.17551584446530205,
          -1.0805682464554953,
          -0.020659773393666047,
          -0.16886529795122476,
          -1.4887777480722857,
          0.03941229436566252,
          1.1219396052327926,
          1.2445073007989476,
          0.2429343457822032,
          -0.9257917749469241,
          0.10947881404693412,
          -0.20171007561431015,
          -0.6302463582825019,
          0.8830204625185987,
          0.144898240388165,
          1.1886090422132698,
          1.4497607625677111,
          0.5015535605269797,
          0.4927089231850265,
          -0.41726224014902463,
          -1.1196483614125115,
          1.9835408285817977,
          0.17194299397471918,
          -0.7228525260775757,
          -0.7695330689455264,
          2.0608049643564303,
          -0.888032191111747,
          -0.22817629755885954,
          1.1970823280632603,
          -0.009924295880861344,
          0.24147311353823706,
          -0.34322617602463307,
          0.6529254593521098,
          -1.2050796585505799,
          1.5928567633849977,
          -0.8332806195580236,
          0.943541635031261,
          0.3243526750798375,
          -0.2643921760916452,
          1.1115092982824748,
          -0.039030201221817704,
          -1.1143640745759629,
          0.2754512442186548,
          1.4112464268488576,
          0.7152678516810642,
          -1.2969830212525149,
          1.2045080453625423,
          -0.3968337830269751,
          -0.3260537025330851,
          -0.47748970605035823,
          -1.3148208422289778,
          0.41643188183937097,
          -0.16172595411605628,
          -2.1742351198759,
          -0.5120046679288888,
          0.021946843943808688,
          1.192026341880115,
          0.5771595497870867,
          -0.3257932247438146,
          -0.19997950696846825,
          -0.3161889607750535,
          0.22266283778002452,
          -0.7043176227855116,
          -0.2214000291319206,
          0.5842956880157886,
          -1.0427358116139407,
          -0.33524797160713915,
          0.9132593639967669,
          -1.538424832906508,
          0.6571806793114082,
          -1.3300191063071487,
          0.022315180249941946,
          -0.9647278143337291,
          -1.3608904954751533,
          -0.7098831762676348,
          1.0762075914762879,
          -0.8853997065899616,
          -0.7866446176518427,
          0.4065842513317708,
          -1.088183406731212,
          0.5893350787414081,
          -1.572505301862137,
          -0.6493770694229876,
          -1.6813462717969583,
          -1.0482722702881284,
          -1.618618395326903,
          0.04382471156100117,
          -0.3995949540397597,
          -0.2589221471118207,
          -0.17649911537699076,
          -1.0611283001596645,
          0.6965396405541193,
          1.9650368949677326,
          -0.9581698896281536,
          0.24585359192112077,
          -0.032447620614858695,
          0.6420163819311703,
          0.2627721442688121,
          0.6598022482933122,
          1.2514591469474972,
          0.38661537905309706
         ],
         "y": [
          1.1044017354655729,
          0.7899778123522235,
          -0.06918027067759222,
          -0.6507264764768507,
          0.33629418120171684,
          -0.1634551405350063,
          -0.2844948209876248,
          -0.016967146406010197,
          -0.7669581743644532,
          0.2741399474982183,
          -0.030541765289173815,
          1.0935100615940745,
          0.48759186307800584,
          -1.2831885379342718,
          -0.06376736204689137,
          0.8832648591444232,
          -0.8564272267953436,
          -0.9227906464921329,
          -1.1379961854360463,
          -0.6113598313938166,
          -1.7207356166547094,
          0.5292805195023423,
          0.032739619531644934,
          0.3741878586713455,
          -0.21616668922686194,
          -1.3580047251884975,
          -2.3322939452655738,
          -1.2208430670682942,
          0.522061694680538,
          -0.23564512740768356,
          1.0509289946313642,
          -0.07228013205138306,
          -0.6521688733480347,
          -0.7906008225887587,
          -0.12128121746437467,
          -0.2595783481977648,
          0.6742464257371847,
          0.6896648560618609,
          -0.3127963310740897,
          1.0099495521298074,
          -0.24856131811247814,
          2.1223673168100903,
          -0.22343335661042982,
          -0.3140500205140347,
          0.5616315598913335,
          -0.32294811888133584,
          -0.24014503157039366,
          -2.3230413402984884,
          1.2749936542439526,
          -0.285615362257641,
          -0.8296959558502185,
          -0.4724846312566327,
          0.2080289305261485,
          1.8221202918900665,
          0.13719894505062796,
          0.3932468966572683,
          -1.1018162878200848,
          0.3988688420566304,
          0.3281332593610244,
          -0.3841054658557148,
          0.3912985870370002,
          0.407381309923699,
          1.4339899813678831,
          0.8496775940594291,
          -0.2863804905020729,
          0.0065688176601751145,
          0.11180627983911669,
          1.3993903444506957,
          -0.6399389458423833,
          -0.7761360224134708,
          -0.11398015484025381,
          0.9051674130691385,
          0.36836336637189265,
          -1.0907854801363066,
          1.2495805508985498,
          1.036884798750733,
          -0.6514980023431473,
          -0.655824545489751,
          1.0016187987501546,
          0.13521972031237453,
          -0.510973194865108,
          1.2886869784052153,
          -0.5042946874648453,
          -0.6341095042323401,
          -0.054949911029670326,
          0.6366379009369811,
          0.6377192460965121,
          -0.4479349814763342,
          0.6736759470607383,
          0.24836436534089362,
          -1.552309783078104,
          0.7658729751269447,
          -0.32747068170426774,
          -1.5946985582410094,
          -0.7092481801087489,
          1.2953048586271607,
          0.2274135109055343,
          -0.08970569542760337,
          -2.1073660021931664,
          1.2273066618553745,
          0.25091367250046526,
          -0.21953074569196032,
          1.206293978629117,
          -0.8716487089472746,
          0.01987554173448476,
          -0.07665084356316437,
          -0.9498659845668125,
          -1.1852872454438228,
          1.399102969055698,
          -0.9907372653812163,
          0.6236489037857935,
          -0.6444424429081899,
          -0.9070840935271157,
          -0.6983800844485339,
          -0.9633256597445532,
          -2.6814746118855135,
          1.01628941790841,
          1.0725592870986735,
          -1.6112178987914885,
          -0.349283746288437,
          -0.4873096682521039,
          -0.25894329179727565,
          -0.21016595091192625,
          0.3855561363406332,
          -0.1430583289812061,
          -0.5447744736014976,
          0.5673162216475425,
          -0.2443868237026492,
          1.6434332267071485,
          -1.0102271160675502,
          1.6445759176759709,
          -0.251848234586522,
          1.1558357328609716,
          0.1825194934946492,
          -0.7932236833165647,
          -1.6788907760728664,
          -0.37690785171875524,
          0.20606418501961685,
          -2.156425346431317,
          -0.04523846555974582,
          -0.14463695414267053,
          -0.8205189335315187,
          -2.054443689644954,
          -1.1205589191478738,
          1.658433565053658,
          1.6083750570255952,
          -1.1201949847230215,
          -0.5414010605369273,
          0.46307272788175996,
          -2.6812613654119812
         ],
         "z": [
          -5.561426880837855,
          2.8472125429302224,
          -26.685426219270447,
          -89.3472757905005,
          183.96758170910056,
          -14.147730793455288,
          -122.52065714757282,
          83.48886061610989,
          -70.61641642697656,
          88.0363538282551,
          -55.76003091699987,
          -174.33950900226557,
          55.922353404853254,
          -13.811752281710802,
          -80.92486796878302,
          -172.34953113879038,
          -112.87398093344939,
          -22.33538725542885,
          20.463581450162017,
          -118.51917002173967,
          -178.29676433258248,
          56.03262065869216,
          42.38652755352986,
          68.7610339133683,
          -52.92509342945524,
          -110.17111434020978,
          -104.40911833996643,
          -92.65088541270445,
          -31.2039124443959,
          -56.523736014988856,
          96.96402957867011,
          -29.430540067836944,
          139.90832880438256,
          -229.92889440445535,
          70.67950484038887,
          147.35726419100084,
          -222.99952201135295,
          -19.780966793151954,
          92.51790923619224,
          48.41311650623551,
          -17.477503052480845,
          -149.44371174626883,
          -29.75458529302508,
          -139.69485151432275,
          -83.69864096196022,
          54.47599851563264,
          33.78137740807019,
          -80.04739690571265,
          57.70809384764236,
          -15.100188629225574,
          -89.87578884531759,
          12.759345702651634,
          2.5097920231176527,
          -169.50006879145317,
          29.301329225093404,
          129.5166589924651,
          88.60891243149365,
          22.270001483958243,
          -82.39720806949572,
          3.3327088646171,
          -9.065757119054732,
          -83.9515967022333,
          78.12921140194396,
          9.629449308255804,
          106.47431835446832,
          101.40358336295888,
          99.72156315193862,
          80.34182730252951,
          -74.44459231722738,
          -140.36534651490985,
          243.50162192528097,
          34.256289998914625,
          -40.11890078718179,
          -41.95882715852482,
          252.49190788588018,
          -58.640715521287795,
          62.717496930599616,
          187.2926935786574,
          58.66509430596339,
          19.622065689851286,
          -39.68984378014706,
          142.01197280746578,
          -82.99701593101706,
          108.86005387323499,
          -76.48097407180478,
          13.481155232208678,
          78.56528327891621,
          -33.03234657007846,
          119.52721311364151,
          -12.201540328998203,
          -102.96015944466501,
          5.928422502996916,
          86.96171828525435,
          48.17542880812286,
          -134.67489300450484,
          144.38771765934533,
          29.640734019897618,
          -53.56275197876338,
          -6.565631391444526,
          -113.8249713719314,
          34.76072096773478,
          11.270683704115896,
          -139.00482914221777,
          -62.985540193197025,
          30.699965869499252,
          38.46056237441478,
          63.220706758,
          -36.90300493187253,
          70.61818800594793,
          -39.37296625345809,
          51.0007666394674,
          -20.81540492508524,
          -102.10105522949934,
          -12.191057350105389,
          -119.44197708337072,
          -105.11670225630866,
          171.51850143730866,
          -133.99509722053062,
          13.199050696181338,
          -122.47243774705807,
          27.65319208940911,
          -69.82164734220187,
          -135.72906591349096,
          -30.756557175598214,
          57.828668276085885,
          -73.60336494559256,
          13.03514812453102,
          42.36011868471071,
          -49.88459919269661,
          72.87890543067219,
          -150.67810622918535,
          -45.36743988827574,
          -130.95520735565543,
          -162.4059822665747,
          -217.04603406543015,
          -27.62679052759403,
          -49.422259471005894,
          -63.81478391626991,
          -50.04671434048558,
          -65.41214375246429,
          -55.373280422504465,
          99.73486328804891,
          -142.54716559832264,
          -41.502231123752765,
          87.71761756051328,
          76.61554856730703,
          -15.712799123706365,
          -10.64799630725421,
          131.8604658202293,
          -26.616023458900695
         ]
        }
       ],
       "layout": {
        "legend": {
         "tracegroupgap": 0
        },
        "margin": {
         "t": 60
        },
        "scene": {
         "domain": {
          "x": [
           0,
           1
          ],
          "y": [
           0,
           1
          ]
         },
         "xaxis": {
          "title": {
           "text": "feature1"
          }
         },
         "yaxis": {
          "title": {
           "text": "feature2"
          }
         },
         "zaxis": {
          "title": {
           "text": "target"
          }
         }
        },
        "template": {
         "data": {
          "bar": [
           {
            "error_x": {
             "color": "#2a3f5f"
            },
            "error_y": {
             "color": "#2a3f5f"
            },
            "marker": {
             "line": {
              "color": "#E5ECF6",
              "width": 0.5
             },
             "pattern": {
              "fillmode": "overlay",
              "size": 10,
              "solidity": 0.2
             }
            },
            "type": "bar"
           }
          ],
          "barpolar": [
           {
            "marker": {
             "line": {
              "color": "#E5ECF6",
              "width": 0.5
             },
             "pattern": {
              "fillmode": "overlay",
              "size": 10,
              "solidity": 0.2
             }
            },
            "type": "barpolar"
           }
          ],
          "carpet": [
           {
            "aaxis": {
             "endlinecolor": "#2a3f5f",
             "gridcolor": "white",
             "linecolor": "white",
             "minorgridcolor": "white",
             "startlinecolor": "#2a3f5f"
            },
            "baxis": {
             "endlinecolor": "#2a3f5f",
             "gridcolor": "white",
             "linecolor": "white",
             "minorgridcolor": "white",
             "startlinecolor": "#2a3f5f"
            },
            "type": "carpet"
           }
          ],
          "choropleth": [
           {
            "colorbar": {
             "outlinewidth": 0,
             "ticks": ""
            },
            "type": "choropleth"
           }
          ],
          "contour": [
           {
            "colorbar": {
             "outlinewidth": 0,
             "ticks": ""
            },
            "colorscale": [
             [
              0,
              "#0d0887"
             ],
             [
              0.1111111111111111,
              "#46039f"
             ],
             [
              0.2222222222222222,
              "#7201a8"
             ],
             [
              0.3333333333333333,
              "#9c179e"
             ],
             [
              0.4444444444444444,
              "#bd3786"
             ],
             [
              0.5555555555555556,
              "#d8576b"
             ],
             [
              0.6666666666666666,
              "#ed7953"
             ],
             [
              0.7777777777777778,
              "#fb9f3a"
             ],
             [
              0.8888888888888888,
              "#fdca26"
             ],
             [
              1,
              "#f0f921"
             ]
            ],
            "type": "contour"
           }
          ],
          "contourcarpet": [
           {
            "colorbar": {
             "outlinewidth": 0,
             "ticks": ""
            },
            "type": "contourcarpet"
           }
          ],
          "heatmap": [
           {
            "colorbar": {
             "outlinewidth": 0,
             "ticks": ""
            },
            "colorscale": [
             [
              0,
              "#0d0887"
             ],
             [
              0.1111111111111111,
              "#46039f"
             ],
             [
              0.2222222222222222,
              "#7201a8"
             ],
             [
              0.3333333333333333,
              "#9c179e"
             ],
             [
              0.4444444444444444,
              "#bd3786"
             ],
             [
              0.5555555555555556,
              "#d8576b"
             ],
             [
              0.6666666666666666,
              "#ed7953"
             ],
             [
              0.7777777777777778,
              "#fb9f3a"
             ],
             [
              0.8888888888888888,
              "#fdca26"
             ],
             [
              1,
              "#f0f921"
             ]
            ],
            "type": "heatmap"
           }
          ],
          "heatmapgl": [
           {
            "colorbar": {
             "outlinewidth": 0,
             "ticks": ""
            },
            "colorscale": [
             [
              0,
              "#0d0887"
             ],
             [
              0.1111111111111111,
              "#46039f"
             ],
             [
              0.2222222222222222,
              "#7201a8"
             ],
             [
              0.3333333333333333,
              "#9c179e"
             ],
             [
              0.4444444444444444,
              "#bd3786"
             ],
             [
              0.5555555555555556,
              "#d8576b"
             ],
             [
              0.6666666666666666,
              "#ed7953"
             ],
             [
              0.7777777777777778,
              "#fb9f3a"
             ],
             [
              0.8888888888888888,
              "#fdca26"
             ],
             [
              1,
              "#f0f921"
             ]
            ],
            "type": "heatmapgl"
           }
          ],
          "histogram": [
           {
            "marker": {
             "pattern": {
              "fillmode": "overlay",
              "size": 10,
              "solidity": 0.2
             }
            },
            "type": "histogram"
           }
          ],
          "histogram2d": [
           {
            "colorbar": {
             "outlinewidth": 0,
             "ticks": ""
            },
            "colorscale": [
             [
              0,
              "#0d0887"
             ],
             [
              0.1111111111111111,
              "#46039f"
             ],
             [
              0.2222222222222222,
              "#7201a8"
             ],
             [
              0.3333333333333333,
              "#9c179e"
             ],
             [
              0.4444444444444444,
              "#bd3786"
             ],
             [
              0.5555555555555556,
              "#d8576b"
             ],
             [
              0.6666666666666666,
              "#ed7953"
             ],
             [
              0.7777777777777778,
              "#fb9f3a"
             ],
             [
              0.8888888888888888,
              "#fdca26"
             ],
             [
              1,
              "#f0f921"
             ]
            ],
            "type": "histogram2d"
           }
          ],
          "histogram2dcontour": [
           {
            "colorbar": {
             "outlinewidth": 0,
             "ticks": ""
            },
            "colorscale": [
             [
              0,
              "#0d0887"
             ],
             [
              0.1111111111111111,
              "#46039f"
             ],
             [
              0.2222222222222222,
              "#7201a8"
             ],
             [
              0.3333333333333333,
              "#9c179e"
             ],
             [
              0.4444444444444444,
              "#bd3786"
             ],
             [
              0.5555555555555556,
              "#d8576b"
             ],
             [
              0.6666666666666666,
              "#ed7953"
             ],
             [
              0.7777777777777778,
              "#fb9f3a"
             ],
             [
              0.8888888888888888,
              "#fdca26"
             ],
             [
              1,
              "#f0f921"
             ]
            ],
            "type": "histogram2dcontour"
           }
          ],
          "mesh3d": [
           {
            "colorbar": {
             "outlinewidth": 0,
             "ticks": ""
            },
            "type": "mesh3d"
           }
          ],
          "parcoords": [
           {
            "line": {
             "colorbar": {
              "outlinewidth": 0,
              "ticks": ""
             }
            },
            "type": "parcoords"
           }
          ],
          "pie": [
           {
            "automargin": true,
            "type": "pie"
           }
          ],
          "scatter": [
           {
            "fillpattern": {
             "fillmode": "overlay",
             "size": 10,
             "solidity": 0.2
            },
            "type": "scatter"
           }
          ],
          "scatter3d": [
           {
            "line": {
             "colorbar": {
              "outlinewidth": 0,
              "ticks": ""
             }
            },
            "marker": {
             "colorbar": {
              "outlinewidth": 0,
              "ticks": ""
             }
            },
            "type": "scatter3d"
           }
          ],
          "scattercarpet": [
           {
            "marker": {
             "colorbar": {
              "outlinewidth": 0,
              "ticks": ""
             }
            },
            "type": "scattercarpet"
           }
          ],
          "scattergeo": [
           {
            "marker": {
             "colorbar": {
              "outlinewidth": 0,
              "ticks": ""
             }
            },
            "type": "scattergeo"
           }
          ],
          "scattergl": [
           {
            "marker": {
             "colorbar": {
              "outlinewidth": 0,
              "ticks": ""
             }
            },
            "type": "scattergl"
           }
          ],
          "scattermapbox": [
           {
            "marker": {
             "colorbar": {
              "outlinewidth": 0,
              "ticks": ""
             }
            },
            "type": "scattermapbox"
           }
          ],
          "scatterpolar": [
           {
            "marker": {
             "colorbar": {
              "outlinewidth": 0,
              "ticks": ""
             }
            },
            "type": "scatterpolar"
           }
          ],
          "scatterpolargl": [
           {
            "marker": {
             "colorbar": {
              "outlinewidth": 0,
              "ticks": ""
             }
            },
            "type": "scatterpolargl"
           }
          ],
          "scatterternary": [
           {
            "marker": {
             "colorbar": {
              "outlinewidth": 0,
              "ticks": ""
             }
            },
            "type": "scatterternary"
           }
          ],
          "surface": [
           {
            "colorbar": {
             "outlinewidth": 0,
             "ticks": ""
            },
            "colorscale": [
             [
              0,
              "#0d0887"
             ],
             [
              0.1111111111111111,
              "#46039f"
             ],
             [
              0.2222222222222222,
              "#7201a8"
             ],
             [
              0.3333333333333333,
              "#9c179e"
             ],
             [
              0.4444444444444444,
              "#bd3786"
             ],
             [
              0.5555555555555556,
              "#d8576b"
             ],
             [
              0.6666666666666666,
              "#ed7953"
             ],
             [
              0.7777777777777778,
              "#fb9f3a"
             ],
             [
              0.8888888888888888,
              "#fdca26"
             ],
             [
              1,
              "#f0f921"
             ]
            ],
            "type": "surface"
           }
          ],
          "table": [
           {
            "cells": {
             "fill": {
              "color": "#EBF0F8"
             },
             "line": {
              "color": "white"
             }
            },
            "header": {
             "fill": {
              "color": "#C8D4E3"
             },
             "line": {
              "color": "white"
             }
            },
            "type": "table"
           }
          ]
         },
         "layout": {
          "annotationdefaults": {
           "arrowcolor": "#2a3f5f",
           "arrowhead": 0,
           "arrowwidth": 1
          },
          "autotypenumbers": "strict",
          "coloraxis": {
           "colorbar": {
            "outlinewidth": 0,
            "ticks": ""
           }
          },
          "colorscale": {
           "diverging": [
            [
             0,
             "#8e0152"
            ],
            [
             0.1,
             "#c51b7d"
            ],
            [
             0.2,
             "#de77ae"
            ],
            [
             0.3,
             "#f1b6da"
            ],
            [
             0.4,
             "#fde0ef"
            ],
            [
             0.5,
             "#f7f7f7"
            ],
            [
             0.6,
             "#e6f5d0"
            ],
            [
             0.7,
             "#b8e186"
            ],
            [
             0.8,
             "#7fbc41"
            ],
            [
             0.9,
             "#4d9221"
            ],
            [
             1,
             "#276419"
            ]
           ],
           "sequential": [
            [
             0,
             "#0d0887"
            ],
            [
             0.1111111111111111,
             "#46039f"
            ],
            [
             0.2222222222222222,
             "#7201a8"
            ],
            [
             0.3333333333333333,
             "#9c179e"
            ],
            [
             0.4444444444444444,
             "#bd3786"
            ],
            [
             0.5555555555555556,
             "#d8576b"
            ],
            [
             0.6666666666666666,
             "#ed7953"
            ],
            [
             0.7777777777777778,
             "#fb9f3a"
            ],
            [
             0.8888888888888888,
             "#fdca26"
            ],
            [
             1,
             "#f0f921"
            ]
           ],
           "sequentialminus": [
            [
             0,
             "#0d0887"
            ],
            [
             0.1111111111111111,
             "#46039f"
            ],
            [
             0.2222222222222222,
             "#7201a8"
            ],
            [
             0.3333333333333333,
             "#9c179e"
            ],
            [
             0.4444444444444444,
             "#bd3786"
            ],
            [
             0.5555555555555556,
             "#d8576b"
            ],
            [
             0.6666666666666666,
             "#ed7953"
            ],
            [
             0.7777777777777778,
             "#fb9f3a"
            ],
            [
             0.8888888888888888,
             "#fdca26"
            ],
            [
             1,
             "#f0f921"
            ]
           ]
          },
          "colorway": [
           "#636efa",
           "#EF553B",
           "#00cc96",
           "#ab63fa",
           "#FFA15A",
           "#19d3f3",
           "#FF6692",
           "#B6E880",
           "#FF97FF",
           "#FECB52"
          ],
          "font": {
           "color": "#2a3f5f"
          },
          "geo": {
           "bgcolor": "white",
           "lakecolor": "white",
           "landcolor": "#E5ECF6",
           "showlakes": true,
           "showland": true,
           "subunitcolor": "white"
          },
          "hoverlabel": {
           "align": "left"
          },
          "hovermode": "closest",
          "mapbox": {
           "style": "light"
          },
          "paper_bgcolor": "white",
          "plot_bgcolor": "#E5ECF6",
          "polar": {
           "angularaxis": {
            "gridcolor": "white",
            "linecolor": "white",
            "ticks": ""
           },
           "bgcolor": "#E5ECF6",
           "radialaxis": {
            "gridcolor": "white",
            "linecolor": "white",
            "ticks": ""
           }
          },
          "scene": {
           "xaxis": {
            "backgroundcolor": "#E5ECF6",
            "gridcolor": "white",
            "gridwidth": 2,
            "linecolor": "white",
            "showbackground": true,
            "ticks": "",
            "zerolinecolor": "white"
           },
           "yaxis": {
            "backgroundcolor": "#E5ECF6",
            "gridcolor": "white",
            "gridwidth": 2,
            "linecolor": "white",
            "showbackground": true,
            "ticks": "",
            "zerolinecolor": "white"
           },
           "zaxis": {
            "backgroundcolor": "#E5ECF6",
            "gridcolor": "white",
            "gridwidth": 2,
            "linecolor": "white",
            "showbackground": true,
            "ticks": "",
            "zerolinecolor": "white"
           }
          },
          "shapedefaults": {
           "line": {
            "color": "#2a3f5f"
           }
          },
          "ternary": {
           "aaxis": {
            "gridcolor": "white",
            "linecolor": "white",
            "ticks": ""
           },
           "baxis": {
            "gridcolor": "white",
            "linecolor": "white",
            "ticks": ""
           },
           "bgcolor": "#E5ECF6",
           "caxis": {
            "gridcolor": "white",
            "linecolor": "white",
            "ticks": ""
           }
          },
          "title": {
           "x": 0.05
          },
          "xaxis": {
           "automargin": true,
           "gridcolor": "white",
           "linecolor": "white",
           "ticks": "",
           "title": {
            "standoff": 15
           },
           "zerolinecolor": "white",
           "zerolinewidth": 2
          },
          "yaxis": {
           "automargin": true,
           "gridcolor": "white",
           "linecolor": "white",
           "ticks": "",
           "title": {
            "standoff": 15
           },
           "zerolinecolor": "white",
           "zerolinewidth": 2
          }
         }
        }
       }
      },
      "text/html": [
       "<div>                        <script type=\"text/javascript\">window.PlotlyConfig = {MathJaxConfig: 'local'};</script>\n",
       "        <script charset=\"utf-8\" src=\"https://cdn.plot.ly/plotly-2.27.0.min.js\"></script>                <div id=\"a76229a7-ab00-45e1-bb2b-7ee9c4a54807\" class=\"plotly-graph-div\" style=\"height:100%; width:100%;\"></div>            <script type=\"text/javascript\">                                    window.PLOTLYENV=window.PLOTLYENV || {};                                    if (document.getElementById(\"a76229a7-ab00-45e1-bb2b-7ee9c4a54807\")) {                    Plotly.newPlot(                        \"a76229a7-ab00-45e1-bb2b-7ee9c4a54807\",                        [{\"hovertemplate\":\"feature1=%{x}\\u003cbr\\u003efeature2=%{y}\\u003cbr\\u003etarget=%{z}\\u003cextra\\u003e\\u003c\\u002fextra\\u003e\",\"legendgroup\":\"\",\"marker\":{\"color\":\"#636efa\",\"symbol\":\"circle\"},\"mode\":\"markers\",\"name\":\"\",\"scene\":\"scene\",\"showlegend\":false,\"x\":[-0.38678913335773374,0.3311497218139207,-0.11986092297672782,-0.36001610400620887,1.4133898293328253,-0.09303161026761599,-0.34459242538418206,1.115519715750474,-1.2830345906759053,1.0265115477979128,-0.05468614644331915,-1.8517611752319847,1.3506676645576912,-0.048119157984162116,-1.5502658218918939,-1.4554552686613855,-0.38454233212099115,-0.12787973621306561,0.30171663429888756,-1.6861020472159265,-1.032108653477773,0.4819964639041458,0.24919090524844836,0.8308507159591515,-1.0273307292926175,-0.438062455448657,-1.1524280572369077,-0.7374438901554772,-0.12269395931845353,-1.0400239437918808,0.20236370366383413,-0.742771680527367,1.0821888421006622,-2.6722784435073312,0.3714779373535723,1.3222678752478332,-2.3179136225913224,-0.7996025563385646,1.5617336724072184,0.019398669598570163,0.36881791876564995,-1.7159707305452654,-0.3186634357557173,-1.1687846561973492,-0.4061801596055291,0.509135446142082,0.41045464328274334,0.5599392499946287,-0.39309244882831484,-0.17551584446530205,-1.0805682464554953,-0.020659773393666047,-0.16886529795122476,-1.4887777480722857,0.03941229436566252,1.1219396052327926,1.2445073007989476,0.2429343457822032,-0.9257917749469241,0.10947881404693412,-0.20171007561431015,-0.6302463582825019,0.8830204625185987,0.144898240388165,1.1886090422132698,1.4497607625677111,0.5015535605269797,0.4927089231850265,-0.41726224014902463,-1.1196483614125115,1.9835408285817977,0.17194299397471918,-0.7228525260775757,-0.7695330689455264,2.0608049643564303,-0.888032191111747,-0.22817629755885954,1.1970823280632603,-0.009924295880861344,0.24147311353823706,-0.34322617602463307,0.6529254593521098,-1.2050796585505799,1.5928567633849977,-0.8332806195580236,0.943541635031261,0.3243526750798375,-0.2643921760916452,1.1115092982824748,-0.039030201221817704,-1.1143640745759629,0.2754512442186548,1.4112464268488576,0.7152678516810642,-1.2969830212525149,1.2045080453625423,-0.3968337830269751,-0.3260537025330851,-0.47748970605035823,-1.3148208422289778,0.41643188183937097,-0.16172595411605628,-2.1742351198759,-0.5120046679288888,0.021946843943808688,1.192026341880115,0.5771595497870867,-0.3257932247438146,-0.19997950696846825,-0.3161889607750535,0.22266283778002452,-0.7043176227855116,-0.2214000291319206,0.5842956880157886,-1.0427358116139407,-0.33524797160713915,0.9132593639967669,-1.538424832906508,0.6571806793114082,-1.3300191063071487,0.022315180249941946,-0.9647278143337291,-1.3608904954751533,-0.7098831762676348,1.0762075914762879,-0.8853997065899616,-0.7866446176518427,0.4065842513317708,-1.088183406731212,0.5893350787414081,-1.572505301862137,-0.6493770694229876,-1.6813462717969583,-1.0482722702881284,-1.618618395326903,0.04382471156100117,-0.3995949540397597,-0.2589221471118207,-0.17649911537699076,-1.0611283001596645,0.6965396405541193,1.9650368949677326,-0.9581698896281536,0.24585359192112077,-0.032447620614858695,0.6420163819311703,0.2627721442688121,0.6598022482933122,1.2514591469474972,0.38661537905309706],\"y\":[1.1044017354655729,0.7899778123522235,-0.06918027067759222,-0.6507264764768507,0.33629418120171684,-0.1634551405350063,-0.2844948209876248,-0.016967146406010197,-0.7669581743644532,0.2741399474982183,-0.030541765289173815,1.0935100615940745,0.48759186307800584,-1.2831885379342718,-0.06376736204689137,0.8832648591444232,-0.8564272267953436,-0.9227906464921329,-1.1379961854360463,-0.6113598313938166,-1.7207356166547094,0.5292805195023423,0.032739619531644934,0.3741878586713455,-0.21616668922686194,-1.3580047251884975,-2.3322939452655738,-1.2208430670682942,0.522061694680538,-0.23564512740768356,1.0509289946313642,-0.07228013205138306,-0.6521688733480347,-0.7906008225887587,-0.12128121746437467,-0.2595783481977648,0.6742464257371847,0.6896648560618609,-0.3127963310740897,1.0099495521298074,-0.24856131811247814,2.1223673168100903,-0.22343335661042982,-0.3140500205140347,0.5616315598913335,-0.32294811888133584,-0.24014503157039366,-2.3230413402984884,1.2749936542439526,-0.285615362257641,-0.8296959558502185,-0.4724846312566327,0.2080289305261485,1.8221202918900665,0.13719894505062796,0.3932468966572683,-1.1018162878200848,0.3988688420566304,0.3281332593610244,-0.3841054658557148,0.3912985870370002,0.407381309923699,1.4339899813678831,0.8496775940594291,-0.2863804905020729,0.0065688176601751145,0.11180627983911669,1.3993903444506957,-0.6399389458423833,-0.7761360224134708,-0.11398015484025381,0.9051674130691385,0.36836336637189265,-1.0907854801363066,1.2495805508985498,1.036884798750733,-0.6514980023431473,-0.655824545489751,1.0016187987501546,0.13521972031237453,-0.510973194865108,1.2886869784052153,-0.5042946874648453,-0.6341095042323401,-0.054949911029670326,0.6366379009369811,0.6377192460965121,-0.4479349814763342,0.6736759470607383,0.24836436534089362,-1.552309783078104,0.7658729751269447,-0.32747068170426774,-1.5946985582410094,-0.7092481801087489,1.2953048586271607,0.2274135109055343,-0.08970569542760337,-2.1073660021931664,1.2273066618553745,0.25091367250046526,-0.21953074569196032,1.206293978629117,-0.8716487089472746,0.01987554173448476,-0.07665084356316437,-0.9498659845668125,-1.1852872454438228,1.399102969055698,-0.9907372653812163,0.6236489037857935,-0.6444424429081899,-0.9070840935271157,-0.6983800844485339,-0.9633256597445532,-2.6814746118855135,1.01628941790841,1.0725592870986735,-1.6112178987914885,-0.349283746288437,-0.4873096682521039,-0.25894329179727565,-0.21016595091192625,0.3855561363406332,-0.1430583289812061,-0.5447744736014976,0.5673162216475425,-0.2443868237026492,1.6434332267071485,-1.0102271160675502,1.6445759176759709,-0.251848234586522,1.1558357328609716,0.1825194934946492,-0.7932236833165647,-1.6788907760728664,-0.37690785171875524,0.20606418501961685,-2.156425346431317,-0.04523846555974582,-0.14463695414267053,-0.8205189335315187,-2.054443689644954,-1.1205589191478738,1.658433565053658,1.6083750570255952,-1.1201949847230215,-0.5414010605369273,0.46307272788175996,-2.6812613654119812],\"z\":[-5.561426880837855,2.8472125429302224,-26.685426219270447,-89.3472757905005,183.96758170910056,-14.147730793455288,-122.52065714757282,83.48886061610989,-70.61641642697656,88.0363538282551,-55.76003091699987,-174.33950900226557,55.922353404853254,-13.811752281710802,-80.92486796878302,-172.34953113879038,-112.87398093344939,-22.33538725542885,20.463581450162017,-118.51917002173967,-178.29676433258248,56.03262065869216,42.38652755352986,68.7610339133683,-52.92509342945524,-110.17111434020978,-104.40911833996643,-92.65088541270445,-31.2039124443959,-56.523736014988856,96.96402957867011,-29.430540067836944,139.90832880438256,-229.92889440445535,70.67950484038887,147.35726419100084,-222.99952201135295,-19.780966793151954,92.51790923619224,48.41311650623551,-17.477503052480845,-149.44371174626883,-29.75458529302508,-139.69485151432275,-83.69864096196022,54.47599851563264,33.78137740807019,-80.04739690571265,57.70809384764236,-15.100188629225574,-89.87578884531759,12.759345702651634,2.5097920231176527,-169.50006879145317,29.301329225093404,129.5166589924651,88.60891243149365,22.270001483958243,-82.39720806949572,3.3327088646171,-9.065757119054732,-83.9515967022333,78.12921140194396,9.629449308255804,106.47431835446832,101.40358336295888,99.72156315193862,80.34182730252951,-74.44459231722738,-140.36534651490985,243.50162192528097,34.256289998914625,-40.11890078718179,-41.95882715852482,252.49190788588018,-58.640715521287795,62.717496930599616,187.2926935786574,58.66509430596339,19.622065689851286,-39.68984378014706,142.01197280746578,-82.99701593101706,108.86005387323499,-76.48097407180478,13.481155232208678,78.56528327891621,-33.03234657007846,119.52721311364151,-12.201540328998203,-102.96015944466501,5.928422502996916,86.96171828525435,48.17542880812286,-134.67489300450484,144.38771765934533,29.640734019897618,-53.56275197876338,-6.565631391444526,-113.8249713719314,34.76072096773478,11.270683704115896,-139.00482914221777,-62.985540193197025,30.699965869499252,38.46056237441478,63.220706758,-36.90300493187253,70.61818800594793,-39.37296625345809,51.0007666394674,-20.81540492508524,-102.10105522949934,-12.191057350105389,-119.44197708337072,-105.11670225630866,171.51850143730866,-133.99509722053062,13.199050696181338,-122.47243774705807,27.65319208940911,-69.82164734220187,-135.72906591349096,-30.756557175598214,57.828668276085885,-73.60336494559256,13.03514812453102,42.36011868471071,-49.88459919269661,72.87890543067219,-150.67810622918535,-45.36743988827574,-130.95520735565543,-162.4059822665747,-217.04603406543015,-27.62679052759403,-49.422259471005894,-63.81478391626991,-50.04671434048558,-65.41214375246429,-55.373280422504465,99.73486328804891,-142.54716559832264,-41.502231123752765,87.71761756051328,76.61554856730703,-15.712799123706365,-10.64799630725421,131.8604658202293,-26.616023458900695],\"type\":\"scatter3d\"}],                        {\"template\":{\"data\":{\"histogram2dcontour\":[{\"type\":\"histogram2dcontour\",\"colorbar\":{\"outlinewidth\":0,\"ticks\":\"\"},\"colorscale\":[[0.0,\"#0d0887\"],[0.1111111111111111,\"#46039f\"],[0.2222222222222222,\"#7201a8\"],[0.3333333333333333,\"#9c179e\"],[0.4444444444444444,\"#bd3786\"],[0.5555555555555556,\"#d8576b\"],[0.6666666666666666,\"#ed7953\"],[0.7777777777777778,\"#fb9f3a\"],[0.8888888888888888,\"#fdca26\"],[1.0,\"#f0f921\"]]}],\"choropleth\":[{\"type\":\"choropleth\",\"colorbar\":{\"outlinewidth\":0,\"ticks\":\"\"}}],\"histogram2d\":[{\"type\":\"histogram2d\",\"colorbar\":{\"outlinewidth\":0,\"ticks\":\"\"},\"colorscale\":[[0.0,\"#0d0887\"],[0.1111111111111111,\"#46039f\"],[0.2222222222222222,\"#7201a8\"],[0.3333333333333333,\"#9c179e\"],[0.4444444444444444,\"#bd3786\"],[0.5555555555555556,\"#d8576b\"],[0.6666666666666666,\"#ed7953\"],[0.7777777777777778,\"#fb9f3a\"],[0.8888888888888888,\"#fdca26\"],[1.0,\"#f0f921\"]]}],\"heatmap\":[{\"type\":\"heatmap\",\"colorbar\":{\"outlinewidth\":0,\"ticks\":\"\"},\"colorscale\":[[0.0,\"#0d0887\"],[0.1111111111111111,\"#46039f\"],[0.2222222222222222,\"#7201a8\"],[0.3333333333333333,\"#9c179e\"],[0.4444444444444444,\"#bd3786\"],[0.5555555555555556,\"#d8576b\"],[0.6666666666666666,\"#ed7953\"],[0.7777777777777778,\"#fb9f3a\"],[0.8888888888888888,\"#fdca26\"],[1.0,\"#f0f921\"]]}],\"heatmapgl\":[{\"type\":\"heatmapgl\",\"colorbar\":{\"outlinewidth\":0,\"ticks\":\"\"},\"colorscale\":[[0.0,\"#0d0887\"],[0.1111111111111111,\"#46039f\"],[0.2222222222222222,\"#7201a8\"],[0.3333333333333333,\"#9c179e\"],[0.4444444444444444,\"#bd3786\"],[0.5555555555555556,\"#d8576b\"],[0.6666666666666666,\"#ed7953\"],[0.7777777777777778,\"#fb9f3a\"],[0.8888888888888888,\"#fdca26\"],[1.0,\"#f0f921\"]]}],\"contourcarpet\":[{\"type\":\"contourcarpet\",\"colorbar\":{\"outlinewidth\":0,\"ticks\":\"\"}}],\"contour\":[{\"type\":\"contour\",\"colorbar\":{\"outlinewidth\":0,\"ticks\":\"\"},\"colorscale\":[[0.0,\"#0d0887\"],[0.1111111111111111,\"#46039f\"],[0.2222222222222222,\"#7201a8\"],[0.3333333333333333,\"#9c179e\"],[0.4444444444444444,\"#bd3786\"],[0.5555555555555556,\"#d8576b\"],[0.6666666666666666,\"#ed7953\"],[0.7777777777777778,\"#fb9f3a\"],[0.8888888888888888,\"#fdca26\"],[1.0,\"#f0f921\"]]}],\"surface\":[{\"type\":\"surface\",\"colorbar\":{\"outlinewidth\":0,\"ticks\":\"\"},\"colorscale\":[[0.0,\"#0d0887\"],[0.1111111111111111,\"#46039f\"],[0.2222222222222222,\"#7201a8\"],[0.3333333333333333,\"#9c179e\"],[0.4444444444444444,\"#bd3786\"],[0.5555555555555556,\"#d8576b\"],[0.6666666666666666,\"#ed7953\"],[0.7777777777777778,\"#fb9f3a\"],[0.8888888888888888,\"#fdca26\"],[1.0,\"#f0f921\"]]}],\"mesh3d\":[{\"type\":\"mesh3d\",\"colorbar\":{\"outlinewidth\":0,\"ticks\":\"\"}}],\"scatter\":[{\"fillpattern\":{\"fillmode\":\"overlay\",\"size\":10,\"solidity\":0.2},\"type\":\"scatter\"}],\"parcoords\":[{\"type\":\"parcoords\",\"line\":{\"colorbar\":{\"outlinewidth\":0,\"ticks\":\"\"}}}],\"scatterpolargl\":[{\"type\":\"scatterpolargl\",\"marker\":{\"colorbar\":{\"outlinewidth\":0,\"ticks\":\"\"}}}],\"bar\":[{\"error_x\":{\"color\":\"#2a3f5f\"},\"error_y\":{\"color\":\"#2a3f5f\"},\"marker\":{\"line\":{\"color\":\"#E5ECF6\",\"width\":0.5},\"pattern\":{\"fillmode\":\"overlay\",\"size\":10,\"solidity\":0.2}},\"type\":\"bar\"}],\"scattergeo\":[{\"type\":\"scattergeo\",\"marker\":{\"colorbar\":{\"outlinewidth\":0,\"ticks\":\"\"}}}],\"scatterpolar\":[{\"type\":\"scatterpolar\",\"marker\":{\"colorbar\":{\"outlinewidth\":0,\"ticks\":\"\"}}}],\"histogram\":[{\"marker\":{\"pattern\":{\"fillmode\":\"overlay\",\"size\":10,\"solidity\":0.2}},\"type\":\"histogram\"}],\"scattergl\":[{\"type\":\"scattergl\",\"marker\":{\"colorbar\":{\"outlinewidth\":0,\"ticks\":\"\"}}}],\"scatter3d\":[{\"type\":\"scatter3d\",\"line\":{\"colorbar\":{\"outlinewidth\":0,\"ticks\":\"\"}},\"marker\":{\"colorbar\":{\"outlinewidth\":0,\"ticks\":\"\"}}}],\"scattermapbox\":[{\"type\":\"scattermapbox\",\"marker\":{\"colorbar\":{\"outlinewidth\":0,\"ticks\":\"\"}}}],\"scatterternary\":[{\"type\":\"scatterternary\",\"marker\":{\"colorbar\":{\"outlinewidth\":0,\"ticks\":\"\"}}}],\"scattercarpet\":[{\"type\":\"scattercarpet\",\"marker\":{\"colorbar\":{\"outlinewidth\":0,\"ticks\":\"\"}}}],\"carpet\":[{\"aaxis\":{\"endlinecolor\":\"#2a3f5f\",\"gridcolor\":\"white\",\"linecolor\":\"white\",\"minorgridcolor\":\"white\",\"startlinecolor\":\"#2a3f5f\"},\"baxis\":{\"endlinecolor\":\"#2a3f5f\",\"gridcolor\":\"white\",\"linecolor\":\"white\",\"minorgridcolor\":\"white\",\"startlinecolor\":\"#2a3f5f\"},\"type\":\"carpet\"}],\"table\":[{\"cells\":{\"fill\":{\"color\":\"#EBF0F8\"},\"line\":{\"color\":\"white\"}},\"header\":{\"fill\":{\"color\":\"#C8D4E3\"},\"line\":{\"color\":\"white\"}},\"type\":\"table\"}],\"barpolar\":[{\"marker\":{\"line\":{\"color\":\"#E5ECF6\",\"width\":0.5},\"pattern\":{\"fillmode\":\"overlay\",\"size\":10,\"solidity\":0.2}},\"type\":\"barpolar\"}],\"pie\":[{\"automargin\":true,\"type\":\"pie\"}]},\"layout\":{\"autotypenumbers\":\"strict\",\"colorway\":[\"#636efa\",\"#EF553B\",\"#00cc96\",\"#ab63fa\",\"#FFA15A\",\"#19d3f3\",\"#FF6692\",\"#B6E880\",\"#FF97FF\",\"#FECB52\"],\"font\":{\"color\":\"#2a3f5f\"},\"hovermode\":\"closest\",\"hoverlabel\":{\"align\":\"left\"},\"paper_bgcolor\":\"white\",\"plot_bgcolor\":\"#E5ECF6\",\"polar\":{\"bgcolor\":\"#E5ECF6\",\"angularaxis\":{\"gridcolor\":\"white\",\"linecolor\":\"white\",\"ticks\":\"\"},\"radialaxis\":{\"gridcolor\":\"white\",\"linecolor\":\"white\",\"ticks\":\"\"}},\"ternary\":{\"bgcolor\":\"#E5ECF6\",\"aaxis\":{\"gridcolor\":\"white\",\"linecolor\":\"white\",\"ticks\":\"\"},\"baxis\":{\"gridcolor\":\"white\",\"linecolor\":\"white\",\"ticks\":\"\"},\"caxis\":{\"gridcolor\":\"white\",\"linecolor\":\"white\",\"ticks\":\"\"}},\"coloraxis\":{\"colorbar\":{\"outlinewidth\":0,\"ticks\":\"\"}},\"colorscale\":{\"sequential\":[[0.0,\"#0d0887\"],[0.1111111111111111,\"#46039f\"],[0.2222222222222222,\"#7201a8\"],[0.3333333333333333,\"#9c179e\"],[0.4444444444444444,\"#bd3786\"],[0.5555555555555556,\"#d8576b\"],[0.6666666666666666,\"#ed7953\"],[0.7777777777777778,\"#fb9f3a\"],[0.8888888888888888,\"#fdca26\"],[1.0,\"#f0f921\"]],\"sequentialminus\":[[0.0,\"#0d0887\"],[0.1111111111111111,\"#46039f\"],[0.2222222222222222,\"#7201a8\"],[0.3333333333333333,\"#9c179e\"],[0.4444444444444444,\"#bd3786\"],[0.5555555555555556,\"#d8576b\"],[0.6666666666666666,\"#ed7953\"],[0.7777777777777778,\"#fb9f3a\"],[0.8888888888888888,\"#fdca26\"],[1.0,\"#f0f921\"]],\"diverging\":[[0,\"#8e0152\"],[0.1,\"#c51b7d\"],[0.2,\"#de77ae\"],[0.3,\"#f1b6da\"],[0.4,\"#fde0ef\"],[0.5,\"#f7f7f7\"],[0.6,\"#e6f5d0\"],[0.7,\"#b8e186\"],[0.8,\"#7fbc41\"],[0.9,\"#4d9221\"],[1,\"#276419\"]]},\"xaxis\":{\"gridcolor\":\"white\",\"linecolor\":\"white\",\"ticks\":\"\",\"title\":{\"standoff\":15},\"zerolinecolor\":\"white\",\"automargin\":true,\"zerolinewidth\":2},\"yaxis\":{\"gridcolor\":\"white\",\"linecolor\":\"white\",\"ticks\":\"\",\"title\":{\"standoff\":15},\"zerolinecolor\":\"white\",\"automargin\":true,\"zerolinewidth\":2},\"scene\":{\"xaxis\":{\"backgroundcolor\":\"#E5ECF6\",\"gridcolor\":\"white\",\"linecolor\":\"white\",\"showbackground\":true,\"ticks\":\"\",\"zerolinecolor\":\"white\",\"gridwidth\":2},\"yaxis\":{\"backgroundcolor\":\"#E5ECF6\",\"gridcolor\":\"white\",\"linecolor\":\"white\",\"showbackground\":true,\"ticks\":\"\",\"zerolinecolor\":\"white\",\"gridwidth\":2},\"zaxis\":{\"backgroundcolor\":\"#E5ECF6\",\"gridcolor\":\"white\",\"linecolor\":\"white\",\"showbackground\":true,\"ticks\":\"\",\"zerolinecolor\":\"white\",\"gridwidth\":2}},\"shapedefaults\":{\"line\":{\"color\":\"#2a3f5f\"}},\"annotationdefaults\":{\"arrowcolor\":\"#2a3f5f\",\"arrowhead\":0,\"arrowwidth\":1},\"geo\":{\"bgcolor\":\"white\",\"landcolor\":\"#E5ECF6\",\"subunitcolor\":\"white\",\"showland\":true,\"showlakes\":true,\"lakecolor\":\"white\"},\"title\":{\"x\":0.05},\"mapbox\":{\"style\":\"light\"}}},\"scene\":{\"domain\":{\"x\":[0.0,1.0],\"y\":[0.0,1.0]},\"xaxis\":{\"title\":{\"text\":\"feature1\"}},\"yaxis\":{\"title\":{\"text\":\"feature2\"}},\"zaxis\":{\"title\":{\"text\":\"target\"}}},\"legend\":{\"tracegroupgap\":0},\"margin\":{\"t\":60}},                        {\"responsive\": true}                    )                };                            </script>        </div>"
      ],
      "text/plain": [
       "Figure({\n",
       "    'data': [{'hovertemplate': 'feature1=%{x}<br>feature2=%{y}<br>target=%{z}<extra></extra>',\n",
       "              'legendgroup': '',\n",
       "              'marker': {'color': '#636efa', 'symbol': 'circle'},\n",
       "              'mode': 'markers',\n",
       "              'name': '',\n",
       "              'scene': 'scene',\n",
       "              'showlegend': False,\n",
       "              'type': 'scatter3d',\n",
       "              'x': array([-0.38678913,  0.33114972, -0.11986092, -0.3600161 ,  1.41338983,\n",
       "                          -0.09303161, -0.34459243,  1.11551972, -1.28303459,  1.02651155,\n",
       "                          -0.05468615, -1.85176118,  1.35066766, -0.04811916, -1.55026582,\n",
       "                          -1.45545527, -0.38454233, -0.12787974,  0.30171663, -1.68610205,\n",
       "                          -1.03210865,  0.48199646,  0.24919091,  0.83085072, -1.02733073,\n",
       "                          -0.43806246, -1.15242806, -0.73744389, -0.12269396, -1.04002394,\n",
       "                           0.2023637 , -0.74277168,  1.08218884, -2.67227844,  0.37147794,\n",
       "                           1.32226788, -2.31791362, -0.79960256,  1.56173367,  0.01939867,\n",
       "                           0.36881792, -1.71597073, -0.31866344, -1.16878466, -0.40618016,\n",
       "                           0.50913545,  0.41045464,  0.55993925, -0.39309245, -0.17551584,\n",
       "                          -1.08056825, -0.02065977, -0.1688653 , -1.48877775,  0.03941229,\n",
       "                           1.12193961,  1.2445073 ,  0.24293435, -0.92579177,  0.10947881,\n",
       "                          -0.20171008, -0.63024636,  0.88302046,  0.14489824,  1.18860904,\n",
       "                           1.44976076,  0.50155356,  0.49270892, -0.41726224, -1.11964836,\n",
       "                           1.98354083,  0.17194299, -0.72285253, -0.76953307,  2.06080496,\n",
       "                          -0.88803219, -0.2281763 ,  1.19708233, -0.0099243 ,  0.24147311,\n",
       "                          -0.34322618,  0.65292546, -1.20507966,  1.59285676, -0.83328062,\n",
       "                           0.94354164,  0.32435268, -0.26439218,  1.1115093 , -0.0390302 ,\n",
       "                          -1.11436407,  0.27545124,  1.41124643,  0.71526785, -1.29698302,\n",
       "                           1.20450805, -0.39683378, -0.3260537 , -0.47748971, -1.31482084,\n",
       "                           0.41643188, -0.16172595, -2.17423512, -0.51200467,  0.02194684,\n",
       "                           1.19202634,  0.57715955, -0.32579322, -0.19997951, -0.31618896,\n",
       "                           0.22266284, -0.70431762, -0.22140003,  0.58429569, -1.04273581,\n",
       "                          -0.33524797,  0.91325936, -1.53842483,  0.65718068, -1.33001911,\n",
       "                           0.02231518, -0.96472781, -1.3608905 , -0.70988318,  1.07620759,\n",
       "                          -0.88539971, -0.78664462,  0.40658425, -1.08818341,  0.58933508,\n",
       "                          -1.5725053 , -0.64937707, -1.68134627, -1.04827227, -1.6186184 ,\n",
       "                           0.04382471, -0.39959495, -0.25892215, -0.17649912, -1.0611283 ,\n",
       "                           0.69653964,  1.96503689, -0.95816989,  0.24585359, -0.03244762,\n",
       "                           0.64201638,  0.26277214,  0.65980225,  1.25145915,  0.38661538]),\n",
       "              'y': array([ 1.10440174,  0.78997781, -0.06918027, -0.65072648,  0.33629418,\n",
       "                          -0.16345514, -0.28449482, -0.01696715, -0.76695817,  0.27413995,\n",
       "                          -0.03054177,  1.09351006,  0.48759186, -1.28318854, -0.06376736,\n",
       "                           0.88326486, -0.85642723, -0.92279065, -1.13799619, -0.61135983,\n",
       "                          -1.72073562,  0.52928052,  0.03273962,  0.37418786, -0.21616669,\n",
       "                          -1.35800473, -2.33229395, -1.22084307,  0.52206169, -0.23564513,\n",
       "                           1.05092899, -0.07228013, -0.65216887, -0.79060082, -0.12128122,\n",
       "                          -0.25957835,  0.67424643,  0.68966486, -0.31279633,  1.00994955,\n",
       "                          -0.24856132,  2.12236732, -0.22343336, -0.31405002,  0.56163156,\n",
       "                          -0.32294812, -0.24014503, -2.32304134,  1.27499365, -0.28561536,\n",
       "                          -0.82969596, -0.47248463,  0.20802893,  1.82212029,  0.13719895,\n",
       "                           0.3932469 , -1.10181629,  0.39886884,  0.32813326, -0.38410547,\n",
       "                           0.39129859,  0.40738131,  1.43398998,  0.84967759, -0.28638049,\n",
       "                           0.00656882,  0.11180628,  1.39939034, -0.63993895, -0.77613602,\n",
       "                          -0.11398015,  0.90516741,  0.36836337, -1.09078548,  1.24958055,\n",
       "                           1.0368848 , -0.651498  , -0.65582455,  1.0016188 ,  0.13521972,\n",
       "                          -0.51097319,  1.28868698, -0.50429469, -0.6341095 , -0.05494991,\n",
       "                           0.6366379 ,  0.63771925, -0.44793498,  0.67367595,  0.24836437,\n",
       "                          -1.55230978,  0.76587298, -0.32747068, -1.59469856, -0.70924818,\n",
       "                           1.29530486,  0.22741351, -0.0897057 , -2.107366  ,  1.22730666,\n",
       "                           0.25091367, -0.21953075,  1.20629398, -0.87164871,  0.01987554,\n",
       "                          -0.07665084, -0.94986598, -1.18528725,  1.39910297, -0.99073727,\n",
       "                           0.6236489 , -0.64444244, -0.90708409, -0.69838008, -0.96332566,\n",
       "                          -2.68147461,  1.01628942,  1.07255929, -1.6112179 , -0.34928375,\n",
       "                          -0.48730967, -0.25894329, -0.21016595,  0.38555614, -0.14305833,\n",
       "                          -0.54477447,  0.56731622, -0.24438682,  1.64343323, -1.01022712,\n",
       "                           1.64457592, -0.25184823,  1.15583573,  0.18251949, -0.79322368,\n",
       "                          -1.67889078, -0.37690785,  0.20606419, -2.15642535, -0.04523847,\n",
       "                          -0.14463695, -0.82051893, -2.05444369, -1.12055892,  1.65843357,\n",
       "                           1.60837506, -1.12019498, -0.54140106,  0.46307273, -2.68126137]),\n",
       "              'z': array([  -5.56142688,    2.84721254,  -26.68542622,  -89.34727579,\n",
       "                           183.96758171,  -14.14773079, -122.52065715,   83.48886062,\n",
       "                           -70.61641643,   88.03635383,  -55.76003092, -174.339509  ,\n",
       "                            55.9223534 ,  -13.81175228,  -80.92486797, -172.34953114,\n",
       "                          -112.87398093,  -22.33538726,   20.46358145, -118.51917002,\n",
       "                          -178.29676433,   56.03262066,   42.38652755,   68.76103391,\n",
       "                           -52.92509343, -110.17111434, -104.40911834,  -92.65088541,\n",
       "                           -31.20391244,  -56.52373601,   96.96402958,  -29.43054007,\n",
       "                           139.9083288 , -229.9288944 ,   70.67950484,  147.35726419,\n",
       "                          -222.99952201,  -19.78096679,   92.51790924,   48.41311651,\n",
       "                           -17.47750305, -149.44371175,  -29.75458529, -139.69485151,\n",
       "                           -83.69864096,   54.47599852,   33.78137741,  -80.04739691,\n",
       "                            57.70809385,  -15.10018863,  -89.87578885,   12.7593457 ,\n",
       "                             2.50979202, -169.50006879,   29.30132923,  129.51665899,\n",
       "                            88.60891243,   22.27000148,  -82.39720807,    3.33270886,\n",
       "                            -9.06575712,  -83.9515967 ,   78.1292114 ,    9.62944931,\n",
       "                           106.47431835,  101.40358336,   99.72156315,   80.3418273 ,\n",
       "                           -74.44459232, -140.36534651,  243.50162193,   34.25629   ,\n",
       "                           -40.11890079,  -41.95882716,  252.49190789,  -58.64071552,\n",
       "                            62.71749693,  187.29269358,   58.66509431,   19.62206569,\n",
       "                           -39.68984378,  142.01197281,  -82.99701593,  108.86005387,\n",
       "                           -76.48097407,   13.48115523,   78.56528328,  -33.03234657,\n",
       "                           119.52721311,  -12.20154033, -102.96015944,    5.9284225 ,\n",
       "                            86.96171829,   48.17542881, -134.674893  ,  144.38771766,\n",
       "                            29.64073402,  -53.56275198,   -6.56563139, -113.82497137,\n",
       "                            34.76072097,   11.2706837 , -139.00482914,  -62.98554019,\n",
       "                            30.69996587,   38.46056237,   63.22070676,  -36.90300493,\n",
       "                            70.61818801,  -39.37296625,   51.00076664,  -20.81540493,\n",
       "                          -102.10105523,  -12.19105735, -119.44197708, -105.11670226,\n",
       "                           171.51850144, -133.99509722,   13.1990507 , -122.47243775,\n",
       "                            27.65319209,  -69.82164734, -135.72906591,  -30.75655718,\n",
       "                            57.82866828,  -73.60336495,   13.03514812,   42.36011868,\n",
       "                           -49.88459919,   72.87890543, -150.67810623,  -45.36743989,\n",
       "                          -130.95520736, -162.40598227, -217.04603407,  -27.62679053,\n",
       "                           -49.42225947,  -63.81478392,  -50.04671434,  -65.41214375,\n",
       "                           -55.37328042,   99.73486329, -142.5471656 ,  -41.50223112,\n",
       "                            87.71761756,   76.61554857,  -15.71279912,  -10.64799631,\n",
       "                           131.86046582,  -26.61602346])}],\n",
       "    'layout': {'legend': {'tracegroupgap': 0},\n",
       "               'margin': {'t': 60},\n",
       "               'scene': {'domain': {'x': [0.0, 1.0], 'y': [0.0, 1.0]},\n",
       "                         'xaxis': {'title': {'text': 'feature1'}},\n",
       "                         'yaxis': {'title': {'text': 'feature2'}},\n",
       "                         'zaxis': {'title': {'text': 'target'}}},\n",
       "               'template': '...'}\n",
       "})"
      ]
     },
     "execution_count": 71,
     "metadata": {},
     "output_type": "execute_result"
    }
   ],
   "source": [
    "import plotly.express as px\n",
    "px.scatter_3d(df,x=\"feature1\",y=\"feature2\",z=\"target\")"
   ]
  },
  {
   "cell_type": "code",
   "execution_count": 72,
   "metadata": {},
   "outputs": [],
   "source": [
    "from sklearn.model_selection import train_test_split\n",
    "X_train,X_test,y_train,y_test = train_test_split(X,y,test_size=0.15,random_state=3)"
   ]
  },
  {
   "cell_type": "code",
   "execution_count": 75,
   "metadata": {},
   "outputs": [
    {
     "name": "stdout",
     "output_type": "stream",
     "text": [
      "score  0.854745554816461\n",
      "r2score  0.5005237079278266\n",
      "mean_squared_error  3412.335197906623\n",
      "mean_absolute_error  49.1227263557368\n",
      "intercept_  7.152140510971295\n",
      "coef_  [91.94542818 17.92367078]\n"
     ]
    }
   ],
   "source": [
    "from sklearn import linear_model\n",
    "from sklearn.metrics import mean_absolute_error,mean_squared_error\n",
    "model = linear_model.LinearRegression()\n",
    "model.fit(X_train,y_train)\n",
    "print(\"score \",model.score(X_train,y_train))\n",
    "y_pred_model=model.predict(X_test)\n",
    "print(\"r2score \",r2_score(y_test, y_pred_model))\n",
    "print(\"mean_squared_error \",mean_squared_error(y_test, y_pred_model))\n",
    "print(\"mean_absolute_error \",mean_absolute_error(y_test, y_pred_model))\n",
    "print(\"intercept_ \",model.intercept_)\n",
    "print(\"coef_ \",model.coef_)"
   ]
  },
  {
   "cell_type": "code",
   "execution_count": 76,
   "metadata": {},
   "outputs": [
    {
     "name": "stdout",
     "output_type": "stream",
     "text": [
      "score  0.8545093497508522\n",
      "r2score  0.5015770198067124\n",
      "mean_squared_error  3405.1391542590186\n",
      "mean_absolute_error  49.04299660877837\n",
      "intercept_  6.898186909935378\n",
      "coef_  [90.84739206 16.87741884]\n"
     ]
    }
   ],
   "source": [
    "from sklearn import linear_model\n",
    "from sklearn.metrics import mean_absolute_error,mean_squared_error\n",
    "model = linear_model.Lasso()\n",
    "model.fit(X_train,y_train)\n",
    "print(\"score \",model.score(X_train,y_train))\n",
    "y_pred_model=model.predict(X_test)\n",
    "print(\"r2score \",r2_score(y_test, y_pred_model))\n",
    "print(\"mean_squared_error \",mean_squared_error(y_test, y_pred_model))\n",
    "print(\"mean_absolute_error \",mean_absolute_error(y_test, y_pred_model))\n",
    "print(\"intercept_ \",model.intercept_)\n",
    "print(\"coef_ \",model.coef_)"
   ]
  },
  {
   "cell_type": "code",
   "execution_count": 77,
   "metadata": {},
   "outputs": [
    {
     "name": "stdout",
     "output_type": "stream",
     "text": [
      "score  0.8546787415986442\n",
      "r2score  0.5051540237876273\n",
      "mean_squared_error  3380.7016848918756\n",
      "mean_absolute_error  48.79206389755745\n",
      "intercept_  7.00416235598774\n",
      "coef_  [91.12176144 17.81275188]\n"
     ]
    }
   ],
   "source": [
    "from sklearn import linear_model\n",
    "from sklearn.metrics import mean_absolute_error,mean_squared_error\n",
    "model = linear_model.Ridge()\n",
    "model.fit(X_train,y_train)\n",
    "print(\"score \",model.score(X_train,y_train))\n",
    "y_pred_model=model.predict(X_test)\n",
    "print(\"r2score \",r2_score(y_test, y_pred_model))\n",
    "print(\"mean_squared_error \",mean_squared_error(y_test, y_pred_model))\n",
    "print(\"mean_absolute_error \",mean_absolute_error(y_test, y_pred_model))\n",
    "print(\"intercept_ \",model.intercept_)\n",
    "print(\"coef_ \",model.coef_)"
   ]
  },
  {
   "cell_type": "code",
   "execution_count": null,
   "metadata": {},
   "outputs": [],
   "source": []
  },
  {
   "cell_type": "code",
   "execution_count": 78,
   "metadata": {},
   "outputs": [],
   "source": [
    "from sklearn.datasets import load_diabetes"
   ]
  },
  {
   "cell_type": "code",
   "execution_count": 79,
   "metadata": {},
   "outputs": [],
   "source": [
    "data=load_diabetes()"
   ]
  },
  {
   "cell_type": "code",
   "execution_count": 85,
   "metadata": {},
   "outputs": [
    {
     "data": {
      "text/plain": [
       "{'data': array([[ 0.03807591,  0.05068012,  0.06169621, ..., -0.00259226,\n",
       "          0.01990749, -0.01764613],\n",
       "        [-0.00188202, -0.04464164, -0.05147406, ..., -0.03949338,\n",
       "         -0.06833155, -0.09220405],\n",
       "        [ 0.08529891,  0.05068012,  0.04445121, ..., -0.00259226,\n",
       "          0.00286131, -0.02593034],\n",
       "        ...,\n",
       "        [ 0.04170844,  0.05068012, -0.01590626, ..., -0.01107952,\n",
       "         -0.04688253,  0.01549073],\n",
       "        [-0.04547248, -0.04464164,  0.03906215, ...,  0.02655962,\n",
       "          0.04452873, -0.02593034],\n",
       "        [-0.04547248, -0.04464164, -0.0730303 , ..., -0.03949338,\n",
       "         -0.00422151,  0.00306441]]),\n",
       " 'target': array([151.,  75., 141., 206., 135.,  97., 138.,  63., 110., 310., 101.,\n",
       "         69., 179., 185., 118., 171., 166., 144.,  97., 168.,  68.,  49.,\n",
       "         68., 245., 184., 202., 137.,  85., 131., 283., 129.,  59., 341.,\n",
       "         87.,  65., 102., 265., 276., 252.,  90., 100.,  55.,  61.,  92.,\n",
       "        259.,  53., 190., 142.,  75., 142., 155., 225.,  59., 104., 182.,\n",
       "        128.,  52.,  37., 170., 170.,  61., 144.,  52., 128.,  71., 163.,\n",
       "        150.,  97., 160., 178.,  48., 270., 202., 111.,  85.,  42., 170.,\n",
       "        200., 252., 113., 143.,  51.,  52., 210.,  65., 141.,  55., 134.,\n",
       "         42., 111.,  98., 164.,  48.,  96.,  90., 162., 150., 279.,  92.,\n",
       "         83., 128., 102., 302., 198.,  95.,  53., 134., 144., 232.,  81.,\n",
       "        104.,  59., 246., 297., 258., 229., 275., 281., 179., 200., 200.,\n",
       "        173., 180.,  84., 121., 161.,  99., 109., 115., 268., 274., 158.,\n",
       "        107.,  83., 103., 272.,  85., 280., 336., 281., 118., 317., 235.,\n",
       "         60., 174., 259., 178., 128.,  96., 126., 288.,  88., 292.,  71.,\n",
       "        197., 186.,  25.,  84.,  96., 195.,  53., 217., 172., 131., 214.,\n",
       "         59.,  70., 220., 268., 152.,  47.,  74., 295., 101., 151., 127.,\n",
       "        237., 225.,  81., 151., 107.,  64., 138., 185., 265., 101., 137.,\n",
       "        143., 141.,  79., 292., 178.,  91., 116.,  86., 122.,  72., 129.,\n",
       "        142.,  90., 158.,  39., 196., 222., 277.,  99., 196., 202., 155.,\n",
       "         77., 191.,  70.,  73.,  49.,  65., 263., 248., 296., 214., 185.,\n",
       "         78.,  93., 252., 150.,  77., 208.,  77., 108., 160.,  53., 220.,\n",
       "        154., 259.,  90., 246., 124.,  67.,  72., 257., 262., 275., 177.,\n",
       "         71.,  47., 187., 125.,  78.,  51., 258., 215., 303., 243.,  91.,\n",
       "        150., 310., 153., 346.,  63.,  89.,  50.,  39., 103., 308., 116.,\n",
       "        145.,  74.,  45., 115., 264.,  87., 202., 127., 182., 241.,  66.,\n",
       "         94., 283.,  64., 102., 200., 265.,  94., 230., 181., 156., 233.,\n",
       "         60., 219.,  80.,  68., 332., 248.,  84., 200.,  55.,  85.,  89.,\n",
       "         31., 129.,  83., 275.,  65., 198., 236., 253., 124.,  44., 172.,\n",
       "        114., 142., 109., 180., 144., 163., 147.,  97., 220., 190., 109.,\n",
       "        191., 122., 230., 242., 248., 249., 192., 131., 237.,  78., 135.,\n",
       "        244., 199., 270., 164.,  72.,  96., 306.,  91., 214.,  95., 216.,\n",
       "        263., 178., 113., 200., 139., 139.,  88., 148.,  88., 243.,  71.,\n",
       "         77., 109., 272.,  60.,  54., 221.,  90., 311., 281., 182., 321.,\n",
       "         58., 262., 206., 233., 242., 123., 167.,  63., 197.,  71., 168.,\n",
       "        140., 217., 121., 235., 245.,  40.,  52., 104., 132.,  88.,  69.,\n",
       "        219.,  72., 201., 110.,  51., 277.,  63., 118.,  69., 273., 258.,\n",
       "         43., 198., 242., 232., 175.,  93., 168., 275., 293., 281.,  72.,\n",
       "        140., 189., 181., 209., 136., 261., 113., 131., 174., 257.,  55.,\n",
       "         84.,  42., 146., 212., 233.,  91., 111., 152., 120.,  67., 310.,\n",
       "         94., 183.,  66., 173.,  72.,  49.,  64.,  48., 178., 104., 132.,\n",
       "        220.,  57.]),\n",
       " 'frame': None,\n",
       " 'DESCR': '.. _diabetes_dataset:\\n\\nDiabetes dataset\\n----------------\\n\\nTen baseline variables, age, sex, body mass index, average blood\\npressure, and six blood serum measurements were obtained for each of n =\\n442 diabetes patients, as well as the response of interest, a\\nquantitative measure of disease progression one year after baseline.\\n\\n**Data Set Characteristics:**\\n\\n  :Number of Instances: 442\\n\\n  :Number of Attributes: First 10 columns are numeric predictive values\\n\\n  :Target: Column 11 is a quantitative measure of disease progression one year after baseline\\n\\n  :Attribute Information:\\n      - age     age in years\\n      - sex\\n      - bmi     body mass index\\n      - bp      average blood pressure\\n      - s1      tc, total serum cholesterol\\n      - s2      ldl, low-density lipoproteins\\n      - s3      hdl, high-density lipoproteins\\n      - s4      tch, total cholesterol / HDL\\n      - s5      ltg, possibly log of serum triglycerides level\\n      - s6      glu, blood sugar level\\n\\nNote: Each of these 10 feature variables have been mean centered and scaled by the standard deviation times the square root of `n_samples` (i.e. the sum of squares of each column totals 1).\\n\\nSource URL:\\nhttps://www4.stat.ncsu.edu/~boos/var.select/diabetes.html\\n\\nFor more information see:\\nBradley Efron, Trevor Hastie, Iain Johnstone and Robert Tibshirani (2004) \"Least Angle Regression,\" Annals of Statistics (with discussion), 407-499.\\n(https://web.stanford.edu/~hastie/Papers/LARS/LeastAngle_2002.pdf)\\n',\n",
       " 'feature_names': ['age',\n",
       "  'sex',\n",
       "  'bmi',\n",
       "  'bp',\n",
       "  's1',\n",
       "  's2',\n",
       "  's3',\n",
       "  's4',\n",
       "  's5',\n",
       "  's6'],\n",
       " 'data_filename': 'diabetes_data_raw.csv.gz',\n",
       " 'target_filename': 'diabetes_target.csv.gz',\n",
       " 'data_module': 'sklearn.datasets.data'}"
      ]
     },
     "execution_count": 85,
     "metadata": {},
     "output_type": "execute_result"
    }
   ],
   "source": [
    "data"
   ]
  },
  {
   "cell_type": "code",
   "execution_count": 80,
   "metadata": {},
   "outputs": [
    {
     "name": "stdout",
     "output_type": "stream",
     "text": [
      ".. _diabetes_dataset:\n",
      "\n",
      "Diabetes dataset\n",
      "----------------\n",
      "\n",
      "Ten baseline variables, age, sex, body mass index, average blood\n",
      "pressure, and six blood serum measurements were obtained for each of n =\n",
      "442 diabetes patients, as well as the response of interest, a\n",
      "quantitative measure of disease progression one year after baseline.\n",
      "\n",
      "**Data Set Characteristics:**\n",
      "\n",
      "  :Number of Instances: 442\n",
      "\n",
      "  :Number of Attributes: First 10 columns are numeric predictive values\n",
      "\n",
      "  :Target: Column 11 is a quantitative measure of disease progression one year after baseline\n",
      "\n",
      "  :Attribute Information:\n",
      "      - age     age in years\n",
      "      - sex\n",
      "      - bmi     body mass index\n",
      "      - bp      average blood pressure\n",
      "      - s1      tc, total serum cholesterol\n",
      "      - s2      ldl, low-density lipoproteins\n",
      "      - s3      hdl, high-density lipoproteins\n",
      "      - s4      tch, total cholesterol / HDL\n",
      "      - s5      ltg, possibly log of serum triglycerides level\n",
      "      - s6      glu, blood sugar level\n",
      "\n",
      "Note: Each of these 10 feature variables have been mean centered and scaled by the standard deviation times the square root of `n_samples` (i.e. the sum of squares of each column totals 1).\n",
      "\n",
      "Source URL:\n",
      "https://www4.stat.ncsu.edu/~boos/var.select/diabetes.html\n",
      "\n",
      "For more information see:\n",
      "Bradley Efron, Trevor Hastie, Iain Johnstone and Robert Tibshirani (2004) \"Least Angle Regression,\" Annals of Statistics (with discussion), 407-499.\n",
      "(https://web.stanford.edu/~hastie/Papers/LARS/LeastAngle_2002.pdf)\n",
      "\n"
     ]
    }
   ],
   "source": [
    "print(data.DESCR)"
   ]
  },
  {
   "cell_type": "code",
   "execution_count": 82,
   "metadata": {},
   "outputs": [],
   "source": [
    "X=data.data"
   ]
  },
  {
   "cell_type": "code",
   "execution_count": 81,
   "metadata": {},
   "outputs": [],
   "source": [
    "y=data.target"
   ]
  },
  {
   "cell_type": "code",
   "execution_count": 83,
   "metadata": {},
   "outputs": [
    {
     "data": {
      "text/plain": [
       "array([151.,  75., 141., 206., 135.,  97., 138.,  63., 110., 310., 101.,\n",
       "        69., 179., 185., 118., 171., 166., 144.,  97., 168.,  68.,  49.,\n",
       "        68., 245., 184., 202., 137.,  85., 131., 283., 129.,  59., 341.,\n",
       "        87.,  65., 102., 265., 276., 252.,  90., 100.,  55.,  61.,  92.,\n",
       "       259.,  53., 190., 142.,  75., 142., 155., 225.,  59., 104., 182.,\n",
       "       128.,  52.,  37., 170., 170.,  61., 144.,  52., 128.,  71., 163.,\n",
       "       150.,  97., 160., 178.,  48., 270., 202., 111.,  85.,  42., 170.,\n",
       "       200., 252., 113., 143.,  51.,  52., 210.,  65., 141.,  55., 134.,\n",
       "        42., 111.,  98., 164.,  48.,  96.,  90., 162., 150., 279.,  92.,\n",
       "        83., 128., 102., 302., 198.,  95.,  53., 134., 144., 232.,  81.,\n",
       "       104.,  59., 246., 297., 258., 229., 275., 281., 179., 200., 200.,\n",
       "       173., 180.,  84., 121., 161.,  99., 109., 115., 268., 274., 158.,\n",
       "       107.,  83., 103., 272.,  85., 280., 336., 281., 118., 317., 235.,\n",
       "        60., 174., 259., 178., 128.,  96., 126., 288.,  88., 292.,  71.,\n",
       "       197., 186.,  25.,  84.,  96., 195.,  53., 217., 172., 131., 214.,\n",
       "        59.,  70., 220., 268., 152.,  47.,  74., 295., 101., 151., 127.,\n",
       "       237., 225.,  81., 151., 107.,  64., 138., 185., 265., 101., 137.,\n",
       "       143., 141.,  79., 292., 178.,  91., 116.,  86., 122.,  72., 129.,\n",
       "       142.,  90., 158.,  39., 196., 222., 277.,  99., 196., 202., 155.,\n",
       "        77., 191.,  70.,  73.,  49.,  65., 263., 248., 296., 214., 185.,\n",
       "        78.,  93., 252., 150.,  77., 208.,  77., 108., 160.,  53., 220.,\n",
       "       154., 259.,  90., 246., 124.,  67.,  72., 257., 262., 275., 177.,\n",
       "        71.,  47., 187., 125.,  78.,  51., 258., 215., 303., 243.,  91.,\n",
       "       150., 310., 153., 346.,  63.,  89.,  50.,  39., 103., 308., 116.,\n",
       "       145.,  74.,  45., 115., 264.,  87., 202., 127., 182., 241.,  66.,\n",
       "        94., 283.,  64., 102., 200., 265.,  94., 230., 181., 156., 233.,\n",
       "        60., 219.,  80.,  68., 332., 248.,  84., 200.,  55.,  85.,  89.,\n",
       "        31., 129.,  83., 275.,  65., 198., 236., 253., 124.,  44., 172.,\n",
       "       114., 142., 109., 180., 144., 163., 147.,  97., 220., 190., 109.,\n",
       "       191., 122., 230., 242., 248., 249., 192., 131., 237.,  78., 135.,\n",
       "       244., 199., 270., 164.,  72.,  96., 306.,  91., 214.,  95., 216.,\n",
       "       263., 178., 113., 200., 139., 139.,  88., 148.,  88., 243.,  71.,\n",
       "        77., 109., 272.,  60.,  54., 221.,  90., 311., 281., 182., 321.,\n",
       "        58., 262., 206., 233., 242., 123., 167.,  63., 197.,  71., 168.,\n",
       "       140., 217., 121., 235., 245.,  40.,  52., 104., 132.,  88.,  69.,\n",
       "       219.,  72., 201., 110.,  51., 277.,  63., 118.,  69., 273., 258.,\n",
       "        43., 198., 242., 232., 175.,  93., 168., 275., 293., 281.,  72.,\n",
       "       140., 189., 181., 209., 136., 261., 113., 131., 174., 257.,  55.,\n",
       "        84.,  42., 146., 212., 233.,  91., 111., 152., 120.,  67., 310.,\n",
       "        94., 183.,  66., 173.,  72.,  49.,  64.,  48., 178., 104., 132.,\n",
       "       220.,  57.])"
      ]
     },
     "execution_count": 83,
     "metadata": {},
     "output_type": "execute_result"
    }
   ],
   "source": [
    "y"
   ]
  },
  {
   "cell_type": "code",
   "execution_count": 86,
   "metadata": {},
   "outputs": [],
   "source": [
    "from sklearn.model_selection import train_test_split\n",
    "X_train,X_test,y_train,y_test=train_test_split(X,y,test_size=0.2,random_state=45)"
   ]
  },
  {
   "cell_type": "code",
   "execution_count": 94,
   "metadata": {},
   "outputs": [
    {
     "data": {
      "text/plain": [
       "(353,)"
      ]
     },
     "execution_count": 94,
     "metadata": {},
     "output_type": "execute_result"
    }
   ],
   "source": [
    "y_train.shape"
   ]
  },
  {
   "cell_type": "code",
   "execution_count": 101,
   "metadata": {},
   "outputs": [
    {
     "name": "stdout",
     "output_type": "stream",
     "text": [
      "score  0.5159857758740993\n",
      "r2_score  0.5188113124539249\n",
      "mean_squared_error  2374.333939618319\n",
      "mean_absolute_error  39.38457286153841\n",
      "coef_  [  23.45465406 -247.42747406  492.1087518   329.35876431 -970.79723039\n",
      "  573.54295519  182.42162368  255.92168168  794.21609282   89.32249214]\n",
      "intercept_  152.13623331746496\n"
     ]
    }
   ],
   "source": [
    "from sklearn import linear_model\n",
    "from sklearn.metrics import mean_absolute_error,mean_squared_error\n",
    "from sklearn.metrics import r2_score\n",
    "model = linear_model.LinearRegression()\n",
    "model.fit(X_train,y_train)\n",
    "y_pred=model.predict(X_test)\n",
    "print(\"score \",model.score(X_train,y_train))\n",
    "print(\"r2_score \",r2_score(y_test,y_pred))\n",
    "print(\"mean_squared_error \",mean_squared_error(y_test,y_pred))\n",
    "print(\"mean_absolute_error \",mean_absolute_error(y_test,y_pred))\n",
    "print(\"coef_ \",model.coef_)\n",
    "print(\"intercept_ \",model.intercept_)"
   ]
  },
  {
   "cell_type": "code",
   "execution_count": null,
   "metadata": {},
   "outputs": [],
   "source": []
  },
  {
   "cell_type": "code",
   "execution_count": null,
   "metadata": {},
   "outputs": [],
   "source": []
  }
 ],
 "metadata": {
  "kernelspec": {
   "display_name": "Python 3",
   "language": "python",
   "name": "python3"
  },
  "language_info": {
   "codemirror_mode": {
    "name": "ipython",
    "version": 3
   },
   "file_extension": ".py",
   "mimetype": "text/x-python",
   "name": "python",
   "nbconvert_exporter": "python",
   "pygments_lexer": "ipython3",
   "version": "3.9.0"
  }
 },
 "nbformat": 4,
 "nbformat_minor": 2
}
