{
 "cells": [
  {
   "cell_type": "code",
   "execution_count": null,
   "metadata": {},
   "outputs": [],
   "source": [
    "1. data ingestion\n",
    "2. eda\n",
    "3. preprocessing or fe\n",
    "4. model \n",
    "5. evalution"
   ]
  },
  {
   "cell_type": "code",
   "execution_count": null,
   "metadata": {},
   "outputs": [],
   "source": [
    "# simple linear"
   ]
  },
  {
   "cell_type": "code",
   "execution_count": 4,
   "metadata": {},
   "outputs": [],
   "source": [
    "import pandas as pd\n",
    "\n",
    "data=pd.read_csv(\"data/placement.csv\")"
   ]
  },
  {
   "cell_type": "code",
   "execution_count": 5,
   "metadata": {},
   "outputs": [
    {
     "data": {
      "text/html": [
       "<div>\n",
       "<style scoped>\n",
       "    .dataframe tbody tr th:only-of-type {\n",
       "        vertical-align: middle;\n",
       "    }\n",
       "\n",
       "    .dataframe tbody tr th {\n",
       "        vertical-align: top;\n",
       "    }\n",
       "\n",
       "    .dataframe thead th {\n",
       "        text-align: right;\n",
       "    }\n",
       "</style>\n",
       "<table border=\"1\" class=\"dataframe\">\n",
       "  <thead>\n",
       "    <tr style=\"text-align: right;\">\n",
       "      <th></th>\n",
       "      <th>cgpa</th>\n",
       "      <th>package</th>\n",
       "    </tr>\n",
       "  </thead>\n",
       "  <tbody>\n",
       "    <tr>\n",
       "      <th>0</th>\n",
       "      <td>6.89</td>\n",
       "      <td>3.26</td>\n",
       "    </tr>\n",
       "    <tr>\n",
       "      <th>1</th>\n",
       "      <td>5.12</td>\n",
       "      <td>1.98</td>\n",
       "    </tr>\n",
       "    <tr>\n",
       "      <th>2</th>\n",
       "      <td>7.82</td>\n",
       "      <td>3.25</td>\n",
       "    </tr>\n",
       "    <tr>\n",
       "      <th>3</th>\n",
       "      <td>7.42</td>\n",
       "      <td>3.67</td>\n",
       "    </tr>\n",
       "    <tr>\n",
       "      <th>4</th>\n",
       "      <td>6.94</td>\n",
       "      <td>3.57</td>\n",
       "    </tr>\n",
       "  </tbody>\n",
       "</table>\n",
       "</div>"
      ],
      "text/plain": [
       "   cgpa  package\n",
       "0  6.89     3.26\n",
       "1  5.12     1.98\n",
       "2  7.82     3.25\n",
       "3  7.42     3.67\n",
       "4  6.94     3.57"
      ]
     },
     "execution_count": 5,
     "metadata": {},
     "output_type": "execute_result"
    }
   ],
   "source": [
    "data.head()"
   ]
  },
  {
   "cell_type": "code",
   "execution_count": 6,
   "metadata": {},
   "outputs": [
    {
     "data": {
      "text/plain": [
       "(200, 2)"
      ]
     },
     "execution_count": 6,
     "metadata": {},
     "output_type": "execute_result"
    }
   ],
   "source": [
    "data.shape"
   ]
  },
  {
   "cell_type": "code",
   "execution_count": 7,
   "metadata": {},
   "outputs": [
    {
     "name": "stdout",
     "output_type": "stream",
     "text": [
      "<class 'pandas.core.frame.DataFrame'>\n",
      "RangeIndex: 200 entries, 0 to 199\n",
      "Data columns (total 2 columns):\n",
      " #   Column   Non-Null Count  Dtype  \n",
      "---  ------   --------------  -----  \n",
      " 0   cgpa     200 non-null    float64\n",
      " 1   package  200 non-null    float64\n",
      "dtypes: float64(2)\n",
      "memory usage: 3.2 KB\n"
     ]
    }
   ],
   "source": [
    "data.info()\n"
   ]
  },
  {
   "cell_type": "code",
   "execution_count": 8,
   "metadata": {},
   "outputs": [
    {
     "data": {
      "text/html": [
       "<div>\n",
       "<style scoped>\n",
       "    .dataframe tbody tr th:only-of-type {\n",
       "        vertical-align: middle;\n",
       "    }\n",
       "\n",
       "    .dataframe tbody tr th {\n",
       "        vertical-align: top;\n",
       "    }\n",
       "\n",
       "    .dataframe thead th {\n",
       "        text-align: right;\n",
       "    }\n",
       "</style>\n",
       "<table border=\"1\" class=\"dataframe\">\n",
       "  <thead>\n",
       "    <tr style=\"text-align: right;\">\n",
       "      <th></th>\n",
       "      <th>cgpa</th>\n",
       "      <th>package</th>\n",
       "    </tr>\n",
       "  </thead>\n",
       "  <tbody>\n",
       "    <tr>\n",
       "      <th>count</th>\n",
       "      <td>200.000000</td>\n",
       "      <td>200.000000</td>\n",
       "    </tr>\n",
       "    <tr>\n",
       "      <th>mean</th>\n",
       "      <td>6.990500</td>\n",
       "      <td>2.996050</td>\n",
       "    </tr>\n",
       "    <tr>\n",
       "      <th>std</th>\n",
       "      <td>1.069409</td>\n",
       "      <td>0.691644</td>\n",
       "    </tr>\n",
       "    <tr>\n",
       "      <th>min</th>\n",
       "      <td>4.260000</td>\n",
       "      <td>1.370000</td>\n",
       "    </tr>\n",
       "    <tr>\n",
       "      <th>25%</th>\n",
       "      <td>6.190000</td>\n",
       "      <td>2.487500</td>\n",
       "    </tr>\n",
       "    <tr>\n",
       "      <th>50%</th>\n",
       "      <td>6.965000</td>\n",
       "      <td>2.995000</td>\n",
       "    </tr>\n",
       "    <tr>\n",
       "      <th>75%</th>\n",
       "      <td>7.737500</td>\n",
       "      <td>3.492500</td>\n",
       "    </tr>\n",
       "    <tr>\n",
       "      <th>max</th>\n",
       "      <td>9.580000</td>\n",
       "      <td>4.620000</td>\n",
       "    </tr>\n",
       "  </tbody>\n",
       "</table>\n",
       "</div>"
      ],
      "text/plain": [
       "             cgpa     package\n",
       "count  200.000000  200.000000\n",
       "mean     6.990500    2.996050\n",
       "std      1.069409    0.691644\n",
       "min      4.260000    1.370000\n",
       "25%      6.190000    2.487500\n",
       "50%      6.965000    2.995000\n",
       "75%      7.737500    3.492500\n",
       "max      9.580000    4.620000"
      ]
     },
     "execution_count": 8,
     "metadata": {},
     "output_type": "execute_result"
    }
   ],
   "source": [
    "data.describe()"
   ]
  },
  {
   "cell_type": "code",
   "execution_count": 12,
   "metadata": {},
   "outputs": [
    {
     "data": {
      "text/plain": [
       "Text(0, 0.5, 'package')"
      ]
     },
     "execution_count": 12,
     "metadata": {},
     "output_type": "execute_result"
    },
    {
     "data": {
      "image/png": "[encoded data removed]",
      "text/plain": [
       "<Figure size 640x480 with 1 Axes>"
      ]
     },
     "metadata": {},
     "output_type": "display_data"
    }
   ],
   "source": [
    "import matplotlib.pyplot as plt\n",
    "plt.scatter(df[\"cgpa\"],df[\"package\"])\n",
    "plt.xlabel(\"CGPA\")\n",
    "plt.ylabel(\"package\")"
   ]
  },
  {
   "cell_type": "code",
   "execution_count": 15,
   "metadata": {},
   "outputs": [],
   "source": [
    "X=data.iloc[:,0:1]\n",
    "y=data.iloc[:,-1]"
   ]
  },
  {
   "cell_type": "code",
   "execution_count": 19,
   "metadata": {},
   "outputs": [
    {
     "data": {
      "text/plain": [
       "(200,)"
      ]
     },
     "execution_count": 19,
     "metadata": {},
     "output_type": "execute_result"
    }
   ],
   "source": [
    "X.shape"
   ]
  },
  {
   "cell_type": "code",
   "execution_count": 20,
   "metadata": {},
   "outputs": [
    {
     "data": {
      "text/plain": [
       "(200,)"
      ]
     },
     "execution_count": 20,
     "metadata": {},
     "output_type": "execute_result"
    }
   ],
   "source": [
    "y.shape"
   ]
  },
  {
   "cell_type": "code",
   "execution_count": 13,
   "metadata": {},
   "outputs": [],
   "source": [
    "from sklearn.model_selection import train_test_split"
   ]
  },
  {
   "cell_type": "code",
   "execution_count": 21,
   "metadata": {},
   "outputs": [],
   "source": [
    "X_train, X_test, y_train, y_test = train_test_split(X, y, test_size=0.15,random_state=294730)"
   ]
  },
  {
   "cell_type": "code",
   "execution_count": 22,
   "metadata": {},
   "outputs": [
    {
     "data": {
      "text/html": [
       "<div>\n",
       "<style scoped>\n",
       "    .dataframe tbody tr th:only-of-type {\n",
       "        vertical-align: middle;\n",
       "    }\n",
       "\n",
       "    .dataframe tbody tr th {\n",
       "        vertical-align: top;\n",
       "    }\n",
       "\n",
       "    .dataframe thead th {\n",
       "        text-align: right;\n",
       "    }\n",
       "</style>\n",
       "<table border=\"1\" class=\"dataframe\">\n",
       "  <thead>\n",
       "    <tr style=\"text-align: right;\">\n",
       "      <th></th>\n",
       "      <th>cgpa</th>\n",
       "    </tr>\n",
       "  </thead>\n",
       "  <tbody>\n",
       "    <tr>\n",
       "      <th>164</th>\n",
       "      <td>9.06</td>\n",
       "    </tr>\n",
       "    <tr>\n",
       "      <th>25</th>\n",
       "      <td>7.28</td>\n",
       "    </tr>\n",
       "    <tr>\n",
       "      <th>132</th>\n",
       "      <td>5.84</td>\n",
       "    </tr>\n",
       "    <tr>\n",
       "      <th>106</th>\n",
       "      <td>6.13</td>\n",
       "    </tr>\n",
       "    <tr>\n",
       "      <th>38</th>\n",
       "      <td>8.62</td>\n",
       "    </tr>\n",
       "    <tr>\n",
       "      <th>...</th>\n",
       "      <td>...</td>\n",
       "    </tr>\n",
       "    <tr>\n",
       "      <th>114</th>\n",
       "      <td>5.84</td>\n",
       "    </tr>\n",
       "    <tr>\n",
       "      <th>93</th>\n",
       "      <td>6.79</td>\n",
       "    </tr>\n",
       "    <tr>\n",
       "      <th>122</th>\n",
       "      <td>5.12</td>\n",
       "    </tr>\n",
       "    <tr>\n",
       "      <th>91</th>\n",
       "      <td>6.22</td>\n",
       "    </tr>\n",
       "    <tr>\n",
       "      <th>88</th>\n",
       "      <td>4.73</td>\n",
       "    </tr>\n",
       "  </tbody>\n",
       "</table>\n",
       "<p>170 rows × 1 columns</p>\n",
       "</div>"
      ],
      "text/plain": [
       "     cgpa\n",
       "164  9.06\n",
       "25   7.28\n",
       "132  5.84\n",
       "106  6.13\n",
       "38   8.62\n",
       "..    ...\n",
       "114  5.84\n",
       "93   6.79\n",
       "122  5.12\n",
       "91   6.22\n",
       "88   4.73\n",
       "\n",
       "[170 rows x 1 columns]"
      ]
     },
     "execution_count": 22,
     "metadata": {},
     "output_type": "execute_result"
    }
   ],
   "source": [
    "X_train"
   ]
  },
  {
   "cell_type": "code",
   "execution_count": 23,
   "metadata": {},
   "outputs": [
    {
     "data": {
      "text/plain": [
       "(170, 1)"
      ]
     },
     "execution_count": 23,
     "metadata": {},
     "output_type": "execute_result"
    }
   ],
   "source": [
    "X_train.shape"
   ]
  },
  {
   "cell_type": "code",
   "execution_count": 46,
   "metadata": {},
   "outputs": [
    {
     "data": {
      "text/plain": [
       "(30, 1)"
      ]
     },
     "execution_count": 46,
     "metadata": {},
     "output_type": "execute_result"
    }
   ],
   "source": [
    "X_test.shape"
   ]
  },
  {
   "cell_type": "code",
   "execution_count": 36,
   "metadata": {},
   "outputs": [
    {
     "data": {
      "text/plain": [
       "(30,)"
      ]
     },
     "execution_count": 36,
     "metadata": {},
     "output_type": "execute_result"
    }
   ],
   "source": [
    "y_test.shape"
   ]
  },
  {
   "cell_type": "code",
   "execution_count": 25,
   "metadata": {},
   "outputs": [
    {
     "data": {
      "text/plain": [
       "(170,)"
      ]
     },
     "execution_count": 25,
     "metadata": {},
     "output_type": "execute_result"
    }
   ],
   "source": [
    "y_train.shape"
   ]
  },
  {
   "cell_type": "code",
   "execution_count": 27,
   "metadata": {},
   "outputs": [],
   "source": [
    "from sklearn.linear_model import LinearRegression"
   ]
  },
  {
   "cell_type": "code",
   "execution_count": 28,
   "metadata": {},
   "outputs": [],
   "source": [
    "model = LinearRegression()"
   ]
  },
  {
   "cell_type": "code",
   "execution_count": 29,
   "metadata": {},
   "outputs": [
    {
     "data": {
      "text/html": [
       "<style>#sk-container-id-1 {color: black;}#sk-container-id-1 pre{padding: 0;}#sk-container-id-1 div.sk-toggleable {background-color: white;}#sk-container-id-1 label.sk-toggleable__label {cursor: pointer;display: block;width: 100%;margin-bottom: 0;padding: 0.3em;box-sizing: border-box;text-align: center;}#sk-container-id-1 label.sk-toggleable__label-arrow:before {content: \"▸\";float: left;margin-right: 0.25em;color: #696969;}#sk-container-id-1 label.sk-toggleable__label-arrow:hover:before {color: black;}#sk-container-id-1 div.sk-estimator:hover label.sk-toggleable__label-arrow:before {color: black;}#sk-container-id-1 div.sk-toggleable__content {max-height: 0;max-width: 0;overflow: hidden;text-align: left;background-color: #f0f8ff;}#sk-container-id-1 div.sk-toggleable__content pre {margin: 0.2em;color: black;border-radius: 0.25em;background-color: #f0f8ff;}#sk-container-id-1 input.sk-toggleable__control:checked~div.sk-toggleable__content {max-height: 200px;max-width: 100%;overflow: auto;}#sk-container-id-1 input.sk-toggleable__control:checked~label.sk-toggleable__label-arrow:before {content: \"▾\";}#sk-container-id-1 div.sk-estimator input.sk-toggleable__control:checked~label.sk-toggleable__label {background-color: #d4ebff;}#sk-container-id-1 div.sk-label input.sk-toggleable__control:checked~label.sk-toggleable__label {background-color: #d4ebff;}#sk-container-id-1 input.sk-hidden--visually {border: 0;clip: rect(1px 1px 1px 1px);clip: rect(1px, 1px, 1px, 1px);height: 1px;margin: -1px;overflow: hidden;padding: 0;position: absolute;width: 1px;}#sk-container-id-1 div.sk-estimator {font-family: monospace;background-color: #f0f8ff;border: 1px dotted black;border-radius: 0.25em;box-sizing: border-box;margin-bottom: 0.5em;}#sk-container-id-1 div.sk-estimator:hover {background-color: #d4ebff;}#sk-container-id-1 div.sk-parallel-item::after {content: \"\";width: 100%;border-bottom: 1px solid gray;flex-grow: 1;}#sk-container-id-1 div.sk-label:hover label.sk-toggleable__label {background-color: #d4ebff;}#sk-container-id-1 div.sk-serial::before {content: \"\";position: absolute;border-left: 1px solid gray;box-sizing: border-box;top: 0;bottom: 0;left: 50%;z-index: 0;}#sk-container-id-1 div.sk-serial {display: flex;flex-direction: column;align-items: center;background-color: white;padding-right: 0.2em;padding-left: 0.2em;position: relative;}#sk-container-id-1 div.sk-item {position: relative;z-index: 1;}#sk-container-id-1 div.sk-parallel {display: flex;align-items: stretch;justify-content: center;background-color: white;position: relative;}#sk-container-id-1 div.sk-item::before, #sk-container-id-1 div.sk-parallel-item::before {content: \"\";position: absolute;border-left: 1px solid gray;box-sizing: border-box;top: 0;bottom: 0;left: 50%;z-index: -1;}#sk-container-id-1 div.sk-parallel-item {display: flex;flex-direction: column;z-index: 1;position: relative;background-color: white;}#sk-container-id-1 div.sk-parallel-item:first-child::after {align-self: flex-end;width: 50%;}#sk-container-id-1 div.sk-parallel-item:last-child::after {align-self: flex-start;width: 50%;}#sk-container-id-1 div.sk-parallel-item:only-child::after {width: 0;}#sk-container-id-1 div.sk-dashed-wrapped {border: 1px dashed gray;margin: 0 0.4em 0.5em 0.4em;box-sizing: border-box;padding-bottom: 0.4em;background-color: white;}#sk-container-id-1 div.sk-label label {font-family: monospace;font-weight: bold;display: inline-block;line-height: 1.2em;}#sk-container-id-1 div.sk-label-container {text-align: center;}#sk-container-id-1 div.sk-container {/* jupyter's `normalize.less` sets `[hidden] { display: none; }` but bootstrap.min.css set `[hidden] { display: none !important; }` so we also need the `!important` here to be able to override the default hidden behavior on the sphinx rendered scikit-learn.org. See: https://github.com/scikit-learn/scikit-learn/issues/21755 */display: inline-block !important;position: relative;}#sk-container-id-1 div.sk-text-repr-fallback {display: none;}</style><div id=\"sk-container-id-1\" class=\"sk-top-container\"><div class=\"sk-text-repr-fallback\"><pre>LinearRegression()</pre><b>In a Jupyter environment, please rerun this cell to show the HTML representation or trust the notebook. <br />On GitHub, the HTML representation is unable to render, please try loading this page with nbviewer.org.</b></div><div class=\"sk-container\" hidden><div class=\"sk-item\"><div class=\"sk-estimator sk-toggleable\"><input class=\"sk-toggleable__control sk-hidden--visually\" id=\"sk-estimator-id-1\" type=\"checkbox\" checked><label for=\"sk-estimator-id-1\" class=\"sk-toggleable__label sk-toggleable__label-arrow\">LinearRegression</label><div class=\"sk-toggleable__content\"><pre>LinearRegression()</pre></div></div></div></div></div>"
      ],
      "text/plain": [
       "LinearRegression()"
      ]
     },
     "execution_count": 29,
     "metadata": {},
     "output_type": "execute_result"
    }
   ],
   "source": [
    "model.fit(X_train,y_train)"
   ]
  },
  {
   "cell_type": "code",
   "execution_count": 32,
   "metadata": {},
   "outputs": [
    {
     "data": {
      "text/plain": [
       "0.7684772273082544"
      ]
     },
     "execution_count": 32,
     "metadata": {},
     "output_type": "execute_result"
    }
   ],
   "source": [
    "model.score(X_train,y_train)"
   ]
  },
  {
   "cell_type": "code",
   "execution_count": 33,
   "metadata": {},
   "outputs": [
    {
     "data": {
      "text/html": [
       "<div>\n",
       "<style scoped>\n",
       "    .dataframe tbody tr th:only-of-type {\n",
       "        vertical-align: middle;\n",
       "    }\n",
       "\n",
       "    .dataframe tbody tr th {\n",
       "        vertical-align: top;\n",
       "    }\n",
       "\n",
       "    .dataframe thead th {\n",
       "        text-align: right;\n",
       "    }\n",
       "</style>\n",
       "<table border=\"1\" class=\"dataframe\">\n",
       "  <thead>\n",
       "    <tr style=\"text-align: right;\">\n",
       "      <th></th>\n",
       "      <th>cgpa</th>\n",
       "    </tr>\n",
       "  </thead>\n",
       "  <tbody>\n",
       "    <tr>\n",
       "      <th>193</th>\n",
       "      <td>4.57</td>\n",
       "    </tr>\n",
       "    <tr>\n",
       "      <th>176</th>\n",
       "      <td>6.29</td>\n",
       "    </tr>\n",
       "    <tr>\n",
       "      <th>148</th>\n",
       "      <td>7.57</td>\n",
       "    </tr>\n",
       "    <tr>\n",
       "      <th>165</th>\n",
       "      <td>8.21</td>\n",
       "    </tr>\n",
       "    <tr>\n",
       "      <th>142</th>\n",
       "      <td>6.93</td>\n",
       "    </tr>\n",
       "    <tr>\n",
       "      <th>39</th>\n",
       "      <td>7.43</td>\n",
       "    </tr>\n",
       "    <tr>\n",
       "      <th>111</th>\n",
       "      <td>5.42</td>\n",
       "    </tr>\n",
       "    <tr>\n",
       "      <th>197</th>\n",
       "      <td>7.21</td>\n",
       "    </tr>\n",
       "    <tr>\n",
       "      <th>136</th>\n",
       "      <td>5.64</td>\n",
       "    </tr>\n",
       "    <tr>\n",
       "      <th>20</th>\n",
       "      <td>7.28</td>\n",
       "    </tr>\n",
       "    <tr>\n",
       "      <th>163</th>\n",
       "      <td>8.93</td>\n",
       "    </tr>\n",
       "    <tr>\n",
       "      <th>6</th>\n",
       "      <td>6.73</td>\n",
       "    </tr>\n",
       "    <tr>\n",
       "      <th>180</th>\n",
       "      <td>6.19</td>\n",
       "    </tr>\n",
       "    <tr>\n",
       "      <th>129</th>\n",
       "      <td>7.29</td>\n",
       "    </tr>\n",
       "    <tr>\n",
       "      <th>46</th>\n",
       "      <td>6.07</td>\n",
       "    </tr>\n",
       "    <tr>\n",
       "      <th>29</th>\n",
       "      <td>7.15</td>\n",
       "    </tr>\n",
       "    <tr>\n",
       "      <th>73</th>\n",
       "      <td>8.44</td>\n",
       "    </tr>\n",
       "    <tr>\n",
       "      <th>104</th>\n",
       "      <td>7.62</td>\n",
       "    </tr>\n",
       "    <tr>\n",
       "      <th>61</th>\n",
       "      <td>5.48</td>\n",
       "    </tr>\n",
       "    <tr>\n",
       "      <th>133</th>\n",
       "      <td>6.05</td>\n",
       "    </tr>\n",
       "    <tr>\n",
       "      <th>141</th>\n",
       "      <td>6.76</td>\n",
       "    </tr>\n",
       "    <tr>\n",
       "      <th>139</th>\n",
       "      <td>7.19</td>\n",
       "    </tr>\n",
       "    <tr>\n",
       "      <th>126</th>\n",
       "      <td>5.91</td>\n",
       "    </tr>\n",
       "    <tr>\n",
       "      <th>95</th>\n",
       "      <td>6.63</td>\n",
       "    </tr>\n",
       "    <tr>\n",
       "      <th>189</th>\n",
       "      <td>8.11</td>\n",
       "    </tr>\n",
       "    <tr>\n",
       "      <th>7</th>\n",
       "      <td>6.75</td>\n",
       "    </tr>\n",
       "    <tr>\n",
       "      <th>60</th>\n",
       "      <td>5.61</td>\n",
       "    </tr>\n",
       "    <tr>\n",
       "      <th>102</th>\n",
       "      <td>5.13</td>\n",
       "    </tr>\n",
       "    <tr>\n",
       "      <th>98</th>\n",
       "      <td>7.69</td>\n",
       "    </tr>\n",
       "    <tr>\n",
       "      <th>115</th>\n",
       "      <td>8.35</td>\n",
       "    </tr>\n",
       "  </tbody>\n",
       "</table>\n",
       "</div>"
      ],
      "text/plain": [
       "     cgpa\n",
       "193  4.57\n",
       "176  6.29\n",
       "148  7.57\n",
       "165  8.21\n",
       "142  6.93\n",
       "39   7.43\n",
       "111  5.42\n",
       "197  7.21\n",
       "136  5.64\n",
       "20   7.28\n",
       "163  8.93\n",
       "6    6.73\n",
       "180  6.19\n",
       "129  7.29\n",
       "46   6.07\n",
       "29   7.15\n",
       "73   8.44\n",
       "104  7.62\n",
       "61   5.48\n",
       "133  6.05\n",
       "141  6.76\n",
       "139  7.19\n",
       "126  5.91\n",
       "95   6.63\n",
       "189  8.11\n",
       "7    6.75\n",
       "60   5.61\n",
       "102  5.13\n",
       "98   7.69\n",
       "115  8.35"
      ]
     },
     "execution_count": 33,
     "metadata": {},
     "output_type": "execute_result"
    }
   ],
   "source": [
    "X_test"
   ]
  },
  {
   "cell_type": "code",
   "execution_count": 41,
   "metadata": {},
   "outputs": [],
   "source": [
    "y_predict = model.predict(X_test)"
   ]
  },
  {
   "cell_type": "code",
   "execution_count": 38,
   "metadata": {},
   "outputs": [
    {
     "data": {
      "text/plain": [
       "193    1.94\n",
       "176    3.23\n",
       "148    3.40\n",
       "165    4.08\n",
       "142    3.04\n",
       "39     3.33\n",
       "111    2.25\n",
       "197    3.24\n",
       "136    2.10\n",
       "20     3.16\n",
       "163    3.91\n",
       "6      2.60\n",
       "180    2.72\n",
       "129    3.12\n",
       "46     2.26\n",
       "29     3.49\n",
       "73     4.03\n",
       "104    3.74\n",
       "61     1.61\n",
       "133    2.58\n",
       "141    3.18\n",
       "139    2.40\n",
       "126    2.60\n",
       "95     2.79\n",
       "189    4.06\n",
       "7      2.48\n",
       "60     2.19\n",
       "102    1.37\n",
       "98     3.83\n",
       "115    4.21\n",
       "Name: package, dtype: float64"
      ]
     },
     "execution_count": 38,
     "metadata": {},
     "output_type": "execute_result"
    }
   ],
   "source": [
    "y_test"
   ]
  },
  {
   "cell_type": "code",
   "execution_count": 39,
   "metadata": {},
   "outputs": [],
   "source": [
    "from sklearn.metrics import r2_score"
   ]
  },
  {
   "cell_type": "code",
   "execution_count": 42,
   "metadata": {},
   "outputs": [
    {
     "data": {
      "text/plain": [
       "0.8043958158211718"
      ]
     },
     "execution_count": 42,
     "metadata": {},
     "output_type": "execute_result"
    }
   ],
   "source": [
    "r2_score(y_test,y_predictb"
   ]
  },
  {
   "cell_type": "code",
   "execution_count": 43,
   "metadata": {},
   "outputs": [
    {
     "data": {
      "text/plain": [
       "array([0.55740821])"
      ]
     },
     "execution_count": 43,
     "metadata": {},
     "output_type": "execute_result"
    }
   ],
   "source": [
    "model.coef_"
   ]
  },
  {
   "cell_type": "code",
   "execution_count": 44,
   "metadata": {},
   "outputs": [
    {
     "data": {
      "text/plain": [
       "-0.9116469088255372"
      ]
     },
     "execution_count": 44,
     "metadata": {},
     "output_type": "execute_result"
    }
   ],
   "source": [
    "model.intercept_"
   ]
  },
  {
   "cell_type": "code",
   "execution_count": 49,
   "metadata": {},
   "outputs": [
    {
     "name": "stderr",
     "output_type": "stream",
     "text": [
      "d:\\Datascience_workspace_2023\\complete-machine-learning\\venv\\lib\\site-packages\\sklearn\\base.py:465: UserWarning: X does not have valid feature names, but LinearRegression was fitted with feature names\n",
      "  warnings.warn(\n"
     ]
    },
    {
     "data": {
      "text/plain": [
       "array([3.37482221])"
      ]
     },
     "execution_count": 49,
     "metadata": {},
     "output_type": "execute_result"
    }
   ],
   "source": [
    "model.predict([[7.69]])"
   ]
  },
  {
   "cell_type": "code",
   "execution_count": 50,
   "metadata": {},
   "outputs": [
    {
     "data": {
      "text/plain": [
       "[<matplotlib.lines.Line2D at 0x196193ba490>]"
      ]
     },
     "execution_count": 50,
     "metadata": {},
     "output_type": "execute_result"
    },
    {
     "data": {
      "image/png": "[encoded data removed]",
      "text/plain": [
       "<Figure size 640x480 with 1 Axes>"
      ]
     },
     "metadata": {},
     "output_type": "display_data"
    }
   ],
   "source": [
    "plt.scatter(df['cgpa'],df['package'])\n",
    "plt.plot(X_train,model.predict(X_train),color=\"red\")"
   ]
  },
  {
   "cell_type": "markdown",
   "metadata": {},
   "source": [
    "# multiple linear regrssion"
   ]
  },
  {
   "cell_type": "code",
   "execution_count": 52,
   "metadata": {},
   "outputs": [],
   "source": [
    "from sklearn.datasets import make_regression\n",
    "X,y=make_regression(n_samples=150,n_features=2,n_targets=1,noise=40)"
   ]
  },
  {
   "cell_type": "code",
   "execution_count": 56,
   "metadata": {},
   "outputs": [
    {
     "data": {
      "text/plain": [
       "array([[ 0.1509267 ,  0.5859116 ],\n",
       "       [-0.28781721,  0.81867549],\n",
       "       [ 1.30865743, -1.00008415],\n",
       "       [-0.29605338,  0.0684867 ],\n",
       "       [-1.33993022,  1.44893875],\n",
       "       [-0.57391971, -0.92154588],\n",
       "       [-0.83773619, -0.78600913],\n",
       "       [ 2.05124553, -0.40604851],\n",
       "       [-0.46151662,  0.93252424],\n",
       "       [ 1.03204647,  0.50693077],\n",
       "       [ 1.27758005,  0.26894207],\n",
       "       [ 0.06116627, -0.41202157],\n",
       "       [-0.27568821,  1.02564469],\n",
       "       [ 1.41753768,  1.52888044],\n",
       "       [ 0.99922509,  0.17547909],\n",
       "       [-1.54722142, -0.91622164],\n",
       "       [ 0.778809  , -0.41339535],\n",
       "       [ 0.93758038, -1.60298993],\n",
       "       [-1.48606576,  0.50201609],\n",
       "       [ 0.74946035,  0.87611101],\n",
       "       [ 0.27377217, -0.54312541],\n",
       "       [-0.18817044, -0.83817848],\n",
       "       [-1.8036649 ,  0.91456776],\n",
       "       [ 1.17855333, -1.50714299],\n",
       "       [ 0.72645431,  0.81370697],\n",
       "       [ 1.00712266, -1.44938303],\n",
       "       [-0.78624337,  0.76474888],\n",
       "       [-0.61514286, -1.0520986 ],\n",
       "       [ 0.53701791, -0.35553345],\n",
       "       [-0.96949547, -1.4608871 ],\n",
       "       [-1.72448832, -1.40591071],\n",
       "       [-0.61495505, -1.65630662],\n",
       "       [-0.88000369,  0.37589234],\n",
       "       [ 0.03796509,  0.12402401],\n",
       "       [ 1.23376213, -0.70540703],\n",
       "       [ 0.72125719,  0.44321094],\n",
       "       [-1.01081874, -0.75720276],\n",
       "       [-0.06488254, -0.11867686],\n",
       "       [-0.13340903, -1.4795255 ],\n",
       "       [ 1.35907605, -0.44436863],\n",
       "       [ 1.66811625,  0.06929784],\n",
       "       [ 0.5411734 ,  0.78042785],\n",
       "       [-1.65054148,  0.03537326],\n",
       "       [-0.25669297,  0.54955205],\n",
       "       [-0.88136739, -0.50066589],\n",
       "       [-2.2662373 , -0.29995587],\n",
       "       [ 0.24484769, -1.39617984],\n",
       "       [-0.80993767, -0.69159452],\n",
       "       [-0.71379136,  0.4684715 ],\n",
       "       [-0.8929068 , -1.23190291],\n",
       "       [ 0.47499354,  0.67308127],\n",
       "       [-0.87186427,  0.15730259],\n",
       "       [ 0.27328377, -1.1998142 ],\n",
       "       [-0.56705348, -1.74904709],\n",
       "       [-0.14446082,  1.5248056 ],\n",
       "       [-0.26681409, -0.33410439],\n",
       "       [-1.35501658, -0.05471337],\n",
       "       [-0.55651234,  0.65280163],\n",
       "       [ 0.07289505, -1.39664926],\n",
       "       [ 0.6640548 ,  0.3417143 ],\n",
       "       [-0.91784607, -0.14698059],\n",
       "       [-1.62857617,  0.48477261],\n",
       "       [-3.10118926,  1.57654211],\n",
       "       [-0.49592987, -0.11303245],\n",
       "       [-0.10497454, -0.4724941 ],\n",
       "       [ 0.11068041, -1.08966322],\n",
       "       [-0.89706295, -0.41904153],\n",
       "       [-0.11396909, -0.11291753],\n",
       "       [ 0.9848533 ,  0.2385023 ],\n",
       "       [-1.19299607, -0.46593862],\n",
       "       [ 1.33672227, -0.50437194],\n",
       "       [-0.22842554,  0.0810664 ],\n",
       "       [ 1.47533976,  0.01527547],\n",
       "       [ 1.00527721,  2.3299412 ],\n",
       "       [-0.18582593, -1.3644917 ],\n",
       "       [ 0.20543172,  0.13503267],\n",
       "       [-2.23193134, -0.78493727],\n",
       "       [ 2.54639044, -0.03089489],\n",
       "       [ 0.81790739, -0.08199874],\n",
       "       [ 1.53962283,  2.01277131],\n",
       "       [ 0.11866274, -2.0385002 ],\n",
       "       [ 0.1523763 ,  0.29778836],\n",
       "       [-0.29200594, -1.69413744],\n",
       "       [ 0.38223043,  0.20232535],\n",
       "       [ 0.10314291,  0.12279787],\n",
       "       [ 1.20940587,  0.12902444],\n",
       "       [ 0.26238483,  0.34792581],\n",
       "       [ 1.2225696 ,  0.19619062],\n",
       "       [ 0.83159368,  0.43808415],\n",
       "       [-1.06466495, -0.25363797],\n",
       "       [ 0.23284779,  0.74727664],\n",
       "       [ 1.39207082, -0.50875289],\n",
       "       [ 0.57858114, -0.84915266],\n",
       "       [-1.07022358,  0.37594316],\n",
       "       [-0.09084972, -1.04404803],\n",
       "       [ 1.48275158, -1.5944385 ],\n",
       "       [-0.82927316, -0.42153565],\n",
       "       [-0.2162189 , -0.21040657],\n",
       "       [-0.59814373,  0.87546983],\n",
       "       [ 2.10209982,  0.83512859],\n",
       "       [ 1.45552797,  1.34089047],\n",
       "       [ 0.85265193, -0.65147508],\n",
       "       [ 0.60574843,  2.47762601],\n",
       "       [ 1.28014093,  1.41775866],\n",
       "       [-1.62749265,  0.03234632],\n",
       "       [ 0.4950172 , -0.8470594 ],\n",
       "       [ 0.97403029,  1.05670332],\n",
       "       [ 1.11806393,  0.47135261],\n",
       "       [ 1.9805194 ,  0.48609934],\n",
       "       [ 0.28052029, -0.71105064],\n",
       "       [-0.23102238,  1.44846788],\n",
       "       [-0.66117746,  0.36864441],\n",
       "       [ 0.18900936, -0.8832349 ],\n",
       "       [ 1.86709785, -0.89011258],\n",
       "       [-0.12580742, -0.87530775],\n",
       "       [-0.3100787 , -0.31657098],\n",
       "       [ 1.45005476, -0.28843376],\n",
       "       [-1.12858553, -0.14222836],\n",
       "       [ 0.61520438,  0.58222451],\n",
       "       [ 0.93114757,  2.12616299],\n",
       "       [-1.51932185,  0.25469565],\n",
       "       [-0.70919761, -1.40414989],\n",
       "       [-0.12319499, -0.52188012],\n",
       "       [ 0.425354  ,  0.04789895],\n",
       "       [ 0.65737606, -0.40407907],\n",
       "       [-0.18257499,  0.73634104],\n",
       "       [-0.75099279,  0.59071394],\n",
       "       [-0.19906492, -1.75792995],\n",
       "       [-0.0658689 , -0.77106068],\n",
       "       [ 1.79129121, -0.52741173],\n",
       "       [ 0.29070876, -0.07272035],\n",
       "       [ 0.67828326, -2.48680686],\n",
       "       [ 0.1301366 ,  0.45953934],\n",
       "       [-0.81995352, -1.62715224],\n",
       "       [-0.71408348,  0.25030254],\n",
       "       [ 1.55529843, -1.19492667],\n",
       "       [ 0.03916545,  1.21228437],\n",
       "       [-3.31554048,  2.084172  ],\n",
       "       [ 0.49534808, -0.52014846],\n",
       "       [ 0.87604261,  0.02279408],\n",
       "       [ 0.28486629,  0.44860851],\n",
       "       [-0.10234453,  0.36806071],\n",
       "       [ 2.13598218, -0.96728473],\n",
       "       [-1.38514623,  1.38133897],\n",
       "       [-0.92828899,  1.34118591],\n",
       "       [ 0.75591656,  0.9273188 ],\n",
       "       [-0.48140698, -0.37964254],\n",
       "       [ 0.29570346, -1.86910273],\n",
       "       [ 0.15929708,  0.85012835],\n",
       "       [ 1.56762874,  0.76642683]])"
      ]
     },
     "execution_count": 56,
     "metadata": {},
     "output_type": "execute_result"
    }
   ],
   "source": [
    "X"
   ]
  },
  {
   "cell_type": "code",
   "execution_count": 57,
   "metadata": {},
   "outputs": [],
   "source": [
    "df=pd.DataFrame({'feature1':X[:,0],'feature2':X[:,1],'target':y})"
   ]
  },
  {
   "cell_type": "code",
   "execution_count": 58,
   "metadata": {},
   "outputs": [
    {
     "data": {
      "text/html": [
       "<div>\n",
       "<style scoped>\n",
       "    .dataframe tbody tr th:only-of-type {\n",
       "        vertical-align: middle;\n",
       "    }\n",
       "\n",
       "    .dataframe tbody tr th {\n",
       "        vertical-align: top;\n",
       "    }\n",
       "\n",
       "    .dataframe thead th {\n",
       "        text-align: right;\n",
       "    }\n",
       "</style>\n",
       "<table border=\"1\" class=\"dataframe\">\n",
       "  <thead>\n",
       "    <tr style=\"text-align: right;\">\n",
       "      <th></th>\n",
       "      <th>feature1</th>\n",
       "      <th>feature2</th>\n",
       "      <th>target</th>\n",
       "    </tr>\n",
       "  </thead>\n",
       "  <tbody>\n",
       "    <tr>\n",
       "      <th>0</th>\n",
       "      <td>0.150927</td>\n",
       "      <td>0.585912</td>\n",
       "      <td>20.187881</td>\n",
       "    </tr>\n",
       "    <tr>\n",
       "      <th>1</th>\n",
       "      <td>-0.287817</td>\n",
       "      <td>0.818675</td>\n",
       "      <td>3.147555</td>\n",
       "    </tr>\n",
       "    <tr>\n",
       "      <th>2</th>\n",
       "      <td>1.308657</td>\n",
       "      <td>-1.000084</td>\n",
       "      <td>57.765831</td>\n",
       "    </tr>\n",
       "    <tr>\n",
       "      <th>3</th>\n",
       "      <td>-0.296053</td>\n",
       "      <td>0.068487</td>\n",
       "      <td>-11.603533</td>\n",
       "    </tr>\n",
       "    <tr>\n",
       "      <th>4</th>\n",
       "      <td>-1.339930</td>\n",
       "      <td>1.448939</td>\n",
       "      <td>51.084722</td>\n",
       "    </tr>\n",
       "  </tbody>\n",
       "</table>\n",
       "</div>"
      ],
      "text/plain": [
       "   feature1  feature2     target\n",
       "0  0.150927  0.585912  20.187881\n",
       "1 -0.287817  0.818675   3.147555\n",
       "2  1.308657 -1.000084  57.765831\n",
       "3 -0.296053  0.068487 -11.603533\n",
       "4 -1.339930  1.448939  51.084722"
      ]
     },
     "execution_count": 58,
     "metadata": {},
     "output_type": "execute_result"
    }
   ],
   "source": [
    "df.head()"
   ]
  },
  {
   "cell_type": "code",
   "execution_count": 59,
   "metadata": {},
   "outputs": [
    {
     "data": {
      "text/plain": [
       "(150, 3)"
      ]
     },
     "execution_count": 59,
     "metadata": {},
     "output_type": "execute_result"
    }
   ],
   "source": [
    "df.shape"
   ]
  },
  {
   "cell_type": "code",
   "execution_count": 62,
   "metadata": {},
   "outputs": [
    {
     "ename": "ValueError",
     "evalue": "Mime type rendering requires nbformat>=4.2.0 but it is not installed",
     "output_type": "error",
     "traceback": [
      "\u001b[1;31m---------------------------------------------------------------------------\u001b[0m",
      "\u001b[1;31mValueError\u001b[0m                                Traceback (most recent call last)",
      "File \u001b[1;32md:\\Datascience_workspace_2023\\complete-machine-learning\\venv\\lib\\site-packages\\IPython\\core\\formatters.py:922\u001b[0m, in \u001b[0;36mIPythonDisplayFormatter.__call__\u001b[1;34m(self, obj)\u001b[0m\n\u001b[0;32m    920\u001b[0m method \u001b[39m=\u001b[39m get_real_method(obj, \u001b[39mself\u001b[39m\u001b[39m.\u001b[39mprint_method)\n\u001b[0;32m    921\u001b[0m \u001b[39mif\u001b[39;00m method \u001b[39mis\u001b[39;00m \u001b[39mnot\u001b[39;00m \u001b[39mNone\u001b[39;00m:\n\u001b[1;32m--> 922\u001b[0m     method()\n\u001b[0;32m    923\u001b[0m     \u001b[39mreturn\u001b[39;00m \u001b[39mTrue\u001b[39;00m\n",
      "File \u001b[1;32md:\\Datascience_workspace_2023\\complete-machine-learning\\venv\\lib\\site-packages\\plotly\\basedatatypes.py:832\u001b[0m, in \u001b[0;36mBaseFigure._ipython_display_\u001b[1;34m(self)\u001b[0m\n\u001b[0;32m    829\u001b[0m \u001b[39mimport\u001b[39;00m \u001b[39mplotly\u001b[39;00m\u001b[39m.\u001b[39;00m\u001b[39mio\u001b[39;00m \u001b[39mas\u001b[39;00m \u001b[39mpio\u001b[39;00m\n\u001b[0;32m    831\u001b[0m \u001b[39mif\u001b[39;00m pio\u001b[39m.\u001b[39mrenderers\u001b[39m.\u001b[39mrender_on_display \u001b[39mand\u001b[39;00m pio\u001b[39m.\u001b[39mrenderers\u001b[39m.\u001b[39mdefault:\n\u001b[1;32m--> 832\u001b[0m     pio\u001b[39m.\u001b[39;49mshow(\u001b[39mself\u001b[39;49m)\n\u001b[0;32m    833\u001b[0m \u001b[39melse\u001b[39;00m:\n\u001b[0;32m    834\u001b[0m     \u001b[39mprint\u001b[39m(\u001b[39mrepr\u001b[39m(\u001b[39mself\u001b[39m))\n",
      "File \u001b[1;32md:\\Datascience_workspace_2023\\complete-machine-learning\\venv\\lib\\site-packages\\plotly\\io\\_renderers.py:394\u001b[0m, in \u001b[0;36mshow\u001b[1;34m(fig, renderer, validate, **kwargs)\u001b[0m\n\u001b[0;32m    389\u001b[0m         \u001b[39mraise\u001b[39;00m \u001b[39mValueError\u001b[39;00m(\n\u001b[0;32m    390\u001b[0m             \u001b[39m\"\u001b[39m\u001b[39mMime type rendering requires ipython but it is not installed\u001b[39m\u001b[39m\"\u001b[39m\n\u001b[0;32m    391\u001b[0m         )\n\u001b[0;32m    393\u001b[0m     \u001b[39mif\u001b[39;00m \u001b[39mnot\u001b[39;00m nbformat \u001b[39mor\u001b[39;00m Version(nbformat\u001b[39m.\u001b[39m__version__) \u001b[39m<\u001b[39m Version(\u001b[39m\"\u001b[39m\u001b[39m4.2.0\u001b[39m\u001b[39m\"\u001b[39m):\n\u001b[1;32m--> 394\u001b[0m         \u001b[39mraise\u001b[39;00m \u001b[39mValueError\u001b[39;00m(\n\u001b[0;32m    395\u001b[0m             \u001b[39m\"\u001b[39m\u001b[39mMime type rendering requires nbformat>=4.2.0 but it is not installed\u001b[39m\u001b[39m\"\u001b[39m\n\u001b[0;32m    396\u001b[0m         )\n\u001b[0;32m    398\u001b[0m     ipython_display\u001b[39m.\u001b[39mdisplay(bundle, raw\u001b[39m=\u001b[39m\u001b[39mTrue\u001b[39;00m)\n\u001b[0;32m    400\u001b[0m \u001b[39m# external renderers\u001b[39;00m\n",
      "\u001b[1;31mValueError\u001b[0m: Mime type rendering requires nbformat>=4.2.0 but it is not installed"
     ]
    },
    {
     "data": {
      "application/vnd.plotly.v1+json": {
       "config": {
        "plotlyServerURL": "https://plot.ly"
       },
       "data": [
        {
         "hovertemplate": "feature1=%{x}<br>feature2=%{y}<br>target=%{z}<extra></extra>",
         "legendgroup": "",
         "marker": {
          "color": "#636efa",
          "symbol": "circle"
         },
         "mode": "markers",
         "name": "",
         "scene": "scene",
         "showlegend": false,
         "type": "scatter3d",
         "x": [
          0.1509266988092982,
          -0.287817210042392,
          1.3086574332159246,
          -0.29605337628145406,
          -1.3399302154767265,
          -0.5739197104335093,
          -0.8377361926262826,
          2.051245531535253,
          -0.4615166194085372,
          1.0320464658101793,
          1.277580049282985,
          0.061166274441080484,
          -0.275688213379526,
          1.417537681482178,
          0.9992250897971938,
          -1.5472214209014412,
          0.778809000516287,
          0.9375803786338305,
          -1.4860657587035282,
          0.7494603487795068,
          0.2737721664992205,
          -0.18817044071637673,
          -1.8036648973902605,
          1.1785533286829875,
          0.7264543062704497,
          1.0071226621899476,
          -0.786243365357029,
          -0.6151428576546415,
          0.537017909907009,
          -0.9694954658119853,
          -1.7244883169879832,
          -0.6149550539764693,
          -0.8800036944419971,
          0.03796509377649712,
          1.2337621285336349,
          0.7212571878010304,
          -1.0108187412846998,
          -0.0648825405570522,
          -0.1334090299672808,
          1.359076048125904,
          1.6681162478339333,
          0.5411734040815186,
          -1.6505414750289316,
          -0.2566929664521543,
          -0.8813673851587867,
          -2.2662373012239128,
          0.24484769498691922,
          -0.8099376711512052,
          -0.713791357806293,
          -0.8929068027729701,
          0.47499354159350643,
          -0.8718642706636853,
          0.2732837687585047,
          -0.5670534793301553,
          -0.144460819029301,
          -0.26681408570338266,
          -1.3550165837878392,
          -0.5565123376195306,
          0.07289504943028348,
          0.6640548011248694,
          -0.9178460723642755,
          -1.628576167828071,
          -3.1011892604024833,
          -0.4959298749547595,
          -0.10497454029202763,
          0.11068040917232064,
          -0.8970629491058354,
          -0.1139690882329028,
          0.9848533007459153,
          -1.1929960724677697,
          1.3367222742537597,
          -0.22842553960099743,
          1.47533976124283,
          1.0052772147293083,
          -0.18582593377785686,
          0.20543172293569278,
          -2.2319313364854545,
          2.5463904371498,
          0.8179073923452019,
          1.539622826635946,
          0.11866274429878813,
          0.15237629585895363,
          -0.2920059359138236,
          0.3822304328473527,
          0.10314290977504578,
          1.2094058748626866,
          0.26238483352109143,
          1.2225696009445624,
          0.8315936800521526,
          -1.0646649511808786,
          0.23284778729221203,
          1.3920708186047484,
          0.5785811360773413,
          -1.070223576234383,
          -0.09084971594723353,
          1.4827515768395203,
          -0.8292731643746382,
          -0.2162189026142516,
          -0.5981437273077438,
          2.1020998222923066,
          1.4555279699724573,
          0.8526519271541213,
          0.6057484263660646,
          1.2801409265937909,
          -1.6274926521585928,
          0.49501720002154226,
          0.9740302925258472,
          1.1180639280824662,
          1.9805193988867014,
          0.2805202912069663,
          -0.23102237822410965,
          -0.6611774577281693,
          0.1890093636161045,
          1.8670978455250709,
          -0.1258074223392286,
          -0.3100787007624268,
          1.4500547586610875,
          -1.1285855255942034,
          0.6152043817327255,
          0.9311475748584459,
          -1.519321845096685,
          -0.7091976094055648,
          -0.1231949892291034,
          0.42535399796276974,
          0.6573760562208706,
          -0.18257498959297067,
          -0.750992793410019,
          -0.19906492013747415,
          -0.0658689046574594,
          1.7912912093109945,
          0.29070876489945185,
          0.6782832635560403,
          0.13013659677573566,
          -0.8199535211665344,
          -0.7140834773230633,
          1.5552984327320873,
          0.03916545237158796,
          -3.3155404796049526,
          0.4953480812134955,
          0.8760426063256359,
          0.28486628684244764,
          -0.10234452777504546,
          2.1359821774314867,
          -1.3851462281062625,
          -0.9282889896415767,
          0.7559165569048046,
          -0.4814069754392527,
          0.29570345754491073,
          0.15929707756043068,
          1.5676287430695923
         ],
         "y": [
          0.5859115985674357,
          0.8186754910880802,
          -1.0000841461710501,
          0.06848670410835762,
          1.4489387494125516,
          -0.9215458816433105,
          -0.7860091256449866,
          -0.40604850971539136,
          0.9325242351339021,
          0.506930774653227,
          0.2689420662725915,
          -0.41202157010400464,
          1.0256446885953183,
          1.5288804383174703,
          0.17547908660968736,
          -0.9162216411229877,
          -0.4133953518161544,
          -1.6029899250771873,
          0.5020160907857989,
          0.8761110149099338,
          -0.5431254135269056,
          -0.8381784825090595,
          0.9145677626586778,
          -1.5071429942825545,
          0.8137069737756066,
          -1.4493830257763083,
          0.7647488767117655,
          -1.0520986002854549,
          -0.3555334506768421,
          -1.4608870952055901,
          -1.405910708184361,
          -1.6563066228059566,
          0.37589233715307757,
          0.12402401450004649,
          -0.7054070256676345,
          0.44321093784890325,
          -0.757202755213551,
          -0.11867685658209119,
          -1.4795255022715863,
          -0.44436862726315907,
          0.06929784108699383,
          0.7804278541289795,
          0.03537325558126858,
          0.5495520532675323,
          -0.5006658913778478,
          -0.29995587081668457,
          -1.3961798430147132,
          -0.6915945240001214,
          0.4684714963911889,
          -1.2319029143383446,
          0.6730812652900794,
          0.15730259474666694,
          -1.1998142034886077,
          -1.7490470898161492,
          1.5248056009588533,
          -0.3341043885916181,
          -0.05471337189473124,
          0.6528016319414515,
          -1.396649258282152,
          0.34171430367629124,
          -0.14698059175624,
          0.4847726054183594,
          1.5765421142944012,
          -0.11303245444855302,
          -0.47249409644569285,
          -1.0896632160098418,
          -0.41904153134076105,
          -0.11291753052778787,
          0.2385022982148455,
          -0.46593862384821166,
          -0.5043719403100182,
          0.0810664025964653,
          0.0152754700134185,
          2.3299411990161114,
          -1.364491698273579,
          0.13503266583006207,
          -0.7849372727496777,
          -0.030894886771875,
          -0.08199873542831437,
          2.0127713100805096,
          -2.038500202987989,
          0.2977883560970117,
          -1.6941374359343657,
          0.20232535178181174,
          0.12279786825701898,
          0.12902444341931613,
          0.3479258148438946,
          0.19619061927572753,
          0.43808414790867745,
          -0.25363796955090095,
          0.7472766351858547,
          -0.5087528925929496,
          -0.8491526567415795,
          0.3759431579602288,
          -1.0440480259524731,
          -1.5944385034379973,
          -0.4215356523863674,
          -0.21040657295464152,
          0.8754698345443856,
          0.8351285883034453,
          1.3408904653765923,
          -0.6514750791178658,
          2.4776260129100613,
          1.4177586565566394,
          0.03234632241946083,
          -0.847059400281032,
          1.0567033232501688,
          0.4713526105127577,
          0.4860993365926404,
          -0.7110506379844932,
          1.4484678845281378,
          0.3686444053863285,
          -0.8832349041869789,
          -0.8901125778302004,
          -0.8753077529452901,
          -0.3165709774330397,
          -0.28843376263734716,
          -0.14222835532766065,
          0.5822245118610266,
          2.1261629850601333,
          0.25469565108757836,
          -1.4041498864852957,
          -0.5218801206695386,
          0.047898945000308946,
          -0.4040790743090514,
          0.7363410429283682,
          0.5907139375495468,
          -1.7579299541322284,
          -0.7710606761107613,
          -0.527411727701339,
          -0.07272034973547191,
          -2.486806857747651,
          0.45953934401456686,
          -1.6271522400909089,
          0.2503025373800321,
          -1.1949266651186705,
          1.2122843718564165,
          2.084171999214226,
          -0.5201484589810822,
          0.02279408305663168,
          0.4486085083096035,
          0.3680607109999715,
          -0.9672847259235896,
          1.3813389683853652,
          1.3411859123658676,
          0.927318802759708,
          -0.3796425424612827,
          -1.8691027337866157,
          0.8501283547002675,
          0.7664268273654825
         ],
         "z": [
          20.187880761965957,
          3.1475549089298944,
          57.765830936909765,
          -11.603533081246148,
          51.08472233232084,
          -136.03991598192943,
          -129.68254594669637,
          130.5746105806022,
          125.70185492802041,
          88.6728625938027,
          103.15244164833403,
          -71.78645781066089,
          -9.825386717315126,
          237.84954987529204,
          69.85553334106969,
          -200.0370067608382,
          98.72657124595358,
          -26.34689284370242,
          -57.66262966410494,
          128.79003602514695,
          -3.2770631392476384,
          -67.55096700657757,
          -120.10117240343978,
          -0.9023356494079326,
          50.56844572998425,
          -31.627609722280692,
          18.01025977445974,
          -93.27876751320207,
          1.6382602793150163,
          -143.3645498975229,
          -189.54441176976246,
          -156.388922777981,
          -64.5812573296242,
          -30.10231444862866,
          86.72808908321363,
          87.5544691466687,
          -129.8050303327769,
          -50.17476791068787,
          -76.747390113276,
          95.93236204174923,
          133.0220890930435,
          138.49500573748514,
          -160.47019521060213,
          45.54283546571968,
          -58.84304377320991,
          -225.81878970724495,
          -38.53758962767141,
          -114.49270855559284,
          -31.67915391193365,
          -120.2982528918398,
          43.81551615016051,
          -56.85785849520768,
          -87.79910051043257,
          -176.66554741529342,
          105.28767341747526,
          -12.751454492959276,
          -108.9345785524346,
          -59.76015006953729,
          -23.139849459778645,
          66.3479695623829,
          -43.14635616268709,
          -135.26866243615385,
          -160.74569281731354,
          -27.712313085042265,
          -3.303513793857096,
          -62.8630366537206,
          -125.62740329864958,
          36.01574095799519,
          192.51144689727863,
          -138.78858952177396,
          93.38676358670153,
          15.155677284929133,
          106.87025789927443,
          186.28235452584383,
          -128.43508701938117,
          -36.244605047067616,
          -177.39137375044984,
          156.05617190978342,
          128.80494358069444,
          189.59721003197873,
          -132.1099375960707,
          59.693183073864176,
          -85.93337194390516,
          60.46985803446624,
          79.24370943085631,
          86.55055128031059,
          59.975800640627405,
          145.98180084911635,
          117.05675848267711,
          -68.33476486076799,
          97.95079166594229,
          109.68438778116739,
          48.04653993939188,
          -104.13478092315032,
          -7.413512262614951,
          9.427646750277976,
          -116.52940961482106,
          -95.86663786255602,
          2.7051135866865486,
          154.76450416478443,
          193.3735528478958,
          32.68604677234377,
          123.4684398861737,
          193.40794602447878,
          -123.41549639360984,
          -19.06921862851559,
          97.64080688722362,
          102.47021548351402,
          80.05995155765935,
          -6.638466255766758,
          60.32114506648459,
          -64.84793765256387,
          -24.125631683764045,
          119.94027346978442,
          -11.558377668511298,
          39.692021071902786,
          104.13948510869712,
          -130.4690700641716,
          148.20029810445533,
          170.41375632139537,
          -72.83659684635197,
          -168.42096529236994,
          -43.41461679311348,
          84.86738408846487,
          16.119254507073727,
          44.06744037493298,
          38.1761070184876,
          -98.5261436392968,
          -81.37997330544727,
          136.10122378532103,
          25.55623646340646,
          -146.16502964446883,
          -14.254515284353474,
          -153.154122216887,
          43.30810653560504,
          82.50177923115425,
          80.82808932481089,
          -102.96970450611445,
          33.76118030638863,
          80.11602208808117,
          46.28792270844343,
          8.138317598205578,
          214.9411989826383,
          -54.77137111776543,
          -50.30731854357158,
          86.60359702221066,
          -113.33474224678031,
          -37.79145564002343,
          34.171504370376795,
          128.54174680981725
         ]
        }
       ],
       "layout": {
        "legend": {
         "tracegroupgap": 0
        },
        "margin": {
         "t": 60
        },
        "scene": {
         "domain": {
          "x": [
           0,
           1
          ],
          "y": [
           0,
           1
          ]
         },
         "xaxis": {
          "title": {
           "text": "feature1"
          }
         },
         "yaxis": {
          "title": {
           "text": "feature2"
          }
         },
         "zaxis": {
          "title": {
           "text": "target"
          }
         }
        },
        "template": {
         "data": {
          "bar": [
           {
            "error_x": {
             "color": "#2a3f5f"
            },
            "error_y": {
             "color": "#2a3f5f"
            },
            "marker": {
             "line": {
              "color": "#E5ECF6",
              "width": 0.5
             },
             "pattern": {
              "fillmode": "overlay",
              "size": 10,
              "solidity": 0.2
             }
            },
            "type": "bar"
           }
          ],
          "barpolar": [
           {
            "marker": {
             "line": {
              "color": "#E5ECF6",
              "width": 0.5
             },
             "pattern": {
              "fillmode": "overlay",
              "size": 10,
              "solidity": 0.2
             }
            },
            "type": "barpolar"
           }
          ],
          "carpet": [
           {
            "aaxis": {
             "endlinecolor": "#2a3f5f",
             "gridcolor": "white",
             "linecolor": "white",
             "minorgridcolor": "white",
             "startlinecolor": "#2a3f5f"
            },
            "baxis": {
             "endlinecolor": "#2a3f5f",
             "gridcolor": "white",
             "linecolor": "white",
             "minorgridcolor": "white",
             "startlinecolor": "#2a3f5f"
            },
            "type": "carpet"
           }
          ],
          "choropleth": [
           {
            "colorbar": {
             "outlinewidth": 0,
             "ticks": ""
            },
            "type": "choropleth"
           }
          ],
          "contour": [
           {
            "colorbar": {
             "outlinewidth": 0,
             "ticks": ""
            },
            "colorscale": [
             [
              0,
              "#0d0887"
             ],
             [
              0.1111111111111111,
              "#46039f"
             ],
             [
              0.2222222222222222,
              "#7201a8"
             ],
             [
              0.3333333333333333,
              "#9c179e"
             ],
             [
              0.4444444444444444,
              "#bd3786"
             ],
             [
              0.5555555555555556,
              "#d8576b"
             ],
             [
              0.6666666666666666,
              "#ed7953"
             ],
             [
              0.7777777777777778,
              "#fb9f3a"
             ],
             [
              0.8888888888888888,
              "#fdca26"
             ],
             [
              1,
              "#f0f921"
             ]
            ],
            "type": "contour"
           }
          ],
          "contourcarpet": [
           {
            "colorbar": {
             "outlinewidth": 0,
             "ticks": ""
            },
            "type": "contourcarpet"
           }
          ],
          "heatmap": [
           {
            "colorbar": {
             "outlinewidth": 0,
             "ticks": ""
            },
            "colorscale": [
             [
              0,
              "#0d0887"
             ],
             [
              0.1111111111111111,
              "#46039f"
             ],
             [
              0.2222222222222222,
              "#7201a8"
             ],
             [
              0.3333333333333333,
              "#9c179e"
             ],
             [
              0.4444444444444444,
              "#bd3786"
             ],
             [
              0.5555555555555556,
              "#d8576b"
             ],
             [
              0.6666666666666666,
              "#ed7953"
             ],
             [
              0.7777777777777778,
              "#fb9f3a"
             ],
             [
              0.8888888888888888,
              "#fdca26"
             ],
             [
              1,
              "#f0f921"
             ]
            ],
            "type": "heatmap"
           }
          ],
          "heatmapgl": [
           {
            "colorbar": {
             "outlinewidth": 0,
             "ticks": ""
            },
            "colorscale": [
             [
              0,
              "#0d0887"
             ],
             [
              0.1111111111111111,
              "#46039f"
             ],
             [
              0.2222222222222222,
              "#7201a8"
             ],
             [
              0.3333333333333333,
              "#9c179e"
             ],
             [
              0.4444444444444444,
              "#bd3786"
             ],
             [
              0.5555555555555556,
              "#d8576b"
             ],
             [
              0.6666666666666666,
              "#ed7953"
             ],
             [
              0.7777777777777778,
              "#fb9f3a"
             ],
             [
              0.8888888888888888,
              "#fdca26"
             ],
             [
              1,
              "#f0f921"
             ]
            ],
            "type": "heatmapgl"
           }
          ],
          "histogram": [
           {
            "marker": {
             "pattern": {
              "fillmode": "overlay",
              "size": 10,
              "solidity": 0.2
             }
            },
            "type": "histogram"
           }
          ],
          "histogram2d": [
           {
            "colorbar": {
             "outlinewidth": 0,
             "ticks": ""
            },
            "colorscale": [
             [
              0,
              "#0d0887"
             ],
             [
              0.1111111111111111,
              "#46039f"
             ],
             [
              0.2222222222222222,
              "#7201a8"
             ],
             [
              0.3333333333333333,
              "#9c179e"
             ],
             [
              0.4444444444444444,
              "#bd3786"
             ],
             [
              0.5555555555555556,
              "#d8576b"
             ],
             [
              0.6666666666666666,
              "#ed7953"
             ],
             [
              0.7777777777777778,
              "#fb9f3a"
             ],
             [
              0.8888888888888888,
              "#fdca26"
             ],
             [
              1,
              "#f0f921"
             ]
            ],
            "type": "histogram2d"
           }
          ],
          "histogram2dcontour": [
           {
            "colorbar": {
             "outlinewidth": 0,
             "ticks": ""
            },
            "colorscale": [
             [
              0,
              "#0d0887"
             ],
             [
              0.1111111111111111,
              "#46039f"
             ],
             [
              0.2222222222222222,
              "#7201a8"
             ],
             [
              0.3333333333333333,
              "#9c179e"
             ],
             [
              0.4444444444444444,
              "#bd3786"
             ],
             [
              0.5555555555555556,
              "#d8576b"
             ],
             [
              0.6666666666666666,
              "#ed7953"
             ],
             [
              0.7777777777777778,
              "#fb9f3a"
             ],
             [
              0.8888888888888888,
              "#fdca26"
             ],
             [
              1,
              "#f0f921"
             ]
            ],
            "type": "histogram2dcontour"
           }
          ],
          "mesh3d": [
           {
            "colorbar": {
             "outlinewidth": 0,
             "ticks": ""
            },
            "type": "mesh3d"
           }
          ],
          "parcoords": [
           {
            "line": {
             "colorbar": {
              "outlinewidth": 0,
              "ticks": ""
             }
            },
            "type": "parcoords"
           }
          ],
          "pie": [
           {
            "automargin": true,
            "type": "pie"
           }
          ],
          "scatter": [
           {
            "fillpattern": {
             "fillmode": "overlay",
             "size": 10,
             "solidity": 0.2
            },
            "type": "scatter"
           }
          ],
          "scatter3d": [
           {
            "line": {
             "colorbar": {
              "outlinewidth": 0,
              "ticks": ""
             }
            },
            "marker": {
             "colorbar": {
              "outlinewidth": 0,
              "ticks": ""
             }
            },
            "type": "scatter3d"
           }
          ],
          "scattercarpet": [
           {
            "marker": {
             "colorbar": {
              "outlinewidth": 0,
              "ticks": ""
             }
            },
            "type": "scattercarpet"
           }
          ],
          "scattergeo": [
           {
            "marker": {
             "colorbar": {
              "outlinewidth": 0,
              "ticks": ""
             }
            },
            "type": "scattergeo"
           }
          ],
          "scattergl": [
           {
            "marker": {
             "colorbar": {
              "outlinewidth": 0,
              "ticks": ""
             }
            },
            "type": "scattergl"
           }
          ],
          "scattermapbox": [
           {
            "marker": {
             "colorbar": {
              "outlinewidth": 0,
              "ticks": ""
             }
            },
            "type": "scattermapbox"
           }
          ],
          "scatterpolar": [
           {
            "marker": {
             "colorbar": {
              "outlinewidth": 0,
              "ticks": ""
             }
            },
            "type": "scatterpolar"
           }
          ],
          "scatterpolargl": [
           {
            "marker": {
             "colorbar": {
              "outlinewidth": 0,
              "ticks": ""
             }
            },
            "type": "scatterpolargl"
           }
          ],
          "scatterternary": [
           {
            "marker": {
             "colorbar": {
              "outlinewidth": 0,
              "ticks": ""
             }
            },
            "type": "scatterternary"
           }
          ],
          "surface": [
           {
            "colorbar": {
             "outlinewidth": 0,
             "ticks": ""
            },
            "colorscale": [
             [
              0,
              "#0d0887"
             ],
             [
              0.1111111111111111,
              "#46039f"
             ],
             [
              0.2222222222222222,
              "#7201a8"
             ],
             [
              0.3333333333333333,
              "#9c179e"
             ],
             [
              0.4444444444444444,
              "#bd3786"
             ],
             [
              0.5555555555555556,
              "#d8576b"
             ],
             [
              0.6666666666666666,
              "#ed7953"
             ],
             [
              0.7777777777777778,
              "#fb9f3a"
             ],
             [
              0.8888888888888888,
              "#fdca26"
             ],
             [
              1,
              "#f0f921"
             ]
            ],
            "type": "surface"
           }
          ],
          "table": [
           {
            "cells": {
             "fill": {
              "color": "#EBF0F8"
             },
             "line": {
              "color": "white"
             }
            },
            "header": {
             "fill": {
              "color": "#C8D4E3"
             },
             "line": {
              "color": "white"
             }
            },
            "type": "table"
           }
          ]
         },
         "layout": {
          "annotationdefaults": {
           "arrowcolor": "#2a3f5f",
           "arrowhead": 0,
           "arrowwidth": 1
          },
          "autotypenumbers": "strict",
          "coloraxis": {
           "colorbar": {
            "outlinewidth": 0,
            "ticks": ""
           }
          },
          "colorscale": {
           "diverging": [
            [
             0,
             "#8e0152"
            ],
            [
             0.1,
             "#c51b7d"
            ],
            [
             0.2,
             "#de77ae"
            ],
            [
             0.3,
             "#f1b6da"
            ],
            [
             0.4,
             "#fde0ef"
            ],
            [
             0.5,
             "#f7f7f7"
            ],
            [
             0.6,
             "#e6f5d0"
            ],
            [
             0.7,
             "#b8e186"
            ],
            [
             0.8,
             "#7fbc41"
            ],
            [
             0.9,
             "#4d9221"
            ],
            [
             1,
             "#276419"
            ]
           ],
           "sequential": [
            [
             0,
             "#0d0887"
            ],
            [
             0.1111111111111111,
             "#46039f"
            ],
            [
             0.2222222222222222,
             "#7201a8"
            ],
            [
             0.3333333333333333,
             "#9c179e"
            ],
            [
             0.4444444444444444,
             "#bd3786"
            ],
            [
             0.5555555555555556,
             "#d8576b"
            ],
            [
             0.6666666666666666,
             "#ed7953"
            ],
            [
             0.7777777777777778,
             "#fb9f3a"
            ],
            [
             0.8888888888888888,
             "#fdca26"
            ],
            [
             1,
             "#f0f921"
            ]
           ],
           "sequentialminus": [
            [
             0,
             "#0d0887"
            ],
            [
             0.1111111111111111,
             "#46039f"
            ],
            [
             0.2222222222222222,
             "#7201a8"
            ],
            [
             0.3333333333333333,
             "#9c179e"
            ],
            [
             0.4444444444444444,
             "#bd3786"
            ],
            [
             0.5555555555555556,
             "#d8576b"
            ],
            [
             0.6666666666666666,
             "#ed7953"
            ],
            [
             0.7777777777777778,
             "#fb9f3a"
            ],
            [
             0.8888888888888888,
             "#fdca26"
            ],
            [
             1,
             "#f0f921"
            ]
           ]
          },
          "colorway": [
           "#636efa",
           "#EF553B",
           "#00cc96",
           "#ab63fa",
           "#FFA15A",
           "#19d3f3",
           "#FF6692",
           "#B6E880",
           "#FF97FF",
           "#FECB52"
          ],
          "font": {
           "color": "#2a3f5f"
          },
          "geo": {
           "bgcolor": "white",
           "lakecolor": "white",
           "landcolor": "#E5ECF6",
           "showlakes": true,
           "showland": true,
           "subunitcolor": "white"
          },
          "hoverlabel": {
           "align": "left"
          },
          "hovermode": "closest",
          "mapbox": {
           "style": "light"
          },
          "paper_bgcolor": "white",
          "plot_bgcolor": "#E5ECF6",
          "polar": {
           "angularaxis": {
            "gridcolor": "white",
            "linecolor": "white",
            "ticks": ""
           },
           "bgcolor": "#E5ECF6",
           "radialaxis": {
            "gridcolor": "white",
            "linecolor": "white",
            "ticks": ""
           }
          },
          "scene": {
           "xaxis": {
            "backgroundcolor": "#E5ECF6",
            "gridcolor": "white",
            "gridwidth": 2,
            "linecolor": "white",
            "showbackground": true,
            "ticks": "",
            "zerolinecolor": "white"
           },
           "yaxis": {
            "backgroundcolor": "#E5ECF6",
            "gridcolor": "white",
            "gridwidth": 2,
            "linecolor": "white",
            "showbackground": true,
            "ticks": "",
            "zerolinecolor": "white"
           },
           "zaxis": {
            "backgroundcolor": "#E5ECF6",
            "gridcolor": "white",
            "gridwidth": 2,
            "linecolor": "white",
            "showbackground": true,
            "ticks": "",
            "zerolinecolor": "white"
           }
          },
          "shapedefaults": {
           "line": {
            "color": "#2a3f5f"
           }
          },
          "ternary": {
           "aaxis": {
            "gridcolor": "white",
            "linecolor": "white",
            "ticks": ""
           },
           "baxis": {
            "gridcolor": "white",
            "linecolor": "white",
            "ticks": ""
           },
           "bgcolor": "#E5ECF6",
           "caxis": {
            "gridcolor": "white",
            "linecolor": "white",
            "ticks": ""
           }
          },
          "title": {
           "x": 0.05
          },
          "xaxis": {
           "automargin": true,
           "gridcolor": "white",
           "linecolor": "white",
           "ticks": "",
           "title": {
            "standoff": 15
           },
           "zerolinecolor": "white",
           "zerolinewidth": 2
          },
          "yaxis": {
           "automargin": true,
           "gridcolor": "white",
           "linecolor": "white",
           "ticks": "",
           "title": {
            "standoff": 15
           },
           "zerolinecolor": "white",
           "zerolinewidth": 2
          }
         }
        }
       }
      },
      "text/html": [
       "<div>                        <script type=\"text/javascript\">window.PlotlyConfig = {MathJaxConfig: 'local'};</script>\n",
       "        <script charset=\"utf-8\" src=\"https://cdn.plot.ly/plotly-2.27.0.min.js\"></script>                <div id=\"cbf8f484-c01f-4984-aba7-b19207aa186e\" class=\"plotly-graph-div\" style=\"height:100%; width:100%;\"></div>            <script type=\"text/javascript\">                                    window.PLOTLYENV=window.PLOTLYENV || {};                                    if (document.getElementById(\"cbf8f484-c01f-4984-aba7-b19207aa186e\")) {                    Plotly.newPlot(                        \"cbf8f484-c01f-4984-aba7-b19207aa186e\",                        [{\"hovertemplate\":\"feature1=%{x}\\u003cbr\\u003efeature2=%{y}\\u003cbr\\u003etarget=%{z}\\u003cextra\\u003e\\u003c\\u002fextra\\u003e\",\"legendgroup\":\"\",\"marker\":{\"color\":\"#636efa\",\"symbol\":\"circle\"},\"mode\":\"markers\",\"name\":\"\",\"scene\":\"scene\",\"showlegend\":false,\"x\":[0.1509266988092982,-0.287817210042392,1.3086574332159246,-0.29605337628145406,-1.3399302154767265,-0.5739197104335093,-0.8377361926262826,2.051245531535253,-0.4615166194085372,1.0320464658101793,1.277580049282985,0.061166274441080484,-0.275688213379526,1.417537681482178,0.9992250897971938,-1.5472214209014412,0.778809000516287,0.9375803786338305,-1.4860657587035282,0.7494603487795068,0.2737721664992205,-0.18817044071637673,-1.8036648973902605,1.1785533286829875,0.7264543062704497,1.0071226621899476,-0.786243365357029,-0.6151428576546415,0.537017909907009,-0.9694954658119853,-1.7244883169879832,-0.6149550539764693,-0.8800036944419971,0.03796509377649712,1.2337621285336349,0.7212571878010304,-1.0108187412846998,-0.0648825405570522,-0.1334090299672808,1.359076048125904,1.6681162478339333,0.5411734040815186,-1.6505414750289316,-0.2566929664521543,-0.8813673851587867,-2.2662373012239128,0.24484769498691922,-0.8099376711512052,-0.713791357806293,-0.8929068027729701,0.47499354159350643,-0.8718642706636853,0.2732837687585047,-0.5670534793301553,-0.144460819029301,-0.26681408570338266,-1.3550165837878392,-0.5565123376195306,0.07289504943028348,0.6640548011248694,-0.9178460723642755,-1.628576167828071,-3.1011892604024833,-0.4959298749547595,-0.10497454029202763,0.11068040917232064,-0.8970629491058354,-0.1139690882329028,0.9848533007459153,-1.1929960724677697,1.3367222742537597,-0.22842553960099743,1.47533976124283,1.0052772147293083,-0.18582593377785686,0.20543172293569278,-2.2319313364854545,2.5463904371498,0.8179073923452019,1.539622826635946,0.11866274429878813,0.15237629585895363,-0.2920059359138236,0.3822304328473527,0.10314290977504578,1.2094058748626866,0.26238483352109143,1.2225696009445624,0.8315936800521526,-1.0646649511808786,0.23284778729221203,1.3920708186047484,0.5785811360773413,-1.070223576234383,-0.09084971594723353,1.4827515768395203,-0.8292731643746382,-0.2162189026142516,-0.5981437273077438,2.1020998222923066,1.4555279699724573,0.8526519271541213,0.6057484263660646,1.2801409265937909,-1.6274926521585928,0.49501720002154226,0.9740302925258472,1.1180639280824662,1.9805193988867014,0.2805202912069663,-0.23102237822410965,-0.6611774577281693,0.1890093636161045,1.8670978455250709,-0.1258074223392286,-0.3100787007624268,1.4500547586610875,-1.1285855255942034,0.6152043817327255,0.9311475748584459,-1.519321845096685,-0.7091976094055648,-0.1231949892291034,0.42535399796276974,0.6573760562208706,-0.18257498959297067,-0.750992793410019,-0.19906492013747415,-0.0658689046574594,1.7912912093109945,0.29070876489945185,0.6782832635560403,0.13013659677573566,-0.8199535211665344,-0.7140834773230633,1.5552984327320873,0.03916545237158796,-3.3155404796049526,0.4953480812134955,0.8760426063256359,0.28486628684244764,-0.10234452777504546,2.1359821774314867,-1.3851462281062625,-0.9282889896415767,0.7559165569048046,-0.4814069754392527,0.29570345754491073,0.15929707756043068,1.5676287430695923],\"y\":[0.5859115985674357,0.8186754910880802,-1.0000841461710501,0.06848670410835762,1.4489387494125516,-0.9215458816433105,-0.7860091256449866,-0.40604850971539136,0.9325242351339021,0.506930774653227,0.2689420662725915,-0.41202157010400464,1.0256446885953183,1.5288804383174703,0.17547908660968736,-0.9162216411229877,-0.4133953518161544,-1.6029899250771873,0.5020160907857989,0.8761110149099338,-0.5431254135269056,-0.8381784825090595,0.9145677626586778,-1.5071429942825545,0.8137069737756066,-1.4493830257763083,0.7647488767117655,-1.0520986002854549,-0.3555334506768421,-1.4608870952055901,-1.405910708184361,-1.6563066228059566,0.37589233715307757,0.12402401450004649,-0.7054070256676345,0.44321093784890325,-0.757202755213551,-0.11867685658209119,-1.4795255022715863,-0.44436862726315907,0.06929784108699383,0.7804278541289795,0.03537325558126858,0.5495520532675323,-0.5006658913778478,-0.29995587081668457,-1.3961798430147132,-0.6915945240001214,0.4684714963911889,-1.2319029143383446,0.6730812652900794,0.15730259474666694,-1.1998142034886077,-1.7490470898161492,1.5248056009588533,-0.3341043885916181,-0.05471337189473124,0.6528016319414515,-1.396649258282152,0.34171430367629124,-0.14698059175624,0.4847726054183594,1.5765421142944012,-0.11303245444855302,-0.47249409644569285,-1.0896632160098418,-0.41904153134076105,-0.11291753052778787,0.2385022982148455,-0.46593862384821166,-0.5043719403100182,0.0810664025964653,0.0152754700134185,2.3299411990161114,-1.364491698273579,0.13503266583006207,-0.7849372727496777,-0.030894886771875,-0.08199873542831437,2.0127713100805096,-2.038500202987989,0.2977883560970117,-1.6941374359343657,0.20232535178181174,0.12279786825701898,0.12902444341931613,0.3479258148438946,0.19619061927572753,0.43808414790867745,-0.25363796955090095,0.7472766351858547,-0.5087528925929496,-0.8491526567415795,0.3759431579602288,-1.0440480259524731,-1.5944385034379973,-0.4215356523863674,-0.21040657295464152,0.8754698345443856,0.8351285883034453,1.3408904653765923,-0.6514750791178658,2.4776260129100613,1.4177586565566394,0.03234632241946083,-0.847059400281032,1.0567033232501688,0.4713526105127577,0.4860993365926404,-0.7110506379844932,1.4484678845281378,0.3686444053863285,-0.8832349041869789,-0.8901125778302004,-0.8753077529452901,-0.3165709774330397,-0.28843376263734716,-0.14222835532766065,0.5822245118610266,2.1261629850601333,0.25469565108757836,-1.4041498864852957,-0.5218801206695386,0.047898945000308946,-0.4040790743090514,0.7363410429283682,0.5907139375495468,-1.7579299541322284,-0.7710606761107613,-0.527411727701339,-0.07272034973547191,-2.486806857747651,0.45953934401456686,-1.6271522400909089,0.2503025373800321,-1.1949266651186705,1.2122843718564165,2.084171999214226,-0.5201484589810822,0.02279408305663168,0.4486085083096035,0.3680607109999715,-0.9672847259235896,1.3813389683853652,1.3411859123658676,0.927318802759708,-0.3796425424612827,-1.8691027337866157,0.8501283547002675,0.7664268273654825],\"z\":[20.187880761965957,3.1475549089298944,57.765830936909765,-11.603533081246148,51.08472233232084,-136.03991598192943,-129.68254594669637,130.5746105806022,125.70185492802041,88.6728625938027,103.15244164833403,-71.78645781066089,-9.825386717315126,237.84954987529204,69.85553334106969,-200.0370067608382,98.72657124595358,-26.34689284370242,-57.66262966410494,128.79003602514695,-3.2770631392476384,-67.55096700657757,-120.10117240343978,-0.9023356494079326,50.56844572998425,-31.627609722280692,18.01025977445974,-93.27876751320207,1.6382602793150163,-143.3645498975229,-189.54441176976246,-156.388922777981,-64.5812573296242,-30.10231444862866,86.72808908321363,87.5544691466687,-129.8050303327769,-50.17476791068787,-76.747390113276,95.93236204174923,133.0220890930435,138.49500573748514,-160.47019521060213,45.54283546571968,-58.84304377320991,-225.81878970724495,-38.53758962767141,-114.49270855559284,-31.67915391193365,-120.2982528918398,43.81551615016051,-56.85785849520768,-87.79910051043257,-176.66554741529342,105.28767341747526,-12.751454492959276,-108.9345785524346,-59.76015006953729,-23.139849459778645,66.3479695623829,-43.14635616268709,-135.26866243615385,-160.74569281731354,-27.712313085042265,-3.303513793857096,-62.8630366537206,-125.62740329864958,36.01574095799519,192.51144689727863,-138.78858952177396,93.38676358670153,15.155677284929133,106.87025789927443,186.28235452584383,-128.43508701938117,-36.244605047067616,-177.39137375044984,156.05617190978342,128.80494358069444,189.59721003197873,-132.1099375960707,59.693183073864176,-85.93337194390516,60.46985803446624,79.24370943085631,86.55055128031059,59.975800640627405,145.98180084911635,117.05675848267711,-68.33476486076799,97.95079166594229,109.68438778116739,48.04653993939188,-104.13478092315032,-7.413512262614951,9.427646750277976,-116.52940961482106,-95.86663786255602,2.7051135866865486,154.76450416478443,193.3735528478958,32.68604677234377,123.4684398861737,193.40794602447878,-123.41549639360984,-19.06921862851559,97.64080688722362,102.47021548351402,80.05995155765935,-6.638466255766758,60.32114506648459,-64.84793765256387,-24.125631683764045,119.94027346978442,-11.558377668511298,39.692021071902786,104.13948510869712,-130.4690700641716,148.20029810445533,170.41375632139537,-72.83659684635197,-168.42096529236994,-43.41461679311348,84.86738408846487,16.119254507073727,44.06744037493298,38.1761070184876,-98.5261436392968,-81.37997330544727,136.10122378532103,25.55623646340646,-146.16502964446883,-14.254515284353474,-153.154122216887,43.30810653560504,82.50177923115425,80.82808932481089,-102.96970450611445,33.76118030638863,80.11602208808117,46.28792270844343,8.138317598205578,214.9411989826383,-54.77137111776543,-50.30731854357158,86.60359702221066,-113.33474224678031,-37.79145564002343,34.171504370376795,128.54174680981725],\"type\":\"scatter3d\"}],                        {\"template\":{\"data\":{\"histogram2dcontour\":[{\"type\":\"histogram2dcontour\",\"colorbar\":{\"outlinewidth\":0,\"ticks\":\"\"},\"colorscale\":[[0.0,\"#0d0887\"],[0.1111111111111111,\"#46039f\"],[0.2222222222222222,\"#7201a8\"],[0.3333333333333333,\"#9c179e\"],[0.4444444444444444,\"#bd3786\"],[0.5555555555555556,\"#d8576b\"],[0.6666666666666666,\"#ed7953\"],[0.7777777777777778,\"#fb9f3a\"],[0.8888888888888888,\"#fdca26\"],[1.0,\"#f0f921\"]]}],\"choropleth\":[{\"type\":\"choropleth\",\"colorbar\":{\"outlinewidth\":0,\"ticks\":\"\"}}],\"histogram2d\":[{\"type\":\"histogram2d\",\"colorbar\":{\"outlinewidth\":0,\"ticks\":\"\"},\"colorscale\":[[0.0,\"#0d0887\"],[0.1111111111111111,\"#46039f\"],[0.2222222222222222,\"#7201a8\"],[0.3333333333333333,\"#9c179e\"],[0.4444444444444444,\"#bd3786\"],[0.5555555555555556,\"#d8576b\"],[0.6666666666666666,\"#ed7953\"],[0.7777777777777778,\"#fb9f3a\"],[0.8888888888888888,\"#fdca26\"],[1.0,\"#f0f921\"]]}],\"heatmap\":[{\"type\":\"heatmap\",\"colorbar\":{\"outlinewidth\":0,\"ticks\":\"\"},\"colorscale\":[[0.0,\"#0d0887\"],[0.1111111111111111,\"#46039f\"],[0.2222222222222222,\"#7201a8\"],[0.3333333333333333,\"#9c179e\"],[0.4444444444444444,\"#bd3786\"],[0.5555555555555556,\"#d8576b\"],[0.6666666666666666,\"#ed7953\"],[0.7777777777777778,\"#fb9f3a\"],[0.8888888888888888,\"#fdca26\"],[1.0,\"#f0f921\"]]}],\"heatmapgl\":[{\"type\":\"heatmapgl\",\"colorbar\":{\"outlinewidth\":0,\"ticks\":\"\"},\"colorscale\":[[0.0,\"#0d0887\"],[0.1111111111111111,\"#46039f\"],[0.2222222222222222,\"#7201a8\"],[0.3333333333333333,\"#9c179e\"],[0.4444444444444444,\"#bd3786\"],[0.5555555555555556,\"#d8576b\"],[0.6666666666666666,\"#ed7953\"],[0.7777777777777778,\"#fb9f3a\"],[0.8888888888888888,\"#fdca26\"],[1.0,\"#f0f921\"]]}],\"contourcarpet\":[{\"type\":\"contourcarpet\",\"colorbar\":{\"outlinewidth\":0,\"ticks\":\"\"}}],\"contour\":[{\"type\":\"contour\",\"colorbar\":{\"outlinewidth\":0,\"ticks\":\"\"},\"colorscale\":[[0.0,\"#0d0887\"],[0.1111111111111111,\"#46039f\"],[0.2222222222222222,\"#7201a8\"],[0.3333333333333333,\"#9c179e\"],[0.4444444444444444,\"#bd3786\"],[0.5555555555555556,\"#d8576b\"],[0.6666666666666666,\"#ed7953\"],[0.7777777777777778,\"#fb9f3a\"],[0.8888888888888888,\"#fdca26\"],[1.0,\"#f0f921\"]]}],\"surface\":[{\"type\":\"surface\",\"colorbar\":{\"outlinewidth\":0,\"ticks\":\"\"},\"colorscale\":[[0.0,\"#0d0887\"],[0.1111111111111111,\"#46039f\"],[0.2222222222222222,\"#7201a8\"],[0.3333333333333333,\"#9c179e\"],[0.4444444444444444,\"#bd3786\"],[0.5555555555555556,\"#d8576b\"],[0.6666666666666666,\"#ed7953\"],[0.7777777777777778,\"#fb9f3a\"],[0.8888888888888888,\"#fdca26\"],[1.0,\"#f0f921\"]]}],\"mesh3d\":[{\"type\":\"mesh3d\",\"colorbar\":{\"outlinewidth\":0,\"ticks\":\"\"}}],\"scatter\":[{\"fillpattern\":{\"fillmode\":\"overlay\",\"size\":10,\"solidity\":0.2},\"type\":\"scatter\"}],\"parcoords\":[{\"type\":\"parcoords\",\"line\":{\"colorbar\":{\"outlinewidth\":0,\"ticks\":\"\"}}}],\"scatterpolargl\":[{\"type\":\"scatterpolargl\",\"marker\":{\"colorbar\":{\"outlinewidth\":0,\"ticks\":\"\"}}}],\"bar\":[{\"error_x\":{\"color\":\"#2a3f5f\"},\"error_y\":{\"color\":\"#2a3f5f\"},\"marker\":{\"line\":{\"color\":\"#E5ECF6\",\"width\":0.5},\"pattern\":{\"fillmode\":\"overlay\",\"size\":10,\"solidity\":0.2}},\"type\":\"bar\"}],\"scattergeo\":[{\"type\":\"scattergeo\",\"marker\":{\"colorbar\":{\"outlinewidth\":0,\"ticks\":\"\"}}}],\"scatterpolar\":[{\"type\":\"scatterpolar\",\"marker\":{\"colorbar\":{\"outlinewidth\":0,\"ticks\":\"\"}}}],\"histogram\":[{\"marker\":{\"pattern\":{\"fillmode\":\"overlay\",\"size\":10,\"solidity\":0.2}},\"type\":\"histogram\"}],\"scattergl\":[{\"type\":\"scattergl\",\"marker\":{\"colorbar\":{\"outlinewidth\":0,\"ticks\":\"\"}}}],\"scatter3d\":[{\"type\":\"scatter3d\",\"line\":{\"colorbar\":{\"outlinewidth\":0,\"ticks\":\"\"}},\"marker\":{\"colorbar\":{\"outlinewidth\":0,\"ticks\":\"\"}}}],\"scattermapbox\":[{\"type\":\"scattermapbox\",\"marker\":{\"colorbar\":{\"outlinewidth\":0,\"ticks\":\"\"}}}],\"scatterternary\":[{\"type\":\"scatterternary\",\"marker\":{\"colorbar\":{\"outlinewidth\":0,\"ticks\":\"\"}}}],\"scattercarpet\":[{\"type\":\"scattercarpet\",\"marker\":{\"colorbar\":{\"outlinewidth\":0,\"ticks\":\"\"}}}],\"carpet\":[{\"aaxis\":{\"endlinecolor\":\"#2a3f5f\",\"gridcolor\":\"white\",\"linecolor\":\"white\",\"minorgridcolor\":\"white\",\"startlinecolor\":\"#2a3f5f\"},\"baxis\":{\"endlinecolor\":\"#2a3f5f\",\"gridcolor\":\"white\",\"linecolor\":\"white\",\"minorgridcolor\":\"white\",\"startlinecolor\":\"#2a3f5f\"},\"type\":\"carpet\"}],\"table\":[{\"cells\":{\"fill\":{\"color\":\"#EBF0F8\"},\"line\":{\"color\":\"white\"}},\"header\":{\"fill\":{\"color\":\"#C8D4E3\"},\"line\":{\"color\":\"white\"}},\"type\":\"table\"}],\"barpolar\":[{\"marker\":{\"line\":{\"color\":\"#E5ECF6\",\"width\":0.5},\"pattern\":{\"fillmode\":\"overlay\",\"size\":10,\"solidity\":0.2}},\"type\":\"barpolar\"}],\"pie\":[{\"automargin\":true,\"type\":\"pie\"}]},\"layout\":{\"autotypenumbers\":\"strict\",\"colorway\":[\"#636efa\",\"#EF553B\",\"#00cc96\",\"#ab63fa\",\"#FFA15A\",\"#19d3f3\",\"#FF6692\",\"#B6E880\",\"#FF97FF\",\"#FECB52\"],\"font\":{\"color\":\"#2a3f5f\"},\"hovermode\":\"closest\",\"hoverlabel\":{\"align\":\"left\"},\"paper_bgcolor\":\"white\",\"plot_bgcolor\":\"#E5ECF6\",\"polar\":{\"bgcolor\":\"#E5ECF6\",\"angularaxis\":{\"gridcolor\":\"white\",\"linecolor\":\"white\",\"ticks\":\"\"},\"radialaxis\":{\"gridcolor\":\"white\",\"linecolor\":\"white\",\"ticks\":\"\"}},\"ternary\":{\"bgcolor\":\"#E5ECF6\",\"aaxis\":{\"gridcolor\":\"white\",\"linecolor\":\"white\",\"ticks\":\"\"},\"baxis\":{\"gridcolor\":\"white\",\"linecolor\":\"white\",\"ticks\":\"\"},\"caxis\":{\"gridcolor\":\"white\",\"linecolor\":\"white\",\"ticks\":\"\"}},\"coloraxis\":{\"colorbar\":{\"outlinewidth\":0,\"ticks\":\"\"}},\"colorscale\":{\"sequential\":[[0.0,\"#0d0887\"],[0.1111111111111111,\"#46039f\"],[0.2222222222222222,\"#7201a8\"],[0.3333333333333333,\"#9c179e\"],[0.4444444444444444,\"#bd3786\"],[0.5555555555555556,\"#d8576b\"],[0.6666666666666666,\"#ed7953\"],[0.7777777777777778,\"#fb9f3a\"],[0.8888888888888888,\"#fdca26\"],[1.0,\"#f0f921\"]],\"sequentialminus\":[[0.0,\"#0d0887\"],[0.1111111111111111,\"#46039f\"],[0.2222222222222222,\"#7201a8\"],[0.3333333333333333,\"#9c179e\"],[0.4444444444444444,\"#bd3786\"],[0.5555555555555556,\"#d8576b\"],[0.6666666666666666,\"#ed7953\"],[0.7777777777777778,\"#fb9f3a\"],[0.8888888888888888,\"#fdca26\"],[1.0,\"#f0f921\"]],\"diverging\":[[0,\"#8e0152\"],[0.1,\"#c51b7d\"],[0.2,\"#de77ae\"],[0.3,\"#f1b6da\"],[0.4,\"#fde0ef\"],[0.5,\"#f7f7f7\"],[0.6,\"#e6f5d0\"],[0.7,\"#b8e186\"],[0.8,\"#7fbc41\"],[0.9,\"#4d9221\"],[1,\"#276419\"]]},\"xaxis\":{\"gridcolor\":\"white\",\"linecolor\":\"white\",\"ticks\":\"\",\"title\":{\"standoff\":15},\"zerolinecolor\":\"white\",\"automargin\":true,\"zerolinewidth\":2},\"yaxis\":{\"gridcolor\":\"white\",\"linecolor\":\"white\",\"ticks\":\"\",\"title\":{\"standoff\":15},\"zerolinecolor\":\"white\",\"automargin\":true,\"zerolinewidth\":2},\"scene\":{\"xaxis\":{\"backgroundcolor\":\"#E5ECF6\",\"gridcolor\":\"white\",\"linecolor\":\"white\",\"showbackground\":true,\"ticks\":\"\",\"zerolinecolor\":\"white\",\"gridwidth\":2},\"yaxis\":{\"backgroundcolor\":\"#E5ECF6\",\"gridcolor\":\"white\",\"linecolor\":\"white\",\"showbackground\":true,\"ticks\":\"\",\"zerolinecolor\":\"white\",\"gridwidth\":2},\"zaxis\":{\"backgroundcolor\":\"#E5ECF6\",\"gridcolor\":\"white\",\"linecolor\":\"white\",\"showbackground\":true,\"ticks\":\"\",\"zerolinecolor\":\"white\",\"gridwidth\":2}},\"shapedefaults\":{\"line\":{\"color\":\"#2a3f5f\"}},\"annotationdefaults\":{\"arrowcolor\":\"#2a3f5f\",\"arrowhead\":0,\"arrowwidth\":1},\"geo\":{\"bgcolor\":\"white\",\"landcolor\":\"#E5ECF6\",\"subunitcolor\":\"white\",\"showland\":true,\"showlakes\":true,\"lakecolor\":\"white\"},\"title\":{\"x\":0.05},\"mapbox\":{\"style\":\"light\"}}},\"scene\":{\"domain\":{\"x\":[0.0,1.0],\"y\":[0.0,1.0]},\"xaxis\":{\"title\":{\"text\":\"feature1\"}},\"yaxis\":{\"title\":{\"text\":\"feature2\"}},\"zaxis\":{\"title\":{\"text\":\"target\"}}},\"legend\":{\"tracegroupgap\":0},\"margin\":{\"t\":60}},                        {\"responsive\": true}                    )                };                            </script>        </div>"
      ],
      "text/plain": [
       "Figure({\n",
       "    'data': [{'hovertemplate': 'feature1=%{x}<br>feature2=%{y}<br>target=%{z}<extra></extra>',\n",
       "              'legendgroup': '',\n",
       "              'marker': {'color': '#636efa', 'symbol': 'circle'},\n",
       "              'mode': 'markers',\n",
       "              'name': '',\n",
       "              'scene': 'scene',\n",
       "              'showlegend': False,\n",
       "              'type': 'scatter3d',\n",
       "              'x': array([ 0.1509267 , -0.28781721,  1.30865743, -0.29605338, -1.33993022,\n",
       "                          -0.57391971, -0.83773619,  2.05124553, -0.46151662,  1.03204647,\n",
       "                           1.27758005,  0.06116627, -0.27568821,  1.41753768,  0.99922509,\n",
       "                          -1.54722142,  0.778809  ,  0.93758038, -1.48606576,  0.74946035,\n",
       "                           0.27377217, -0.18817044, -1.8036649 ,  1.17855333,  0.72645431,\n",
       "                           1.00712266, -0.78624337, -0.61514286,  0.53701791, -0.96949547,\n",
       "                          -1.72448832, -0.61495505, -0.88000369,  0.03796509,  1.23376213,\n",
       "                           0.72125719, -1.01081874, -0.06488254, -0.13340903,  1.35907605,\n",
       "                           1.66811625,  0.5411734 , -1.65054148, -0.25669297, -0.88136739,\n",
       "                          -2.2662373 ,  0.24484769, -0.80993767, -0.71379136, -0.8929068 ,\n",
       "                           0.47499354, -0.87186427,  0.27328377, -0.56705348, -0.14446082,\n",
       "                          -0.26681409, -1.35501658, -0.55651234,  0.07289505,  0.6640548 ,\n",
       "                          -0.91784607, -1.62857617, -3.10118926, -0.49592987, -0.10497454,\n",
       "                           0.11068041, -0.89706295, -0.11396909,  0.9848533 , -1.19299607,\n",
       "                           1.33672227, -0.22842554,  1.47533976,  1.00527721, -0.18582593,\n",
       "                           0.20543172, -2.23193134,  2.54639044,  0.81790739,  1.53962283,\n",
       "                           0.11866274,  0.1523763 , -0.29200594,  0.38223043,  0.10314291,\n",
       "                           1.20940587,  0.26238483,  1.2225696 ,  0.83159368, -1.06466495,\n",
       "                           0.23284779,  1.39207082,  0.57858114, -1.07022358, -0.09084972,\n",
       "                           1.48275158, -0.82927316, -0.2162189 , -0.59814373,  2.10209982,\n",
       "                           1.45552797,  0.85265193,  0.60574843,  1.28014093, -1.62749265,\n",
       "                           0.4950172 ,  0.97403029,  1.11806393,  1.9805194 ,  0.28052029,\n",
       "                          -0.23102238, -0.66117746,  0.18900936,  1.86709785, -0.12580742,\n",
       "                          -0.3100787 ,  1.45005476, -1.12858553,  0.61520438,  0.93114757,\n",
       "                          -1.51932185, -0.70919761, -0.12319499,  0.425354  ,  0.65737606,\n",
       "                          -0.18257499, -0.75099279, -0.19906492, -0.0658689 ,  1.79129121,\n",
       "                           0.29070876,  0.67828326,  0.1301366 , -0.81995352, -0.71408348,\n",
       "                           1.55529843,  0.03916545, -3.31554048,  0.49534808,  0.87604261,\n",
       "                           0.28486629, -0.10234453,  2.13598218, -1.38514623, -0.92828899,\n",
       "                           0.75591656, -0.48140698,  0.29570346,  0.15929708,  1.56762874]),\n",
       "              'y': array([ 0.5859116 ,  0.81867549, -1.00008415,  0.0684867 ,  1.44893875,\n",
       "                          -0.92154588, -0.78600913, -0.40604851,  0.93252424,  0.50693077,\n",
       "                           0.26894207, -0.41202157,  1.02564469,  1.52888044,  0.17547909,\n",
       "                          -0.91622164, -0.41339535, -1.60298993,  0.50201609,  0.87611101,\n",
       "                          -0.54312541, -0.83817848,  0.91456776, -1.50714299,  0.81370697,\n",
       "                          -1.44938303,  0.76474888, -1.0520986 , -0.35553345, -1.4608871 ,\n",
       "                          -1.40591071, -1.65630662,  0.37589234,  0.12402401, -0.70540703,\n",
       "                           0.44321094, -0.75720276, -0.11867686, -1.4795255 , -0.44436863,\n",
       "                           0.06929784,  0.78042785,  0.03537326,  0.54955205, -0.50066589,\n",
       "                          -0.29995587, -1.39617984, -0.69159452,  0.4684715 , -1.23190291,\n",
       "                           0.67308127,  0.15730259, -1.1998142 , -1.74904709,  1.5248056 ,\n",
       "                          -0.33410439, -0.05471337,  0.65280163, -1.39664926,  0.3417143 ,\n",
       "                          -0.14698059,  0.48477261,  1.57654211, -0.11303245, -0.4724941 ,\n",
       "                          -1.08966322, -0.41904153, -0.11291753,  0.2385023 , -0.46593862,\n",
       "                          -0.50437194,  0.0810664 ,  0.01527547,  2.3299412 , -1.3644917 ,\n",
       "                           0.13503267, -0.78493727, -0.03089489, -0.08199874,  2.01277131,\n",
       "                          -2.0385002 ,  0.29778836, -1.69413744,  0.20232535,  0.12279787,\n",
       "                           0.12902444,  0.34792581,  0.19619062,  0.43808415, -0.25363797,\n",
       "                           0.74727664, -0.50875289, -0.84915266,  0.37594316, -1.04404803,\n",
       "                          -1.5944385 , -0.42153565, -0.21040657,  0.87546983,  0.83512859,\n",
       "                           1.34089047, -0.65147508,  2.47762601,  1.41775866,  0.03234632,\n",
       "                          -0.8470594 ,  1.05670332,  0.47135261,  0.48609934, -0.71105064,\n",
       "                           1.44846788,  0.36864441, -0.8832349 , -0.89011258, -0.87530775,\n",
       "                          -0.31657098, -0.28843376, -0.14222836,  0.58222451,  2.12616299,\n",
       "                           0.25469565, -1.40414989, -0.52188012,  0.04789895, -0.40407907,\n",
       "                           0.73634104,  0.59071394, -1.75792995, -0.77106068, -0.52741173,\n",
       "                          -0.07272035, -2.48680686,  0.45953934, -1.62715224,  0.25030254,\n",
       "                          -1.19492667,  1.21228437,  2.084172  , -0.52014846,  0.02279408,\n",
       "                           0.44860851,  0.36806071, -0.96728473,  1.38133897,  1.34118591,\n",
       "                           0.9273188 , -0.37964254, -1.86910273,  0.85012835,  0.76642683]),\n",
       "              'z': array([  20.18788076,    3.14755491,   57.76583094,  -11.60353308,\n",
       "                            51.08472233, -136.03991598, -129.68254595,  130.57461058,\n",
       "                           125.70185493,   88.67286259,  103.15244165,  -71.78645781,\n",
       "                            -9.82538672,  237.84954988,   69.85553334, -200.03700676,\n",
       "                            98.72657125,  -26.34689284,  -57.66262966,  128.79003603,\n",
       "                            -3.27706314,  -67.55096701, -120.1011724 ,   -0.90233565,\n",
       "                            50.56844573,  -31.62760972,   18.01025977,  -93.27876751,\n",
       "                             1.63826028, -143.3645499 , -189.54441177, -156.38892278,\n",
       "                           -64.58125733,  -30.10231445,   86.72808908,   87.55446915,\n",
       "                          -129.80503033,  -50.17476791,  -76.74739011,   95.93236204,\n",
       "                           133.02208909,  138.49500574, -160.47019521,   45.54283547,\n",
       "                           -58.84304377, -225.81878971,  -38.53758963, -114.49270856,\n",
       "                           -31.67915391, -120.29825289,   43.81551615,  -56.8578585 ,\n",
       "                           -87.79910051, -176.66554742,  105.28767342,  -12.75145449,\n",
       "                          -108.93457855,  -59.76015007,  -23.13984946,   66.34796956,\n",
       "                           -43.14635616, -135.26866244, -160.74569282,  -27.71231309,\n",
       "                            -3.30351379,  -62.86303665, -125.6274033 ,   36.01574096,\n",
       "                           192.5114469 , -138.78858952,   93.38676359,   15.15567728,\n",
       "                           106.8702579 ,  186.28235453, -128.43508702,  -36.24460505,\n",
       "                          -177.39137375,  156.05617191,  128.80494358,  189.59721003,\n",
       "                          -132.1099376 ,   59.69318307,  -85.93337194,   60.46985803,\n",
       "                            79.24370943,   86.55055128,   59.97580064,  145.98180085,\n",
       "                           117.05675848,  -68.33476486,   97.95079167,  109.68438778,\n",
       "                            48.04653994, -104.13478092,   -7.41351226,    9.42764675,\n",
       "                          -116.52940961,  -95.86663786,    2.70511359,  154.76450416,\n",
       "                           193.37355285,   32.68604677,  123.46843989,  193.40794602,\n",
       "                          -123.41549639,  -19.06921863,   97.64080689,  102.47021548,\n",
       "                            80.05995156,   -6.63846626,   60.32114507,  -64.84793765,\n",
       "                           -24.12563168,  119.94027347,  -11.55837767,   39.69202107,\n",
       "                           104.13948511, -130.46907006,  148.2002981 ,  170.41375632,\n",
       "                           -72.83659685, -168.42096529,  -43.41461679,   84.86738409,\n",
       "                            16.11925451,   44.06744037,   38.17610702,  -98.52614364,\n",
       "                           -81.37997331,  136.10122379,   25.55623646, -146.16502964,\n",
       "                           -14.25451528, -153.15412222,   43.30810654,   82.50177923,\n",
       "                            80.82808932, -102.96970451,   33.76118031,   80.11602209,\n",
       "                            46.28792271,    8.1383176 ,  214.94119898,  -54.77137112,\n",
       "                           -50.30731854,   86.60359702, -113.33474225,  -37.79145564,\n",
       "                            34.17150437,  128.54174681])}],\n",
       "    'layout': {'legend': {'tracegroupgap': 0},\n",
       "               'margin': {'t': 60},\n",
       "               'scene': {'domain': {'x': [0.0, 1.0], 'y': [0.0, 1.0]},\n",
       "                         'xaxis': {'title': {'text': 'feature1'}},\n",
       "                         'yaxis': {'title': {'text': 'feature2'}},\n",
       "                         'zaxis': {'title': {'text': 'target'}}},\n",
       "               'template': '...'}\n",
       "})"
      ]
     },
     "execution_count": 62,
     "metadata": {},
     "output_type": "execute_result"
    }
   ],
   "source": [
    "import plotly.express as px\n",
    "px.scatter_3d(df,x=\"feature1\",y=\"feature2\",z=\"target\")"
   ]
  },
  {
   "cell_type": "code",
   "execution_count": 63,
   "metadata": {},
   "outputs": [],
   "source": [
    "from sklearn.model_selection import train_test_split\n",
    "X_train,X_test,y_train,y_test = train_test_split(X,y,test_size=0.15,random_state=3)"
   ]
  },
  {
   "cell_type": "code",
   "execution_count": 68,
   "metadata": {},
   "outputs": [
    {
     "data": {
      "text/plain": [
       "(127, 2)"
      ]
     },
     "execution_count": 68,
     "metadata": {},
     "output_type": "execute_result"
    }
   ],
   "source": [
    "X_train.shape"
   ]
  },
  {
   "cell_type": "code",
   "execution_count": 66,
   "metadata": {},
   "outputs": [
    {
     "data": {
      "text/plain": [
       "(127,)"
      ]
     },
     "execution_count": 66,
     "metadata": {},
     "output_type": "execute_result"
    }
   ],
   "source": [
    "\n",
    "y_train.shape"
   ]
  },
  {
   "cell_type": "code",
   "execution_count": 70,
   "metadata": {},
   "outputs": [
    {
     "data": {
      "text/plain": [
       "(23, 2)"
      ]
     },
     "execution_count": 70,
     "metadata": {},
     "output_type": "execute_result"
    }
   ],
   "source": [
    "X_test.shape"
   ]
  },
  {
   "cell_type": "code",
   "execution_count": 71,
   "metadata": {},
   "outputs": [
    {
     "data": {
      "text/plain": [
       "(23,)"
      ]
     },
     "execution_count": 71,
     "metadata": {},
     "output_type": "execute_result"
    }
   ],
   "source": [
    "y_test.shape"
   ]
  },
  {
   "cell_type": "code",
   "execution_count": 72,
   "metadata": {},
   "outputs": [],
   "source": [
    "model2=LinearRegression()"
   ]
  },
  {
   "cell_type": "code",
   "execution_count": 73,
   "metadata": {},
   "outputs": [
    {
     "data": {
      "text/html": [
       "<style>#sk-container-id-2 {color: black;}#sk-container-id-2 pre{padding: 0;}#sk-container-id-2 div.sk-toggleable {background-color: white;}#sk-container-id-2 label.sk-toggleable__label {cursor: pointer;display: block;width: 100%;margin-bottom: 0;padding: 0.3em;box-sizing: border-box;text-align: center;}#sk-container-id-2 label.sk-toggleable__label-arrow:before {content: \"▸\";float: left;margin-right: 0.25em;color: #696969;}#sk-container-id-2 label.sk-toggleable__label-arrow:hover:before {color: black;}#sk-container-id-2 div.sk-estimator:hover label.sk-toggleable__label-arrow:before {color: black;}#sk-container-id-2 div.sk-toggleable__content {max-height: 0;max-width: 0;overflow: hidden;text-align: left;background-color: #f0f8ff;}#sk-container-id-2 div.sk-toggleable__content pre {margin: 0.2em;color: black;border-radius: 0.25em;background-color: #f0f8ff;}#sk-container-id-2 input.sk-toggleable__control:checked~div.sk-toggleable__content {max-height: 200px;max-width: 100%;overflow: auto;}#sk-container-id-2 input.sk-toggleable__control:checked~label.sk-toggleable__label-arrow:before {content: \"▾\";}#sk-container-id-2 div.sk-estimator input.sk-toggleable__control:checked~label.sk-toggleable__label {background-color: #d4ebff;}#sk-container-id-2 div.sk-label input.sk-toggleable__control:checked~label.sk-toggleable__label {background-color: #d4ebff;}#sk-container-id-2 input.sk-hidden--visually {border: 0;clip: rect(1px 1px 1px 1px);clip: rect(1px, 1px, 1px, 1px);height: 1px;margin: -1px;overflow: hidden;padding: 0;position: absolute;width: 1px;}#sk-container-id-2 div.sk-estimator {font-family: monospace;background-color: #f0f8ff;border: 1px dotted black;border-radius: 0.25em;box-sizing: border-box;margin-bottom: 0.5em;}#sk-container-id-2 div.sk-estimator:hover {background-color: #d4ebff;}#sk-container-id-2 div.sk-parallel-item::after {content: \"\";width: 100%;border-bottom: 1px solid gray;flex-grow: 1;}#sk-container-id-2 div.sk-label:hover label.sk-toggleable__label {background-color: #d4ebff;}#sk-container-id-2 div.sk-serial::before {content: \"\";position: absolute;border-left: 1px solid gray;box-sizing: border-box;top: 0;bottom: 0;left: 50%;z-index: 0;}#sk-container-id-2 div.sk-serial {display: flex;flex-direction: column;align-items: center;background-color: white;padding-right: 0.2em;padding-left: 0.2em;position: relative;}#sk-container-id-2 div.sk-item {position: relative;z-index: 1;}#sk-container-id-2 div.sk-parallel {display: flex;align-items: stretch;justify-content: center;background-color: white;position: relative;}#sk-container-id-2 div.sk-item::before, #sk-container-id-2 div.sk-parallel-item::before {content: \"\";position: absolute;border-left: 1px solid gray;box-sizing: border-box;top: 0;bottom: 0;left: 50%;z-index: -1;}#sk-container-id-2 div.sk-parallel-item {display: flex;flex-direction: column;z-index: 1;position: relative;background-color: white;}#sk-container-id-2 div.sk-parallel-item:first-child::after {align-self: flex-end;width: 50%;}#sk-container-id-2 div.sk-parallel-item:last-child::after {align-self: flex-start;width: 50%;}#sk-container-id-2 div.sk-parallel-item:only-child::after {width: 0;}#sk-container-id-2 div.sk-dashed-wrapped {border: 1px dashed gray;margin: 0 0.4em 0.5em 0.4em;box-sizing: border-box;padding-bottom: 0.4em;background-color: white;}#sk-container-id-2 div.sk-label label {font-family: monospace;font-weight: bold;display: inline-block;line-height: 1.2em;}#sk-container-id-2 div.sk-label-container {text-align: center;}#sk-container-id-2 div.sk-container {/* jupyter's `normalize.less` sets `[hidden] { display: none; }` but bootstrap.min.css set `[hidden] { display: none !important; }` so we also need the `!important` here to be able to override the default hidden behavior on the sphinx rendered scikit-learn.org. See: https://github.com/scikit-learn/scikit-learn/issues/21755 */display: inline-block !important;position: relative;}#sk-container-id-2 div.sk-text-repr-fallback {display: none;}</style><div id=\"sk-container-id-2\" class=\"sk-top-container\"><div class=\"sk-text-repr-fallback\"><pre>LinearRegression()</pre><b>In a Jupyter environment, please rerun this cell to show the HTML representation or trust the notebook. <br />On GitHub, the HTML representation is unable to render, please try loading this page with nbviewer.org.</b></div><div class=\"sk-container\" hidden><div class=\"sk-item\"><div class=\"sk-estimator sk-toggleable\"><input class=\"sk-toggleable__control sk-hidden--visually\" id=\"sk-estimator-id-2\" type=\"checkbox\" checked><label for=\"sk-estimator-id-2\" class=\"sk-toggleable__label sk-toggleable__label-arrow\">LinearRegression</label><div class=\"sk-toggleable__content\"><pre>LinearRegression()</pre></div></div></div></div></div>"
      ],
      "text/plain": [
       "LinearRegression()"
      ]
     },
     "execution_count": 73,
     "metadata": {},
     "output_type": "execute_result"
    }
   ],
   "source": [
    "model2.fit(X_train,y_train)"
   ]
  },
  {
   "cell_type": "code",
   "execution_count": 74,
   "metadata": {},
   "outputs": [
    {
     "data": {
      "text/plain": [
       "0.8519862228578279"
      ]
     },
     "execution_count": 74,
     "metadata": {},
     "output_type": "execute_result"
    }
   ],
   "source": [
    "model2.score(X_train,y_train)"
   ]
  },
  {
   "cell_type": "code",
   "execution_count": 77,
   "metadata": {},
   "outputs": [],
   "source": [
    "y_pred2=model2.predict(X_test)\n",
    " "
   ]
  },
  {
   "cell_type": "code",
   "execution_count": 78,
   "metadata": {},
   "outputs": [
    {
     "data": {
      "text/plain": [
       "array([ -95.69913517,  -17.28502023, -130.87108883,    3.05986384,\n",
       "       -163.33997608,   78.54961917,  -92.35688969, -102.70235394,\n",
       "        172.34666297,  -46.39490229,   87.51813409,  -85.13455978,\n",
       "          1.60702624, -132.0375274 ,   46.53498822,  131.95176739,\n",
       "        114.50987433,   57.88188183,   97.35825317, -121.88511277,\n",
       "        -24.78439651,  -29.74996657,   12.94991343])"
      ]
     },
     "execution_count": 78,
     "metadata": {},
     "output_type": "execute_result"
    }
   ],
   "source": [
    "y_pred2"
   ]
  },
  {
   "cell_type": "code",
   "execution_count": 79,
   "metadata": {},
   "outputs": [
    {
     "data": {
      "text/plain": [
       "array([-114.49270856,  -11.60353308, -156.38892278,  -31.62760972,\n",
       "       -200.03700676,  148.2002981 ,  -68.33476486, -129.68254595,\n",
       "        193.40794602,  -62.86303665,  117.05675848,  -76.74739011,\n",
       "         48.04653994, -176.66554742,   46.28792271,  133.02208909,\n",
       "        106.8702579 ,   82.50177923,  119.94027347, -160.47019521,\n",
       "         38.17610702,  -24.12563168,    8.1383176 ])"
      ]
     },
     "execution_count": 79,
     "metadata": {},
     "output_type": "execute_result"
    }
   ],
   "source": [
    "y_test"
   ]
  },
  {
   "cell_type": "code",
   "execution_count": 85,
   "metadata": {},
   "outputs": [
    {
     "data": {
      "text/plain": [
       "0.9248073218583465"
      ]
     },
     "execution_count": 85,
     "metadata": {},
     "output_type": "execute_result"
    }
   ],
   "source": [
    "r2_score(y_test,y_pred2)"
   ]
  },
  {
   "cell_type": "code",
   "execution_count": 81,
   "metadata": {},
   "outputs": [
    {
     "data": {
      "text/plain": [
       "array([75.95818617, 51.81077304])"
      ]
     },
     "execution_count": 81,
     "metadata": {},
     "output_type": "execute_result"
    }
   ],
   "source": [
    "model2.coef_"
   ]
  },
  {
   "cell_type": "code",
   "execution_count": 82,
   "metadata": {},
   "outputs": [
    {
     "data": {
      "text/plain": [
       "1.6543081605715355"
      ]
     },
     "execution_count": 82,
     "metadata": {},
     "output_type": "execute_result"
    }
   ],
   "source": [
    "model2.intercept_"
   ]
  },
  {
   "cell_type": "code",
   "execution_count": 83,
   "metadata": {},
   "outputs": [],
   "source": [
    "from sklearn.metrics import mean_absolute_error,mean_squared_error"
   ]
  },
  {
   "cell_type": "code",
   "execution_count": 84,
   "metadata": {},
   "outputs": [
    {
     "data": {
      "text/plain": [
       "966.6068233381019"
      ]
     },
     "execution_count": 84,
     "metadata": {},
     "output_type": "execute_result"
    }
   ],
   "source": [
    "mean_squared_error(y_test,y_pred2)"
   ]
  },
  {
   "cell_type": "code",
   "execution_count": 86,
   "metadata": {},
   "outputs": [
    {
     "data": {
      "text/plain": [
       "25.073633813551016"
      ]
     },
     "execution_count": 86,
     "metadata": {},
     "output_type": "execute_result"
    }
   ],
   "source": [
    "mean_absolute_error(y_test,y_pred2)"
   ]
  },
  {
   "cell_type": "code",
   "execution_count": null,
   "metadata": {},
   "outputs": [],
   "source": []
  }
 ],
 "metadata": {
  "kernelspec": {
   "display_name": "Python 3",
   "language": "python",
   "name": "python3"
  },
  "language_info": {
   "codemirror_mode": {
    "name": "ipython",
    "version": 3
   },
   "file_extension": ".py",
   "mimetype": "text/x-python",
   "name": "python",
   "nbconvert_exporter": "python",
   "pygments_lexer": "ipython3",
   "version": "3.9.0"
  }
 },
 "nbformat": 4,
 "nbformat_minor": 2
}
